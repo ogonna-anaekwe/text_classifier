{
  "nbformat": 4,
  "nbformat_minor": 0,
  "metadata": {
    "colab": {
      "name": "Text Classification with Movie Reviews (Data Eng.).ipynb",
      "provenance": [],
      "collapsed_sections": [],
      "authorship_tag": "ABX9TyN29zA2uAtEx9PJJFG06H+g",
      "include_colab_link": true
    },
    "kernelspec": {
      "name": "python3",
      "display_name": "Python 3"
    },
    "accelerator": "GPU",
    "widgets": {
      "application/vnd.jupyter.widget-state+json": {
        "cdd862d4a0bb481f8897ba5a0ea6ea33": {
          "model_module": "@jupyter-widgets/controls",
          "model_name": "HBoxModel",
          "state": {
            "_view_name": "HBoxView",
            "_dom_classes": [],
            "_model_name": "HBoxModel",
            "_view_module": "@jupyter-widgets/controls",
            "_model_module_version": "1.5.0",
            "_view_count": null,
            "_view_module_version": "1.5.0",
            "box_style": "",
            "layout": "IPY_MODEL_4660244a95e5402eaeaf3d200fda520d",
            "_model_module": "@jupyter-widgets/controls",
            "children": [
              "IPY_MODEL_7d02abce7e584ce68b5dc9ffdd87f610",
              "IPY_MODEL_71f13cdd87fe475281808d1180236f78"
            ]
          }
        },
        "4660244a95e5402eaeaf3d200fda520d": {
          "model_module": "@jupyter-widgets/base",
          "model_name": "LayoutModel",
          "state": {
            "_view_name": "LayoutView",
            "grid_template_rows": null,
            "right": null,
            "justify_content": null,
            "_view_module": "@jupyter-widgets/base",
            "overflow": null,
            "_model_module_version": "1.2.0",
            "_view_count": null,
            "flex_flow": null,
            "width": null,
            "min_width": null,
            "border": null,
            "align_items": null,
            "bottom": null,
            "_model_module": "@jupyter-widgets/base",
            "top": null,
            "grid_column": null,
            "overflow_y": null,
            "overflow_x": null,
            "grid_auto_flow": null,
            "grid_area": null,
            "grid_template_columns": null,
            "flex": null,
            "_model_name": "LayoutModel",
            "justify_items": null,
            "grid_row": null,
            "max_height": null,
            "align_content": null,
            "visibility": null,
            "align_self": null,
            "height": null,
            "min_height": null,
            "padding": null,
            "grid_auto_rows": null,
            "grid_gap": null,
            "max_width": null,
            "order": null,
            "_view_module_version": "1.2.0",
            "grid_template_areas": null,
            "object_position": null,
            "object_fit": null,
            "grid_auto_columns": null,
            "margin": null,
            "display": null,
            "left": null
          }
        },
        "7d02abce7e584ce68b5dc9ffdd87f610": {
          "model_module": "@jupyter-widgets/controls",
          "model_name": "FloatProgressModel",
          "state": {
            "_view_name": "ProgressView",
            "style": "IPY_MODEL_f8d52de15901419a896b852f033e2454",
            "_dom_classes": [],
            "description": "Dl Completed...: 100%",
            "_model_name": "FloatProgressModel",
            "bar_style": "success",
            "max": 1,
            "_view_module": "@jupyter-widgets/controls",
            "_model_module_version": "1.5.0",
            "value": 1,
            "_view_count": null,
            "_view_module_version": "1.5.0",
            "orientation": "horizontal",
            "min": 0,
            "description_tooltip": null,
            "_model_module": "@jupyter-widgets/controls",
            "layout": "IPY_MODEL_e4d2f253ca344595a03a66183e9f1221"
          }
        },
        "71f13cdd87fe475281808d1180236f78": {
          "model_module": "@jupyter-widgets/controls",
          "model_name": "HTMLModel",
          "state": {
            "_view_name": "HTMLView",
            "style": "IPY_MODEL_88dbadc7404f402d98f023200b221fa5",
            "_dom_classes": [],
            "description": "",
            "_model_name": "HTMLModel",
            "placeholder": "​",
            "_view_module": "@jupyter-widgets/controls",
            "_model_module_version": "1.5.0",
            "value": " 1/1 [00:01&lt;00:00,  1.84s/ url]",
            "_view_count": null,
            "_view_module_version": "1.5.0",
            "description_tooltip": null,
            "_model_module": "@jupyter-widgets/controls",
            "layout": "IPY_MODEL_10eedab498d44cc8ac18f8d87eb58a46"
          }
        },
        "f8d52de15901419a896b852f033e2454": {
          "model_module": "@jupyter-widgets/controls",
          "model_name": "ProgressStyleModel",
          "state": {
            "_view_name": "StyleView",
            "_model_name": "ProgressStyleModel",
            "description_width": "initial",
            "_view_module": "@jupyter-widgets/base",
            "_model_module_version": "1.5.0",
            "_view_count": null,
            "_view_module_version": "1.2.0",
            "bar_color": null,
            "_model_module": "@jupyter-widgets/controls"
          }
        },
        "e4d2f253ca344595a03a66183e9f1221": {
          "model_module": "@jupyter-widgets/base",
          "model_name": "LayoutModel",
          "state": {
            "_view_name": "LayoutView",
            "grid_template_rows": null,
            "right": null,
            "justify_content": null,
            "_view_module": "@jupyter-widgets/base",
            "overflow": null,
            "_model_module_version": "1.2.0",
            "_view_count": null,
            "flex_flow": null,
            "width": null,
            "min_width": null,
            "border": null,
            "align_items": null,
            "bottom": null,
            "_model_module": "@jupyter-widgets/base",
            "top": null,
            "grid_column": null,
            "overflow_y": null,
            "overflow_x": null,
            "grid_auto_flow": null,
            "grid_area": null,
            "grid_template_columns": null,
            "flex": null,
            "_model_name": "LayoutModel",
            "justify_items": null,
            "grid_row": null,
            "max_height": null,
            "align_content": null,
            "visibility": null,
            "align_self": null,
            "height": null,
            "min_height": null,
            "padding": null,
            "grid_auto_rows": null,
            "grid_gap": null,
            "max_width": null,
            "order": null,
            "_view_module_version": "1.2.0",
            "grid_template_areas": null,
            "object_position": null,
            "object_fit": null,
            "grid_auto_columns": null,
            "margin": null,
            "display": null,
            "left": null
          }
        },
        "88dbadc7404f402d98f023200b221fa5": {
          "model_module": "@jupyter-widgets/controls",
          "model_name": "DescriptionStyleModel",
          "state": {
            "_view_name": "StyleView",
            "_model_name": "DescriptionStyleModel",
            "description_width": "",
            "_view_module": "@jupyter-widgets/base",
            "_model_module_version": "1.5.0",
            "_view_count": null,
            "_view_module_version": "1.2.0",
            "_model_module": "@jupyter-widgets/controls"
          }
        },
        "10eedab498d44cc8ac18f8d87eb58a46": {
          "model_module": "@jupyter-widgets/base",
          "model_name": "LayoutModel",
          "state": {
            "_view_name": "LayoutView",
            "grid_template_rows": null,
            "right": null,
            "justify_content": null,
            "_view_module": "@jupyter-widgets/base",
            "overflow": null,
            "_model_module_version": "1.2.0",
            "_view_count": null,
            "flex_flow": null,
            "width": null,
            "min_width": null,
            "border": null,
            "align_items": null,
            "bottom": null,
            "_model_module": "@jupyter-widgets/base",
            "top": null,
            "grid_column": null,
            "overflow_y": null,
            "overflow_x": null,
            "grid_auto_flow": null,
            "grid_area": null,
            "grid_template_columns": null,
            "flex": null,
            "_model_name": "LayoutModel",
            "justify_items": null,
            "grid_row": null,
            "max_height": null,
            "align_content": null,
            "visibility": null,
            "align_self": null,
            "height": null,
            "min_height": null,
            "padding": null,
            "grid_auto_rows": null,
            "grid_gap": null,
            "max_width": null,
            "order": null,
            "_view_module_version": "1.2.0",
            "grid_template_areas": null,
            "object_position": null,
            "object_fit": null,
            "grid_auto_columns": null,
            "margin": null,
            "display": null,
            "left": null
          }
        },
        "649ff50ee6dd4ba5a07d1238ead97c8f": {
          "model_module": "@jupyter-widgets/controls",
          "model_name": "HBoxModel",
          "state": {
            "_view_name": "HBoxView",
            "_dom_classes": [],
            "_model_name": "HBoxModel",
            "_view_module": "@jupyter-widgets/controls",
            "_model_module_version": "1.5.0",
            "_view_count": null,
            "_view_module_version": "1.5.0",
            "box_style": "",
            "layout": "IPY_MODEL_f6619c3d93164633bb1235a5837303ad",
            "_model_module": "@jupyter-widgets/controls",
            "children": [
              "IPY_MODEL_e488cc926fd54ecd9f0ab472f46303a7",
              "IPY_MODEL_adc51d887a0645789df15978e8f8f419"
            ]
          }
        },
        "f6619c3d93164633bb1235a5837303ad": {
          "model_module": "@jupyter-widgets/base",
          "model_name": "LayoutModel",
          "state": {
            "_view_name": "LayoutView",
            "grid_template_rows": null,
            "right": null,
            "justify_content": null,
            "_view_module": "@jupyter-widgets/base",
            "overflow": null,
            "_model_module_version": "1.2.0",
            "_view_count": null,
            "flex_flow": null,
            "width": null,
            "min_width": null,
            "border": null,
            "align_items": null,
            "bottom": null,
            "_model_module": "@jupyter-widgets/base",
            "top": null,
            "grid_column": null,
            "overflow_y": null,
            "overflow_x": null,
            "grid_auto_flow": null,
            "grid_area": null,
            "grid_template_columns": null,
            "flex": null,
            "_model_name": "LayoutModel",
            "justify_items": null,
            "grid_row": null,
            "max_height": null,
            "align_content": null,
            "visibility": null,
            "align_self": null,
            "height": null,
            "min_height": null,
            "padding": null,
            "grid_auto_rows": null,
            "grid_gap": null,
            "max_width": null,
            "order": null,
            "_view_module_version": "1.2.0",
            "grid_template_areas": null,
            "object_position": null,
            "object_fit": null,
            "grid_auto_columns": null,
            "margin": null,
            "display": null,
            "left": null
          }
        },
        "e488cc926fd54ecd9f0ab472f46303a7": {
          "model_module": "@jupyter-widgets/controls",
          "model_name": "FloatProgressModel",
          "state": {
            "_view_name": "ProgressView",
            "style": "IPY_MODEL_e438eccac28d42c592e01fd2f8772f38",
            "_dom_classes": [],
            "description": "Dl Size...: 100%",
            "_model_name": "FloatProgressModel",
            "bar_style": "success",
            "max": 1,
            "_view_module": "@jupyter-widgets/controls",
            "_model_module_version": "1.5.0",
            "value": 1,
            "_view_count": null,
            "_view_module_version": "1.5.0",
            "orientation": "horizontal",
            "min": 0,
            "description_tooltip": null,
            "_model_module": "@jupyter-widgets/controls",
            "layout": "IPY_MODEL_3faa759ff5ef4cf4a6e2355c59fb01b6"
          }
        },
        "adc51d887a0645789df15978e8f8f419": {
          "model_module": "@jupyter-widgets/controls",
          "model_name": "HTMLModel",
          "state": {
            "_view_name": "HTMLView",
            "style": "IPY_MODEL_f96aa4a6994443d2a4ce89e67c7f3cd1",
            "_dom_classes": [],
            "description": "",
            "_model_name": "HTMLModel",
            "placeholder": "​",
            "_view_module": "@jupyter-widgets/controls",
            "_model_module_version": "1.5.0",
            "value": " 80/80 [00:01&lt;00:00, 44.44 MiB/s]",
            "_view_count": null,
            "_view_module_version": "1.5.0",
            "description_tooltip": null,
            "_model_module": "@jupyter-widgets/controls",
            "layout": "IPY_MODEL_fdf76f2fd1ca444184ddde4095685b9a"
          }
        },
        "e438eccac28d42c592e01fd2f8772f38": {
          "model_module": "@jupyter-widgets/controls",
          "model_name": "ProgressStyleModel",
          "state": {
            "_view_name": "StyleView",
            "_model_name": "ProgressStyleModel",
            "description_width": "initial",
            "_view_module": "@jupyter-widgets/base",
            "_model_module_version": "1.5.0",
            "_view_count": null,
            "_view_module_version": "1.2.0",
            "bar_color": null,
            "_model_module": "@jupyter-widgets/controls"
          }
        },
        "3faa759ff5ef4cf4a6e2355c59fb01b6": {
          "model_module": "@jupyter-widgets/base",
          "model_name": "LayoutModel",
          "state": {
            "_view_name": "LayoutView",
            "grid_template_rows": null,
            "right": null,
            "justify_content": null,
            "_view_module": "@jupyter-widgets/base",
            "overflow": null,
            "_model_module_version": "1.2.0",
            "_view_count": null,
            "flex_flow": null,
            "width": null,
            "min_width": null,
            "border": null,
            "align_items": null,
            "bottom": null,
            "_model_module": "@jupyter-widgets/base",
            "top": null,
            "grid_column": null,
            "overflow_y": null,
            "overflow_x": null,
            "grid_auto_flow": null,
            "grid_area": null,
            "grid_template_columns": null,
            "flex": null,
            "_model_name": "LayoutModel",
            "justify_items": null,
            "grid_row": null,
            "max_height": null,
            "align_content": null,
            "visibility": null,
            "align_self": null,
            "height": null,
            "min_height": null,
            "padding": null,
            "grid_auto_rows": null,
            "grid_gap": null,
            "max_width": null,
            "order": null,
            "_view_module_version": "1.2.0",
            "grid_template_areas": null,
            "object_position": null,
            "object_fit": null,
            "grid_auto_columns": null,
            "margin": null,
            "display": null,
            "left": null
          }
        },
        "f96aa4a6994443d2a4ce89e67c7f3cd1": {
          "model_module": "@jupyter-widgets/controls",
          "model_name": "DescriptionStyleModel",
          "state": {
            "_view_name": "StyleView",
            "_model_name": "DescriptionStyleModel",
            "description_width": "",
            "_view_module": "@jupyter-widgets/base",
            "_model_module_version": "1.5.0",
            "_view_count": null,
            "_view_module_version": "1.2.0",
            "_model_module": "@jupyter-widgets/controls"
          }
        },
        "fdf76f2fd1ca444184ddde4095685b9a": {
          "model_module": "@jupyter-widgets/base",
          "model_name": "LayoutModel",
          "state": {
            "_view_name": "LayoutView",
            "grid_template_rows": null,
            "right": null,
            "justify_content": null,
            "_view_module": "@jupyter-widgets/base",
            "overflow": null,
            "_model_module_version": "1.2.0",
            "_view_count": null,
            "flex_flow": null,
            "width": null,
            "min_width": null,
            "border": null,
            "align_items": null,
            "bottom": null,
            "_model_module": "@jupyter-widgets/base",
            "top": null,
            "grid_column": null,
            "overflow_y": null,
            "overflow_x": null,
            "grid_auto_flow": null,
            "grid_area": null,
            "grid_template_columns": null,
            "flex": null,
            "_model_name": "LayoutModel",
            "justify_items": null,
            "grid_row": null,
            "max_height": null,
            "align_content": null,
            "visibility": null,
            "align_self": null,
            "height": null,
            "min_height": null,
            "padding": null,
            "grid_auto_rows": null,
            "grid_gap": null,
            "max_width": null,
            "order": null,
            "_view_module_version": "1.2.0",
            "grid_template_areas": null,
            "object_position": null,
            "object_fit": null,
            "grid_auto_columns": null,
            "margin": null,
            "display": null,
            "left": null
          }
        },
        "793a965acf0440fc9f07e9000c817cc2": {
          "model_module": "@jupyter-widgets/controls",
          "model_name": "HBoxModel",
          "state": {
            "_view_name": "HBoxView",
            "_dom_classes": [],
            "_model_name": "HBoxModel",
            "_view_module": "@jupyter-widgets/controls",
            "_model_module_version": "1.5.0",
            "_view_count": null,
            "_view_module_version": "1.5.0",
            "box_style": "",
            "layout": "IPY_MODEL_057f3dc53f374e7e9aea0e13864fd48f",
            "_model_module": "@jupyter-widgets/controls",
            "children": [
              "IPY_MODEL_2136b48987c34e8ea4f2388b93665afc",
              "IPY_MODEL_1b97fc1122594ec8bc9ef1cf2ba834ca"
            ]
          }
        },
        "057f3dc53f374e7e9aea0e13864fd48f": {
          "model_module": "@jupyter-widgets/base",
          "model_name": "LayoutModel",
          "state": {
            "_view_name": "LayoutView",
            "grid_template_rows": null,
            "right": null,
            "justify_content": null,
            "_view_module": "@jupyter-widgets/base",
            "overflow": null,
            "_model_module_version": "1.2.0",
            "_view_count": null,
            "flex_flow": null,
            "width": null,
            "min_width": null,
            "border": null,
            "align_items": null,
            "bottom": null,
            "_model_module": "@jupyter-widgets/base",
            "top": null,
            "grid_column": null,
            "overflow_y": null,
            "overflow_x": null,
            "grid_auto_flow": null,
            "grid_area": null,
            "grid_template_columns": null,
            "flex": null,
            "_model_name": "LayoutModel",
            "justify_items": null,
            "grid_row": null,
            "max_height": null,
            "align_content": null,
            "visibility": null,
            "align_self": null,
            "height": null,
            "min_height": null,
            "padding": null,
            "grid_auto_rows": null,
            "grid_gap": null,
            "max_width": null,
            "order": null,
            "_view_module_version": "1.2.0",
            "grid_template_areas": null,
            "object_position": null,
            "object_fit": null,
            "grid_auto_columns": null,
            "margin": null,
            "display": null,
            "left": null
          }
        },
        "2136b48987c34e8ea4f2388b93665afc": {
          "model_module": "@jupyter-widgets/controls",
          "model_name": "FloatProgressModel",
          "state": {
            "_view_name": "ProgressView",
            "style": "IPY_MODEL_0bc5e708879a4bbabf8ffe539a2294a5",
            "_dom_classes": [],
            "description": "",
            "_model_name": "FloatProgressModel",
            "bar_style": "info",
            "max": 1,
            "_view_module": "@jupyter-widgets/controls",
            "_model_module_version": "1.5.0",
            "value": 1,
            "_view_count": null,
            "_view_module_version": "1.5.0",
            "orientation": "horizontal",
            "min": 0,
            "description_tooltip": null,
            "_model_module": "@jupyter-widgets/controls",
            "layout": "IPY_MODEL_3d0ecb74f1354674bec2983294018b04"
          }
        },
        "1b97fc1122594ec8bc9ef1cf2ba834ca": {
          "model_module": "@jupyter-widgets/controls",
          "model_name": "HTMLModel",
          "state": {
            "_view_name": "HTMLView",
            "style": "IPY_MODEL_9f0b0f46410045fc9eac137ba65d94e3",
            "_dom_classes": [],
            "description": "",
            "_model_name": "HTMLModel",
            "placeholder": "​",
            "_view_module": "@jupyter-widgets/controls",
            "_model_module_version": "1.5.0",
            "value": " 25000/0 [00:12&lt;00:00, 3699.82 examples/s]",
            "_view_count": null,
            "_view_module_version": "1.5.0",
            "description_tooltip": null,
            "_model_module": "@jupyter-widgets/controls",
            "layout": "IPY_MODEL_c5494c23a97c4aaca18c4f50f41a10b3"
          }
        },
        "0bc5e708879a4bbabf8ffe539a2294a5": {
          "model_module": "@jupyter-widgets/controls",
          "model_name": "ProgressStyleModel",
          "state": {
            "_view_name": "StyleView",
            "_model_name": "ProgressStyleModel",
            "description_width": "initial",
            "_view_module": "@jupyter-widgets/base",
            "_model_module_version": "1.5.0",
            "_view_count": null,
            "_view_module_version": "1.2.0",
            "bar_color": null,
            "_model_module": "@jupyter-widgets/controls"
          }
        },
        "3d0ecb74f1354674bec2983294018b04": {
          "model_module": "@jupyter-widgets/base",
          "model_name": "LayoutModel",
          "state": {
            "_view_name": "LayoutView",
            "grid_template_rows": null,
            "right": null,
            "justify_content": null,
            "_view_module": "@jupyter-widgets/base",
            "overflow": null,
            "_model_module_version": "1.2.0",
            "_view_count": null,
            "flex_flow": null,
            "width": null,
            "min_width": null,
            "border": null,
            "align_items": null,
            "bottom": null,
            "_model_module": "@jupyter-widgets/base",
            "top": null,
            "grid_column": null,
            "overflow_y": null,
            "overflow_x": null,
            "grid_auto_flow": null,
            "grid_area": null,
            "grid_template_columns": null,
            "flex": null,
            "_model_name": "LayoutModel",
            "justify_items": null,
            "grid_row": null,
            "max_height": null,
            "align_content": null,
            "visibility": null,
            "align_self": null,
            "height": null,
            "min_height": null,
            "padding": null,
            "grid_auto_rows": null,
            "grid_gap": null,
            "max_width": null,
            "order": null,
            "_view_module_version": "1.2.0",
            "grid_template_areas": null,
            "object_position": null,
            "object_fit": null,
            "grid_auto_columns": null,
            "margin": null,
            "display": null,
            "left": null
          }
        },
        "9f0b0f46410045fc9eac137ba65d94e3": {
          "model_module": "@jupyter-widgets/controls",
          "model_name": "DescriptionStyleModel",
          "state": {
            "_view_name": "StyleView",
            "_model_name": "DescriptionStyleModel",
            "description_width": "",
            "_view_module": "@jupyter-widgets/base",
            "_model_module_version": "1.5.0",
            "_view_count": null,
            "_view_module_version": "1.2.0",
            "_model_module": "@jupyter-widgets/controls"
          }
        },
        "c5494c23a97c4aaca18c4f50f41a10b3": {
          "model_module": "@jupyter-widgets/base",
          "model_name": "LayoutModel",
          "state": {
            "_view_name": "LayoutView",
            "grid_template_rows": null,
            "right": null,
            "justify_content": null,
            "_view_module": "@jupyter-widgets/base",
            "overflow": null,
            "_model_module_version": "1.2.0",
            "_view_count": null,
            "flex_flow": null,
            "width": null,
            "min_width": null,
            "border": null,
            "align_items": null,
            "bottom": null,
            "_model_module": "@jupyter-widgets/base",
            "top": null,
            "grid_column": null,
            "overflow_y": null,
            "overflow_x": null,
            "grid_auto_flow": null,
            "grid_area": null,
            "grid_template_columns": null,
            "flex": null,
            "_model_name": "LayoutModel",
            "justify_items": null,
            "grid_row": null,
            "max_height": null,
            "align_content": null,
            "visibility": null,
            "align_self": null,
            "height": null,
            "min_height": null,
            "padding": null,
            "grid_auto_rows": null,
            "grid_gap": null,
            "max_width": null,
            "order": null,
            "_view_module_version": "1.2.0",
            "grid_template_areas": null,
            "object_position": null,
            "object_fit": null,
            "grid_auto_columns": null,
            "margin": null,
            "display": null,
            "left": null
          }
        },
        "ee92a765c9dc41f8b4f2948f0dfae2d0": {
          "model_module": "@jupyter-widgets/controls",
          "model_name": "HBoxModel",
          "state": {
            "_view_name": "HBoxView",
            "_dom_classes": [],
            "_model_name": "HBoxModel",
            "_view_module": "@jupyter-widgets/controls",
            "_model_module_version": "1.5.0",
            "_view_count": null,
            "_view_module_version": "1.5.0",
            "box_style": "",
            "layout": "IPY_MODEL_73d0ed763a8a4ac4bb5721e31d13a40b",
            "_model_module": "@jupyter-widgets/controls",
            "children": [
              "IPY_MODEL_c1f6b77062c548f787ef16f1aac3c1ae",
              "IPY_MODEL_cecd157566eb465e9163f6ff45b18fae"
            ]
          }
        },
        "73d0ed763a8a4ac4bb5721e31d13a40b": {
          "model_module": "@jupyter-widgets/base",
          "model_name": "LayoutModel",
          "state": {
            "_view_name": "LayoutView",
            "grid_template_rows": null,
            "right": null,
            "justify_content": null,
            "_view_module": "@jupyter-widgets/base",
            "overflow": null,
            "_model_module_version": "1.2.0",
            "_view_count": null,
            "flex_flow": null,
            "width": null,
            "min_width": null,
            "border": null,
            "align_items": null,
            "bottom": null,
            "_model_module": "@jupyter-widgets/base",
            "top": null,
            "grid_column": null,
            "overflow_y": null,
            "overflow_x": null,
            "grid_auto_flow": null,
            "grid_area": null,
            "grid_template_columns": null,
            "flex": null,
            "_model_name": "LayoutModel",
            "justify_items": null,
            "grid_row": null,
            "max_height": null,
            "align_content": null,
            "visibility": null,
            "align_self": null,
            "height": null,
            "min_height": null,
            "padding": null,
            "grid_auto_rows": null,
            "grid_gap": null,
            "max_width": null,
            "order": null,
            "_view_module_version": "1.2.0",
            "grid_template_areas": null,
            "object_position": null,
            "object_fit": null,
            "grid_auto_columns": null,
            "margin": null,
            "display": null,
            "left": null
          }
        },
        "c1f6b77062c548f787ef16f1aac3c1ae": {
          "model_module": "@jupyter-widgets/controls",
          "model_name": "FloatProgressModel",
          "state": {
            "_view_name": "ProgressView",
            "style": "IPY_MODEL_fc038e75a8a6491fbd715d5e513c6a6b",
            "_dom_classes": [],
            "description": " 54%",
            "_model_name": "FloatProgressModel",
            "bar_style": "danger",
            "max": 25000,
            "_view_module": "@jupyter-widgets/controls",
            "_model_module_version": "1.5.0",
            "value": 13546,
            "_view_count": null,
            "_view_module_version": "1.5.0",
            "orientation": "horizontal",
            "min": 0,
            "description_tooltip": null,
            "_model_module": "@jupyter-widgets/controls",
            "layout": "IPY_MODEL_040f298b7173486993f47e1fb8343520"
          }
        },
        "cecd157566eb465e9163f6ff45b18fae": {
          "model_module": "@jupyter-widgets/controls",
          "model_name": "HTMLModel",
          "state": {
            "_view_name": "HTMLView",
            "style": "IPY_MODEL_94b4853eb9784ec2b734593487a4ed16",
            "_dom_classes": [],
            "description": "",
            "_model_name": "HTMLModel",
            "placeholder": "​",
            "_view_module": "@jupyter-widgets/controls",
            "_model_module_version": "1.5.0",
            "value": " 13546/25000 [00:00&lt;00:00, 135444.63 examples/s]",
            "_view_count": null,
            "_view_module_version": "1.5.0",
            "description_tooltip": null,
            "_model_module": "@jupyter-widgets/controls",
            "layout": "IPY_MODEL_92ef7cf3e09d4aa3b52cfc596eebfd38"
          }
        },
        "fc038e75a8a6491fbd715d5e513c6a6b": {
          "model_module": "@jupyter-widgets/controls",
          "model_name": "ProgressStyleModel",
          "state": {
            "_view_name": "StyleView",
            "_model_name": "ProgressStyleModel",
            "description_width": "initial",
            "_view_module": "@jupyter-widgets/base",
            "_model_module_version": "1.5.0",
            "_view_count": null,
            "_view_module_version": "1.2.0",
            "bar_color": null,
            "_model_module": "@jupyter-widgets/controls"
          }
        },
        "040f298b7173486993f47e1fb8343520": {
          "model_module": "@jupyter-widgets/base",
          "model_name": "LayoutModel",
          "state": {
            "_view_name": "LayoutView",
            "grid_template_rows": null,
            "right": null,
            "justify_content": null,
            "_view_module": "@jupyter-widgets/base",
            "overflow": null,
            "_model_module_version": "1.2.0",
            "_view_count": null,
            "flex_flow": null,
            "width": null,
            "min_width": null,
            "border": null,
            "align_items": null,
            "bottom": null,
            "_model_module": "@jupyter-widgets/base",
            "top": null,
            "grid_column": null,
            "overflow_y": null,
            "overflow_x": null,
            "grid_auto_flow": null,
            "grid_area": null,
            "grid_template_columns": null,
            "flex": null,
            "_model_name": "LayoutModel",
            "justify_items": null,
            "grid_row": null,
            "max_height": null,
            "align_content": null,
            "visibility": null,
            "align_self": null,
            "height": null,
            "min_height": null,
            "padding": null,
            "grid_auto_rows": null,
            "grid_gap": null,
            "max_width": null,
            "order": null,
            "_view_module_version": "1.2.0",
            "grid_template_areas": null,
            "object_position": null,
            "object_fit": null,
            "grid_auto_columns": null,
            "margin": null,
            "display": null,
            "left": null
          }
        },
        "94b4853eb9784ec2b734593487a4ed16": {
          "model_module": "@jupyter-widgets/controls",
          "model_name": "DescriptionStyleModel",
          "state": {
            "_view_name": "StyleView",
            "_model_name": "DescriptionStyleModel",
            "description_width": "",
            "_view_module": "@jupyter-widgets/base",
            "_model_module_version": "1.5.0",
            "_view_count": null,
            "_view_module_version": "1.2.0",
            "_model_module": "@jupyter-widgets/controls"
          }
        },
        "92ef7cf3e09d4aa3b52cfc596eebfd38": {
          "model_module": "@jupyter-widgets/base",
          "model_name": "LayoutModel",
          "state": {
            "_view_name": "LayoutView",
            "grid_template_rows": null,
            "right": null,
            "justify_content": null,
            "_view_module": "@jupyter-widgets/base",
            "overflow": null,
            "_model_module_version": "1.2.0",
            "_view_count": null,
            "flex_flow": null,
            "width": null,
            "min_width": null,
            "border": null,
            "align_items": null,
            "bottom": null,
            "_model_module": "@jupyter-widgets/base",
            "top": null,
            "grid_column": null,
            "overflow_y": null,
            "overflow_x": null,
            "grid_auto_flow": null,
            "grid_area": null,
            "grid_template_columns": null,
            "flex": null,
            "_model_name": "LayoutModel",
            "justify_items": null,
            "grid_row": null,
            "max_height": null,
            "align_content": null,
            "visibility": null,
            "align_self": null,
            "height": null,
            "min_height": null,
            "padding": null,
            "grid_auto_rows": null,
            "grid_gap": null,
            "max_width": null,
            "order": null,
            "_view_module_version": "1.2.0",
            "grid_template_areas": null,
            "object_position": null,
            "object_fit": null,
            "grid_auto_columns": null,
            "margin": null,
            "display": null,
            "left": null
          }
        },
        "10ce0d6bbec54e87b0b7bb120edd5dae": {
          "model_module": "@jupyter-widgets/controls",
          "model_name": "HBoxModel",
          "state": {
            "_view_name": "HBoxView",
            "_dom_classes": [],
            "_model_name": "HBoxModel",
            "_view_module": "@jupyter-widgets/controls",
            "_model_module_version": "1.5.0",
            "_view_count": null,
            "_view_module_version": "1.5.0",
            "box_style": "",
            "layout": "IPY_MODEL_aef601c3c3b749c2a8a53c611cf42cc4",
            "_model_module": "@jupyter-widgets/controls",
            "children": [
              "IPY_MODEL_00746368db7941dfbbbb2a567f2cea61",
              "IPY_MODEL_242eefef78d543feb13966b479b91500"
            ]
          }
        },
        "aef601c3c3b749c2a8a53c611cf42cc4": {
          "model_module": "@jupyter-widgets/base",
          "model_name": "LayoutModel",
          "state": {
            "_view_name": "LayoutView",
            "grid_template_rows": null,
            "right": null,
            "justify_content": null,
            "_view_module": "@jupyter-widgets/base",
            "overflow": null,
            "_model_module_version": "1.2.0",
            "_view_count": null,
            "flex_flow": null,
            "width": null,
            "min_width": null,
            "border": null,
            "align_items": null,
            "bottom": null,
            "_model_module": "@jupyter-widgets/base",
            "top": null,
            "grid_column": null,
            "overflow_y": null,
            "overflow_x": null,
            "grid_auto_flow": null,
            "grid_area": null,
            "grid_template_columns": null,
            "flex": null,
            "_model_name": "LayoutModel",
            "justify_items": null,
            "grid_row": null,
            "max_height": null,
            "align_content": null,
            "visibility": null,
            "align_self": null,
            "height": null,
            "min_height": null,
            "padding": null,
            "grid_auto_rows": null,
            "grid_gap": null,
            "max_width": null,
            "order": null,
            "_view_module_version": "1.2.0",
            "grid_template_areas": null,
            "object_position": null,
            "object_fit": null,
            "grid_auto_columns": null,
            "margin": null,
            "display": null,
            "left": null
          }
        },
        "00746368db7941dfbbbb2a567f2cea61": {
          "model_module": "@jupyter-widgets/controls",
          "model_name": "FloatProgressModel",
          "state": {
            "_view_name": "ProgressView",
            "style": "IPY_MODEL_705e3377e09b4f539fdb87dec5d5ee7b",
            "_dom_classes": [],
            "description": "",
            "_model_name": "FloatProgressModel",
            "bar_style": "info",
            "max": 1,
            "_view_module": "@jupyter-widgets/controls",
            "_model_module_version": "1.5.0",
            "value": 1,
            "_view_count": null,
            "_view_module_version": "1.5.0",
            "orientation": "horizontal",
            "min": 0,
            "description_tooltip": null,
            "_model_module": "@jupyter-widgets/controls",
            "layout": "IPY_MODEL_234a07f9c26b4b509e63b8b0b1ab31ca"
          }
        },
        "242eefef78d543feb13966b479b91500": {
          "model_module": "@jupyter-widgets/controls",
          "model_name": "HTMLModel",
          "state": {
            "_view_name": "HTMLView",
            "style": "IPY_MODEL_e1bd2a129fdc4ed38b540c59b1067866",
            "_dom_classes": [],
            "description": "",
            "_model_name": "HTMLModel",
            "placeholder": "​",
            "_view_module": "@jupyter-widgets/controls",
            "_model_module_version": "1.5.0",
            "value": " 25000/0 [00:12&lt;00:00, 3412.88 examples/s]",
            "_view_count": null,
            "_view_module_version": "1.5.0",
            "description_tooltip": null,
            "_model_module": "@jupyter-widgets/controls",
            "layout": "IPY_MODEL_0e95d8cacff245e9812b9d5b30d7dccb"
          }
        },
        "705e3377e09b4f539fdb87dec5d5ee7b": {
          "model_module": "@jupyter-widgets/controls",
          "model_name": "ProgressStyleModel",
          "state": {
            "_view_name": "StyleView",
            "_model_name": "ProgressStyleModel",
            "description_width": "initial",
            "_view_module": "@jupyter-widgets/base",
            "_model_module_version": "1.5.0",
            "_view_count": null,
            "_view_module_version": "1.2.0",
            "bar_color": null,
            "_model_module": "@jupyter-widgets/controls"
          }
        },
        "234a07f9c26b4b509e63b8b0b1ab31ca": {
          "model_module": "@jupyter-widgets/base",
          "model_name": "LayoutModel",
          "state": {
            "_view_name": "LayoutView",
            "grid_template_rows": null,
            "right": null,
            "justify_content": null,
            "_view_module": "@jupyter-widgets/base",
            "overflow": null,
            "_model_module_version": "1.2.0",
            "_view_count": null,
            "flex_flow": null,
            "width": null,
            "min_width": null,
            "border": null,
            "align_items": null,
            "bottom": null,
            "_model_module": "@jupyter-widgets/base",
            "top": null,
            "grid_column": null,
            "overflow_y": null,
            "overflow_x": null,
            "grid_auto_flow": null,
            "grid_area": null,
            "grid_template_columns": null,
            "flex": null,
            "_model_name": "LayoutModel",
            "justify_items": null,
            "grid_row": null,
            "max_height": null,
            "align_content": null,
            "visibility": null,
            "align_self": null,
            "height": null,
            "min_height": null,
            "padding": null,
            "grid_auto_rows": null,
            "grid_gap": null,
            "max_width": null,
            "order": null,
            "_view_module_version": "1.2.0",
            "grid_template_areas": null,
            "object_position": null,
            "object_fit": null,
            "grid_auto_columns": null,
            "margin": null,
            "display": null,
            "left": null
          }
        },
        "e1bd2a129fdc4ed38b540c59b1067866": {
          "model_module": "@jupyter-widgets/controls",
          "model_name": "DescriptionStyleModel",
          "state": {
            "_view_name": "StyleView",
            "_model_name": "DescriptionStyleModel",
            "description_width": "",
            "_view_module": "@jupyter-widgets/base",
            "_model_module_version": "1.5.0",
            "_view_count": null,
            "_view_module_version": "1.2.0",
            "_model_module": "@jupyter-widgets/controls"
          }
        },
        "0e95d8cacff245e9812b9d5b30d7dccb": {
          "model_module": "@jupyter-widgets/base",
          "model_name": "LayoutModel",
          "state": {
            "_view_name": "LayoutView",
            "grid_template_rows": null,
            "right": null,
            "justify_content": null,
            "_view_module": "@jupyter-widgets/base",
            "overflow": null,
            "_model_module_version": "1.2.0",
            "_view_count": null,
            "flex_flow": null,
            "width": null,
            "min_width": null,
            "border": null,
            "align_items": null,
            "bottom": null,
            "_model_module": "@jupyter-widgets/base",
            "top": null,
            "grid_column": null,
            "overflow_y": null,
            "overflow_x": null,
            "grid_auto_flow": null,
            "grid_area": null,
            "grid_template_columns": null,
            "flex": null,
            "_model_name": "LayoutModel",
            "justify_items": null,
            "grid_row": null,
            "max_height": null,
            "align_content": null,
            "visibility": null,
            "align_self": null,
            "height": null,
            "min_height": null,
            "padding": null,
            "grid_auto_rows": null,
            "grid_gap": null,
            "max_width": null,
            "order": null,
            "_view_module_version": "1.2.0",
            "grid_template_areas": null,
            "object_position": null,
            "object_fit": null,
            "grid_auto_columns": null,
            "margin": null,
            "display": null,
            "left": null
          }
        },
        "f016ec0212cb4eeb8b0890f596a80a85": {
          "model_module": "@jupyter-widgets/controls",
          "model_name": "HBoxModel",
          "state": {
            "_view_name": "HBoxView",
            "_dom_classes": [],
            "_model_name": "HBoxModel",
            "_view_module": "@jupyter-widgets/controls",
            "_model_module_version": "1.5.0",
            "_view_count": null,
            "_view_module_version": "1.5.0",
            "box_style": "",
            "layout": "IPY_MODEL_39089b1e6ca146068ee7ff81c33c9da0",
            "_model_module": "@jupyter-widgets/controls",
            "children": [
              "IPY_MODEL_17b92fcd97af45cdb044c2e053caa47f",
              "IPY_MODEL_4e2cf4da21a04d908e3a045b87eba3bb"
            ]
          }
        },
        "39089b1e6ca146068ee7ff81c33c9da0": {
          "model_module": "@jupyter-widgets/base",
          "model_name": "LayoutModel",
          "state": {
            "_view_name": "LayoutView",
            "grid_template_rows": null,
            "right": null,
            "justify_content": null,
            "_view_module": "@jupyter-widgets/base",
            "overflow": null,
            "_model_module_version": "1.2.0",
            "_view_count": null,
            "flex_flow": null,
            "width": null,
            "min_width": null,
            "border": null,
            "align_items": null,
            "bottom": null,
            "_model_module": "@jupyter-widgets/base",
            "top": null,
            "grid_column": null,
            "overflow_y": null,
            "overflow_x": null,
            "grid_auto_flow": null,
            "grid_area": null,
            "grid_template_columns": null,
            "flex": null,
            "_model_name": "LayoutModel",
            "justify_items": null,
            "grid_row": null,
            "max_height": null,
            "align_content": null,
            "visibility": null,
            "align_self": null,
            "height": null,
            "min_height": null,
            "padding": null,
            "grid_auto_rows": null,
            "grid_gap": null,
            "max_width": null,
            "order": null,
            "_view_module_version": "1.2.0",
            "grid_template_areas": null,
            "object_position": null,
            "object_fit": null,
            "grid_auto_columns": null,
            "margin": null,
            "display": null,
            "left": null
          }
        },
        "17b92fcd97af45cdb044c2e053caa47f": {
          "model_module": "@jupyter-widgets/controls",
          "model_name": "FloatProgressModel",
          "state": {
            "_view_name": "ProgressView",
            "style": "IPY_MODEL_256ecaf4e721479ba99f38620c8d0a1f",
            "_dom_classes": [],
            "description": " 51%",
            "_model_name": "FloatProgressModel",
            "bar_style": "danger",
            "max": 25000,
            "_view_module": "@jupyter-widgets/controls",
            "_model_module_version": "1.5.0",
            "value": 12865,
            "_view_count": null,
            "_view_module_version": "1.5.0",
            "orientation": "horizontal",
            "min": 0,
            "description_tooltip": null,
            "_model_module": "@jupyter-widgets/controls",
            "layout": "IPY_MODEL_4f23113c5a9d48d7af0fa1c10b15504c"
          }
        },
        "4e2cf4da21a04d908e3a045b87eba3bb": {
          "model_module": "@jupyter-widgets/controls",
          "model_name": "HTMLModel",
          "state": {
            "_view_name": "HTMLView",
            "style": "IPY_MODEL_053fd6c7ec444db1948b2e56be5ed487",
            "_dom_classes": [],
            "description": "",
            "_model_name": "HTMLModel",
            "placeholder": "​",
            "_view_module": "@jupyter-widgets/controls",
            "_model_module_version": "1.5.0",
            "value": " 12865/25000 [00:00&lt;00:00, 128637.55 examples/s]",
            "_view_count": null,
            "_view_module_version": "1.5.0",
            "description_tooltip": null,
            "_model_module": "@jupyter-widgets/controls",
            "layout": "IPY_MODEL_f98f8447a69e400c8d12b91594ccfb84"
          }
        },
        "256ecaf4e721479ba99f38620c8d0a1f": {
          "model_module": "@jupyter-widgets/controls",
          "model_name": "ProgressStyleModel",
          "state": {
            "_view_name": "StyleView",
            "_model_name": "ProgressStyleModel",
            "description_width": "initial",
            "_view_module": "@jupyter-widgets/base",
            "_model_module_version": "1.5.0",
            "_view_count": null,
            "_view_module_version": "1.2.0",
            "bar_color": null,
            "_model_module": "@jupyter-widgets/controls"
          }
        },
        "4f23113c5a9d48d7af0fa1c10b15504c": {
          "model_module": "@jupyter-widgets/base",
          "model_name": "LayoutModel",
          "state": {
            "_view_name": "LayoutView",
            "grid_template_rows": null,
            "right": null,
            "justify_content": null,
            "_view_module": "@jupyter-widgets/base",
            "overflow": null,
            "_model_module_version": "1.2.0",
            "_view_count": null,
            "flex_flow": null,
            "width": null,
            "min_width": null,
            "border": null,
            "align_items": null,
            "bottom": null,
            "_model_module": "@jupyter-widgets/base",
            "top": null,
            "grid_column": null,
            "overflow_y": null,
            "overflow_x": null,
            "grid_auto_flow": null,
            "grid_area": null,
            "grid_template_columns": null,
            "flex": null,
            "_model_name": "LayoutModel",
            "justify_items": null,
            "grid_row": null,
            "max_height": null,
            "align_content": null,
            "visibility": null,
            "align_self": null,
            "height": null,
            "min_height": null,
            "padding": null,
            "grid_auto_rows": null,
            "grid_gap": null,
            "max_width": null,
            "order": null,
            "_view_module_version": "1.2.0",
            "grid_template_areas": null,
            "object_position": null,
            "object_fit": null,
            "grid_auto_columns": null,
            "margin": null,
            "display": null,
            "left": null
          }
        },
        "053fd6c7ec444db1948b2e56be5ed487": {
          "model_module": "@jupyter-widgets/controls",
          "model_name": "DescriptionStyleModel",
          "state": {
            "_view_name": "StyleView",
            "_model_name": "DescriptionStyleModel",
            "description_width": "",
            "_view_module": "@jupyter-widgets/base",
            "_model_module_version": "1.5.0",
            "_view_count": null,
            "_view_module_version": "1.2.0",
            "_model_module": "@jupyter-widgets/controls"
          }
        },
        "f98f8447a69e400c8d12b91594ccfb84": {
          "model_module": "@jupyter-widgets/base",
          "model_name": "LayoutModel",
          "state": {
            "_view_name": "LayoutView",
            "grid_template_rows": null,
            "right": null,
            "justify_content": null,
            "_view_module": "@jupyter-widgets/base",
            "overflow": null,
            "_model_module_version": "1.2.0",
            "_view_count": null,
            "flex_flow": null,
            "width": null,
            "min_width": null,
            "border": null,
            "align_items": null,
            "bottom": null,
            "_model_module": "@jupyter-widgets/base",
            "top": null,
            "grid_column": null,
            "overflow_y": null,
            "overflow_x": null,
            "grid_auto_flow": null,
            "grid_area": null,
            "grid_template_columns": null,
            "flex": null,
            "_model_name": "LayoutModel",
            "justify_items": null,
            "grid_row": null,
            "max_height": null,
            "align_content": null,
            "visibility": null,
            "align_self": null,
            "height": null,
            "min_height": null,
            "padding": null,
            "grid_auto_rows": null,
            "grid_gap": null,
            "max_width": null,
            "order": null,
            "_view_module_version": "1.2.0",
            "grid_template_areas": null,
            "object_position": null,
            "object_fit": null,
            "grid_auto_columns": null,
            "margin": null,
            "display": null,
            "left": null
          }
        },
        "0788377ebf7945a8945003e87c91bcc4": {
          "model_module": "@jupyter-widgets/controls",
          "model_name": "HBoxModel",
          "state": {
            "_view_name": "HBoxView",
            "_dom_classes": [],
            "_model_name": "HBoxModel",
            "_view_module": "@jupyter-widgets/controls",
            "_model_module_version": "1.5.0",
            "_view_count": null,
            "_view_module_version": "1.5.0",
            "box_style": "",
            "layout": "IPY_MODEL_b6deeef4ae7a446ca91e098972c67ec7",
            "_model_module": "@jupyter-widgets/controls",
            "children": [
              "IPY_MODEL_3b127aae015a4124a0b51718aa486fc2",
              "IPY_MODEL_de0e0a627dc34406b0714d92a52f6880"
            ]
          }
        },
        "b6deeef4ae7a446ca91e098972c67ec7": {
          "model_module": "@jupyter-widgets/base",
          "model_name": "LayoutModel",
          "state": {
            "_view_name": "LayoutView",
            "grid_template_rows": null,
            "right": null,
            "justify_content": null,
            "_view_module": "@jupyter-widgets/base",
            "overflow": null,
            "_model_module_version": "1.2.0",
            "_view_count": null,
            "flex_flow": null,
            "width": null,
            "min_width": null,
            "border": null,
            "align_items": null,
            "bottom": null,
            "_model_module": "@jupyter-widgets/base",
            "top": null,
            "grid_column": null,
            "overflow_y": null,
            "overflow_x": null,
            "grid_auto_flow": null,
            "grid_area": null,
            "grid_template_columns": null,
            "flex": null,
            "_model_name": "LayoutModel",
            "justify_items": null,
            "grid_row": null,
            "max_height": null,
            "align_content": null,
            "visibility": null,
            "align_self": null,
            "height": null,
            "min_height": null,
            "padding": null,
            "grid_auto_rows": null,
            "grid_gap": null,
            "max_width": null,
            "order": null,
            "_view_module_version": "1.2.0",
            "grid_template_areas": null,
            "object_position": null,
            "object_fit": null,
            "grid_auto_columns": null,
            "margin": null,
            "display": null,
            "left": null
          }
        },
        "3b127aae015a4124a0b51718aa486fc2": {
          "model_module": "@jupyter-widgets/controls",
          "model_name": "FloatProgressModel",
          "state": {
            "_view_name": "ProgressView",
            "style": "IPY_MODEL_5d272f1004354cc1843b5dd515ae8b6b",
            "_dom_classes": [],
            "description": "",
            "_model_name": "FloatProgressModel",
            "bar_style": "info",
            "max": 1,
            "_view_module": "@jupyter-widgets/controls",
            "_model_module_version": "1.5.0",
            "value": 1,
            "_view_count": null,
            "_view_module_version": "1.5.0",
            "orientation": "horizontal",
            "min": 0,
            "description_tooltip": null,
            "_model_module": "@jupyter-widgets/controls",
            "layout": "IPY_MODEL_1e34e8125fb44ae7a9a772336f65599c"
          }
        },
        "de0e0a627dc34406b0714d92a52f6880": {
          "model_module": "@jupyter-widgets/controls",
          "model_name": "HTMLModel",
          "state": {
            "_view_name": "HTMLView",
            "style": "IPY_MODEL_dc9118aa24bf4186a5ecf1f6f27f9c5e",
            "_dom_classes": [],
            "description": "",
            "_model_name": "HTMLModel",
            "placeholder": "​",
            "_view_module": "@jupyter-widgets/controls",
            "_model_module_version": "1.5.0",
            "value": " 50000/0 [00:17&lt;00:00, 3740.52 examples/s]",
            "_view_count": null,
            "_view_module_version": "1.5.0",
            "description_tooltip": null,
            "_model_module": "@jupyter-widgets/controls",
            "layout": "IPY_MODEL_4d43244c0d724c579e93c585f80f8fe4"
          }
        },
        "5d272f1004354cc1843b5dd515ae8b6b": {
          "model_module": "@jupyter-widgets/controls",
          "model_name": "ProgressStyleModel",
          "state": {
            "_view_name": "StyleView",
            "_model_name": "ProgressStyleModel",
            "description_width": "initial",
            "_view_module": "@jupyter-widgets/base",
            "_model_module_version": "1.5.0",
            "_view_count": null,
            "_view_module_version": "1.2.0",
            "bar_color": null,
            "_model_module": "@jupyter-widgets/controls"
          }
        },
        "1e34e8125fb44ae7a9a772336f65599c": {
          "model_module": "@jupyter-widgets/base",
          "model_name": "LayoutModel",
          "state": {
            "_view_name": "LayoutView",
            "grid_template_rows": null,
            "right": null,
            "justify_content": null,
            "_view_module": "@jupyter-widgets/base",
            "overflow": null,
            "_model_module_version": "1.2.0",
            "_view_count": null,
            "flex_flow": null,
            "width": null,
            "min_width": null,
            "border": null,
            "align_items": null,
            "bottom": null,
            "_model_module": "@jupyter-widgets/base",
            "top": null,
            "grid_column": null,
            "overflow_y": null,
            "overflow_x": null,
            "grid_auto_flow": null,
            "grid_area": null,
            "grid_template_columns": null,
            "flex": null,
            "_model_name": "LayoutModel",
            "justify_items": null,
            "grid_row": null,
            "max_height": null,
            "align_content": null,
            "visibility": null,
            "align_self": null,
            "height": null,
            "min_height": null,
            "padding": null,
            "grid_auto_rows": null,
            "grid_gap": null,
            "max_width": null,
            "order": null,
            "_view_module_version": "1.2.0",
            "grid_template_areas": null,
            "object_position": null,
            "object_fit": null,
            "grid_auto_columns": null,
            "margin": null,
            "display": null,
            "left": null
          }
        },
        "dc9118aa24bf4186a5ecf1f6f27f9c5e": {
          "model_module": "@jupyter-widgets/controls",
          "model_name": "DescriptionStyleModel",
          "state": {
            "_view_name": "StyleView",
            "_model_name": "DescriptionStyleModel",
            "description_width": "",
            "_view_module": "@jupyter-widgets/base",
            "_model_module_version": "1.5.0",
            "_view_count": null,
            "_view_module_version": "1.2.0",
            "_model_module": "@jupyter-widgets/controls"
          }
        },
        "4d43244c0d724c579e93c585f80f8fe4": {
          "model_module": "@jupyter-widgets/base",
          "model_name": "LayoutModel",
          "state": {
            "_view_name": "LayoutView",
            "grid_template_rows": null,
            "right": null,
            "justify_content": null,
            "_view_module": "@jupyter-widgets/base",
            "overflow": null,
            "_model_module_version": "1.2.0",
            "_view_count": null,
            "flex_flow": null,
            "width": null,
            "min_width": null,
            "border": null,
            "align_items": null,
            "bottom": null,
            "_model_module": "@jupyter-widgets/base",
            "top": null,
            "grid_column": null,
            "overflow_y": null,
            "overflow_x": null,
            "grid_auto_flow": null,
            "grid_area": null,
            "grid_template_columns": null,
            "flex": null,
            "_model_name": "LayoutModel",
            "justify_items": null,
            "grid_row": null,
            "max_height": null,
            "align_content": null,
            "visibility": null,
            "align_self": null,
            "height": null,
            "min_height": null,
            "padding": null,
            "grid_auto_rows": null,
            "grid_gap": null,
            "max_width": null,
            "order": null,
            "_view_module_version": "1.2.0",
            "grid_template_areas": null,
            "object_position": null,
            "object_fit": null,
            "grid_auto_columns": null,
            "margin": null,
            "display": null,
            "left": null
          }
        },
        "5a10dd45f0f24dd0ba3fc665f75b3502": {
          "model_module": "@jupyter-widgets/controls",
          "model_name": "HBoxModel",
          "state": {
            "_view_name": "HBoxView",
            "_dom_classes": [],
            "_model_name": "HBoxModel",
            "_view_module": "@jupyter-widgets/controls",
            "_model_module_version": "1.5.0",
            "_view_count": null,
            "_view_module_version": "1.5.0",
            "box_style": "",
            "layout": "IPY_MODEL_1f5ea3db87794ca89d8a5d2eff6c875e",
            "_model_module": "@jupyter-widgets/controls",
            "children": [
              "IPY_MODEL_9a28c7e440c24901a31b669ea54cc89a",
              "IPY_MODEL_260ec12f3d0449bf887246ac887841a2"
            ]
          }
        },
        "1f5ea3db87794ca89d8a5d2eff6c875e": {
          "model_module": "@jupyter-widgets/base",
          "model_name": "LayoutModel",
          "state": {
            "_view_name": "LayoutView",
            "grid_template_rows": null,
            "right": null,
            "justify_content": null,
            "_view_module": "@jupyter-widgets/base",
            "overflow": null,
            "_model_module_version": "1.2.0",
            "_view_count": null,
            "flex_flow": null,
            "width": null,
            "min_width": null,
            "border": null,
            "align_items": null,
            "bottom": null,
            "_model_module": "@jupyter-widgets/base",
            "top": null,
            "grid_column": null,
            "overflow_y": null,
            "overflow_x": null,
            "grid_auto_flow": null,
            "grid_area": null,
            "grid_template_columns": null,
            "flex": null,
            "_model_name": "LayoutModel",
            "justify_items": null,
            "grid_row": null,
            "max_height": null,
            "align_content": null,
            "visibility": null,
            "align_self": null,
            "height": null,
            "min_height": null,
            "padding": null,
            "grid_auto_rows": null,
            "grid_gap": null,
            "max_width": null,
            "order": null,
            "_view_module_version": "1.2.0",
            "grid_template_areas": null,
            "object_position": null,
            "object_fit": null,
            "grid_auto_columns": null,
            "margin": null,
            "display": null,
            "left": null
          }
        },
        "9a28c7e440c24901a31b669ea54cc89a": {
          "model_module": "@jupyter-widgets/controls",
          "model_name": "FloatProgressModel",
          "state": {
            "_view_name": "ProgressView",
            "style": "IPY_MODEL_2709fd07c81f4cdd84918fa45f10b026",
            "_dom_classes": [],
            "description": " 65%",
            "_model_name": "FloatProgressModel",
            "bar_style": "danger",
            "max": 50000,
            "_view_module": "@jupyter-widgets/controls",
            "_model_module_version": "1.5.0",
            "value": 32276,
            "_view_count": null,
            "_view_module_version": "1.5.0",
            "orientation": "horizontal",
            "min": 0,
            "description_tooltip": null,
            "_model_module": "@jupyter-widgets/controls",
            "layout": "IPY_MODEL_c33a28fc8e2642da9e74319e74ab51f7"
          }
        },
        "260ec12f3d0449bf887246ac887841a2": {
          "model_module": "@jupyter-widgets/controls",
          "model_name": "HTMLModel",
          "state": {
            "_view_name": "HTMLView",
            "style": "IPY_MODEL_9cbe65acdbb9446f8137670c61ee9cae",
            "_dom_classes": [],
            "description": "",
            "_model_name": "HTMLModel",
            "placeholder": "​",
            "_view_module": "@jupyter-widgets/controls",
            "_model_module_version": "1.5.0",
            "value": " 32276/50000 [00:00&lt;00:00, 64744.82 examples/s]",
            "_view_count": null,
            "_view_module_version": "1.5.0",
            "description_tooltip": null,
            "_model_module": "@jupyter-widgets/controls",
            "layout": "IPY_MODEL_739e72908e8c4dadbd580c62ce6fa8d5"
          }
        },
        "2709fd07c81f4cdd84918fa45f10b026": {
          "model_module": "@jupyter-widgets/controls",
          "model_name": "ProgressStyleModel",
          "state": {
            "_view_name": "StyleView",
            "_model_name": "ProgressStyleModel",
            "description_width": "initial",
            "_view_module": "@jupyter-widgets/base",
            "_model_module_version": "1.5.0",
            "_view_count": null,
            "_view_module_version": "1.2.0",
            "bar_color": null,
            "_model_module": "@jupyter-widgets/controls"
          }
        },
        "c33a28fc8e2642da9e74319e74ab51f7": {
          "model_module": "@jupyter-widgets/base",
          "model_name": "LayoutModel",
          "state": {
            "_view_name": "LayoutView",
            "grid_template_rows": null,
            "right": null,
            "justify_content": null,
            "_view_module": "@jupyter-widgets/base",
            "overflow": null,
            "_model_module_version": "1.2.0",
            "_view_count": null,
            "flex_flow": null,
            "width": null,
            "min_width": null,
            "border": null,
            "align_items": null,
            "bottom": null,
            "_model_module": "@jupyter-widgets/base",
            "top": null,
            "grid_column": null,
            "overflow_y": null,
            "overflow_x": null,
            "grid_auto_flow": null,
            "grid_area": null,
            "grid_template_columns": null,
            "flex": null,
            "_model_name": "LayoutModel",
            "justify_items": null,
            "grid_row": null,
            "max_height": null,
            "align_content": null,
            "visibility": null,
            "align_self": null,
            "height": null,
            "min_height": null,
            "padding": null,
            "grid_auto_rows": null,
            "grid_gap": null,
            "max_width": null,
            "order": null,
            "_view_module_version": "1.2.0",
            "grid_template_areas": null,
            "object_position": null,
            "object_fit": null,
            "grid_auto_columns": null,
            "margin": null,
            "display": null,
            "left": null
          }
        },
        "9cbe65acdbb9446f8137670c61ee9cae": {
          "model_module": "@jupyter-widgets/controls",
          "model_name": "DescriptionStyleModel",
          "state": {
            "_view_name": "StyleView",
            "_model_name": "DescriptionStyleModel",
            "description_width": "",
            "_view_module": "@jupyter-widgets/base",
            "_model_module_version": "1.5.0",
            "_view_count": null,
            "_view_module_version": "1.2.0",
            "_model_module": "@jupyter-widgets/controls"
          }
        },
        "739e72908e8c4dadbd580c62ce6fa8d5": {
          "model_module": "@jupyter-widgets/base",
          "model_name": "LayoutModel",
          "state": {
            "_view_name": "LayoutView",
            "grid_template_rows": null,
            "right": null,
            "justify_content": null,
            "_view_module": "@jupyter-widgets/base",
            "overflow": null,
            "_model_module_version": "1.2.0",
            "_view_count": null,
            "flex_flow": null,
            "width": null,
            "min_width": null,
            "border": null,
            "align_items": null,
            "bottom": null,
            "_model_module": "@jupyter-widgets/base",
            "top": null,
            "grid_column": null,
            "overflow_y": null,
            "overflow_x": null,
            "grid_auto_flow": null,
            "grid_area": null,
            "grid_template_columns": null,
            "flex": null,
            "_model_name": "LayoutModel",
            "justify_items": null,
            "grid_row": null,
            "max_height": null,
            "align_content": null,
            "visibility": null,
            "align_self": null,
            "height": null,
            "min_height": null,
            "padding": null,
            "grid_auto_rows": null,
            "grid_gap": null,
            "max_width": null,
            "order": null,
            "_view_module_version": "1.2.0",
            "grid_template_areas": null,
            "object_position": null,
            "object_fit": null,
            "grid_auto_columns": null,
            "margin": null,
            "display": null,
            "left": null
          }
        }
      }
    }
  },
  "cells": [
    {
      "cell_type": "markdown",
      "metadata": {
        "id": "view-in-github",
        "colab_type": "text"
      },
      "source": [
        "<a href=\"https://colab.research.google.com/github/ogonna-anaekwe/text_classifier/blob/master/Text_Classification_with_Movie_Reviews_(Data_Eng_).ipynb\" target=\"_parent\"><img src=\"https://colab.research.google.com/assets/colab-badge.svg\" alt=\"Open In Colab\"/></a>"
      ]
    },
    {
      "cell_type": "markdown",
      "metadata": {
        "id": "udthG97mekOH"
      },
      "source": [
        "Text Classifier - V1"
      ]
    },
    {
      "cell_type": "code",
      "metadata": {
        "colab": {
          "base_uri": "https://localhost:8080/"
        },
        "id": "z63eYa9rUH2q",
        "outputId": "80e22d60-dead-4fa1-d70e-de85926a9693"
      },
      "source": [
        "# import dependencies\n",
        "import numpy as np\n",
        "import tensorflow as tf\n",
        "import tensorflow_hub as hub\n",
        "import tensorflow_datasets as tfds\n",
        "import matplotlib.pyplot as plt\n",
        "\n",
        "print(f'Version: {tf.__version__}')\n",
        "print(f'Eager mode: {tf.executing_eagerly()}')\n",
        "print(f'Hub version: {hub.__version__}')\n",
        "print(f'GPU is {\"available\" if tf.config.list_physical_devices(\"GPU\") else \"not available\"}')"
      ],
      "execution_count": 1,
      "outputs": [
        {
          "output_type": "stream",
          "text": [
            "Version: 2.4.1\n",
            "Eager mode: True\n",
            "Hub version: 0.11.0\n",
            "GPU is available\n"
          ],
          "name": "stdout"
        }
      ]
    },
    {
      "cell_type": "code",
      "metadata": {
        "colab": {
          "base_uri": "https://localhost:8080/",
          "height": 367,
          "referenced_widgets": [
            "cdd862d4a0bb481f8897ba5a0ea6ea33",
            "4660244a95e5402eaeaf3d200fda520d",
            "7d02abce7e584ce68b5dc9ffdd87f610",
            "71f13cdd87fe475281808d1180236f78",
            "f8d52de15901419a896b852f033e2454",
            "e4d2f253ca344595a03a66183e9f1221",
            "88dbadc7404f402d98f023200b221fa5",
            "10eedab498d44cc8ac18f8d87eb58a46",
            "649ff50ee6dd4ba5a07d1238ead97c8f",
            "f6619c3d93164633bb1235a5837303ad",
            "e488cc926fd54ecd9f0ab472f46303a7",
            "adc51d887a0645789df15978e8f8f419",
            "e438eccac28d42c592e01fd2f8772f38",
            "3faa759ff5ef4cf4a6e2355c59fb01b6",
            "f96aa4a6994443d2a4ce89e67c7f3cd1",
            "fdf76f2fd1ca444184ddde4095685b9a",
            "793a965acf0440fc9f07e9000c817cc2",
            "057f3dc53f374e7e9aea0e13864fd48f",
            "2136b48987c34e8ea4f2388b93665afc",
            "1b97fc1122594ec8bc9ef1cf2ba834ca",
            "0bc5e708879a4bbabf8ffe539a2294a5",
            "3d0ecb74f1354674bec2983294018b04",
            "9f0b0f46410045fc9eac137ba65d94e3",
            "c5494c23a97c4aaca18c4f50f41a10b3",
            "ee92a765c9dc41f8b4f2948f0dfae2d0",
            "73d0ed763a8a4ac4bb5721e31d13a40b",
            "c1f6b77062c548f787ef16f1aac3c1ae",
            "cecd157566eb465e9163f6ff45b18fae",
            "fc038e75a8a6491fbd715d5e513c6a6b",
            "040f298b7173486993f47e1fb8343520",
            "94b4853eb9784ec2b734593487a4ed16",
            "92ef7cf3e09d4aa3b52cfc596eebfd38",
            "10ce0d6bbec54e87b0b7bb120edd5dae",
            "aef601c3c3b749c2a8a53c611cf42cc4",
            "00746368db7941dfbbbb2a567f2cea61",
            "242eefef78d543feb13966b479b91500",
            "705e3377e09b4f539fdb87dec5d5ee7b",
            "234a07f9c26b4b509e63b8b0b1ab31ca",
            "e1bd2a129fdc4ed38b540c59b1067866",
            "0e95d8cacff245e9812b9d5b30d7dccb",
            "f016ec0212cb4eeb8b0890f596a80a85",
            "39089b1e6ca146068ee7ff81c33c9da0",
            "17b92fcd97af45cdb044c2e053caa47f",
            "4e2cf4da21a04d908e3a045b87eba3bb",
            "256ecaf4e721479ba99f38620c8d0a1f",
            "4f23113c5a9d48d7af0fa1c10b15504c",
            "053fd6c7ec444db1948b2e56be5ed487",
            "f98f8447a69e400c8d12b91594ccfb84",
            "0788377ebf7945a8945003e87c91bcc4",
            "b6deeef4ae7a446ca91e098972c67ec7",
            "3b127aae015a4124a0b51718aa486fc2",
            "de0e0a627dc34406b0714d92a52f6880",
            "5d272f1004354cc1843b5dd515ae8b6b",
            "1e34e8125fb44ae7a9a772336f65599c",
            "dc9118aa24bf4186a5ecf1f6f27f9c5e",
            "4d43244c0d724c579e93c585f80f8fe4",
            "5a10dd45f0f24dd0ba3fc665f75b3502",
            "1f5ea3db87794ca89d8a5d2eff6c875e",
            "9a28c7e440c24901a31b669ea54cc89a",
            "260ec12f3d0449bf887246ac887841a2",
            "2709fd07c81f4cdd84918fa45f10b026",
            "c33a28fc8e2642da9e74319e74ab51f7",
            "9cbe65acdbb9446f8137670c61ee9cae",
            "739e72908e8c4dadbd580c62ce6fa8d5"
          ]
        },
        "id": "_H9ZKsf1Ucl9",
        "outputId": "1d8ea14b-a101-4cce-9911-583c23828e82"
      },
      "source": [
        "# this example uses the imdb reviews dataset\n",
        "# load the dataset\n",
        "train_data, test_data = tfds.load(name=\"imdb_reviews\", \n",
        "                                  split=[\"train\", \"test\"],\n",
        "                                  batch_size=-1, \n",
        "                                  as_supervised=True)\n"
      ],
      "execution_count": 2,
      "outputs": [
        {
          "output_type": "stream",
          "text": [
            "\u001b[1mDownloading and preparing dataset imdb_reviews/plain_text/1.0.0 (download: 80.23 MiB, generated: Unknown size, total: 80.23 MiB) to /root/tensorflow_datasets/imdb_reviews/plain_text/1.0.0...\u001b[0m\n"
          ],
          "name": "stdout"
        },
        {
          "output_type": "display_data",
          "data": {
            "application/vnd.jupyter.widget-view+json": {
              "model_id": "cdd862d4a0bb481f8897ba5a0ea6ea33",
              "version_minor": 0,
              "version_major": 2
            },
            "text/plain": [
              "HBox(children=(FloatProgress(value=1.0, bar_style='info', description='Dl Completed...', max=1.0, style=Progre…"
            ]
          },
          "metadata": {
            "tags": []
          }
        },
        {
          "output_type": "display_data",
          "data": {
            "application/vnd.jupyter.widget-view+json": {
              "model_id": "649ff50ee6dd4ba5a07d1238ead97c8f",
              "version_minor": 0,
              "version_major": 2
            },
            "text/plain": [
              "HBox(children=(FloatProgress(value=1.0, bar_style='info', description='Dl Size...', max=1.0, style=ProgressSty…"
            ]
          },
          "metadata": {
            "tags": []
          }
        },
        {
          "output_type": "stream",
          "text": [
            "\n",
            "\n",
            "\n",
            "\n"
          ],
          "name": "stdout"
        },
        {
          "output_type": "display_data",
          "data": {
            "application/vnd.jupyter.widget-view+json": {
              "model_id": "793a965acf0440fc9f07e9000c817cc2",
              "version_minor": 0,
              "version_major": 2
            },
            "text/plain": [
              "HBox(children=(FloatProgress(value=1.0, bar_style='info', max=1.0), HTML(value='')))"
            ]
          },
          "metadata": {
            "tags": []
          }
        },
        {
          "output_type": "stream",
          "text": [
            "\rShuffling and writing examples to /root/tensorflow_datasets/imdb_reviews/plain_text/1.0.0.incompleteEV6K6M/imdb_reviews-train.tfrecord\n"
          ],
          "name": "stdout"
        },
        {
          "output_type": "display_data",
          "data": {
            "application/vnd.jupyter.widget-view+json": {
              "model_id": "ee92a765c9dc41f8b4f2948f0dfae2d0",
              "version_minor": 0,
              "version_major": 2
            },
            "text/plain": [
              "HBox(children=(FloatProgress(value=0.0, max=25000.0), HTML(value='')))"
            ]
          },
          "metadata": {
            "tags": []
          }
        },
        {
          "output_type": "stream",
          "text": [
            "\r"
          ],
          "name": "stdout"
        },
        {
          "output_type": "display_data",
          "data": {
            "application/vnd.jupyter.widget-view+json": {
              "model_id": "10ce0d6bbec54e87b0b7bb120edd5dae",
              "version_minor": 0,
              "version_major": 2
            },
            "text/plain": [
              "HBox(children=(FloatProgress(value=1.0, bar_style='info', max=1.0), HTML(value='')))"
            ]
          },
          "metadata": {
            "tags": []
          }
        },
        {
          "output_type": "stream",
          "text": [
            "\rShuffling and writing examples to /root/tensorflow_datasets/imdb_reviews/plain_text/1.0.0.incompleteEV6K6M/imdb_reviews-test.tfrecord\n"
          ],
          "name": "stdout"
        },
        {
          "output_type": "display_data",
          "data": {
            "application/vnd.jupyter.widget-view+json": {
              "model_id": "f016ec0212cb4eeb8b0890f596a80a85",
              "version_minor": 0,
              "version_major": 2
            },
            "text/plain": [
              "HBox(children=(FloatProgress(value=0.0, max=25000.0), HTML(value='')))"
            ]
          },
          "metadata": {
            "tags": []
          }
        },
        {
          "output_type": "stream",
          "text": [
            "\r"
          ],
          "name": "stdout"
        },
        {
          "output_type": "display_data",
          "data": {
            "application/vnd.jupyter.widget-view+json": {
              "model_id": "0788377ebf7945a8945003e87c91bcc4",
              "version_minor": 0,
              "version_major": 2
            },
            "text/plain": [
              "HBox(children=(FloatProgress(value=1.0, bar_style='info', max=1.0), HTML(value='')))"
            ]
          },
          "metadata": {
            "tags": []
          }
        },
        {
          "output_type": "stream",
          "text": [
            "\rShuffling and writing examples to /root/tensorflow_datasets/imdb_reviews/plain_text/1.0.0.incompleteEV6K6M/imdb_reviews-unsupervised.tfrecord\n"
          ],
          "name": "stdout"
        },
        {
          "output_type": "display_data",
          "data": {
            "application/vnd.jupyter.widget-view+json": {
              "model_id": "5a10dd45f0f24dd0ba3fc665f75b3502",
              "version_minor": 0,
              "version_major": 2
            },
            "text/plain": [
              "HBox(children=(FloatProgress(value=0.0, max=50000.0), HTML(value='')))"
            ]
          },
          "metadata": {
            "tags": []
          }
        },
        {
          "output_type": "stream",
          "text": [
            "WARNING:absl:Dataset is using deprecated text encoder API which will be removed soon. Please use the plain_text version of the dataset and migrate to `tensorflow_text`.\n"
          ],
          "name": "stderr"
        },
        {
          "output_type": "stream",
          "text": [
            "\u001b[1mDataset imdb_reviews downloaded and prepared to /root/tensorflow_datasets/imdb_reviews/plain_text/1.0.0. Subsequent calls will reuse this data.\u001b[0m\n",
            "\r"
          ],
          "name": "stdout"
        }
      ]
    },
    {
      "cell_type": "code",
      "metadata": {
        "colab": {
          "base_uri": "https://localhost:8080/"
        },
        "id": "20TdHfSQVGFr",
        "outputId": "5e85a666-673f-4ab9-f89a-de1fd4f1bce7"
      },
      "source": [
        "# neural networks works with tensors\n",
        "# convert the dataset python generator yielding 1D tensors\n",
        "\n",
        "train_examples, train_labels = tfds.as_numpy(train_data)\n",
        "test_examples, test_labels = tfds.as_numpy(test_data)\n",
        "\n",
        "print(f'shape of train_examples {train_examples.shape}')\n",
        "print(f'shape of train_labels {train_labels.shape}')\n",
        "print(f'shape of test_examples {test_examples.shape}')\n",
        "print(f'shape of test_labels {test_labels.shape}')"
      ],
      "execution_count": 3,
      "outputs": [
        {
          "output_type": "stream",
          "text": [
            "shape of train_examples (25000,)\n",
            "shape of train_labels (25000,)\n",
            "shape of test_examples (25000,)\n",
            "shape of test_labels (25000,)\n"
          ],
          "name": "stdout"
        }
      ]
    },
    {
      "cell_type": "code",
      "metadata": {
        "colab": {
          "base_uri": "https://localhost:8080/"
        },
        "id": "VsPy9gH6VgKb",
        "outputId": "e60660c1-73eb-48e4-a859-141080435e6a"
      },
      "source": [
        "# show first 5 reviews\n",
        "train_examples[:5]"
      ],
      "execution_count": 4,
      "outputs": [
        {
          "output_type": "execute_result",
          "data": {
            "text/plain": [
              "array([b\"This was an absolutely terrible movie. Don't be lured in by Christopher Walken or Michael Ironside. Both are great actors, but this must simply be their worst role in history. Even their great acting could not redeem this movie's ridiculous storyline. This movie is an early nineties US propaganda piece. The most pathetic scenes were those when the Columbian rebels were making their cases for revolutions. Maria Conchita Alonso appeared phony, and her pseudo-love affair with Walken was nothing but a pathetic emotional plug in a movie that was devoid of any real meaning. I am disappointed that there are movies like this, ruining actor's like Christopher Walken's good name. I could barely sit through it.\",\n",
              "       b'I have been known to fall asleep during films, but this is usually due to a combination of things including, really tired, being warm and comfortable on the sette and having just eaten a lot. However on this occasion I fell asleep because the film was rubbish. The plot development was constant. Constantly slow and boring. Things seemed to happen, but with no explanation of what was causing them or why. I admit, I may have missed part of the film, but i watched the majority of it and everything just seemed to happen of its own accord without any real concern for anything else. I cant recommend this film at all.',\n",
              "       b'Mann photographs the Alberta Rocky Mountains in a superb fashion, and Jimmy Stewart and Walter Brennan give enjoyable performances as they always seem to do. <br /><br />But come on Hollywood - a Mountie telling the people of Dawson City, Yukon to elect themselves a marshal (yes a marshal!) and to enforce the law themselves, then gunfighters battling it out on the streets for control of the town? <br /><br />Nothing even remotely resembling that happened on the Canadian side of the border during the Klondike gold rush. Mr. Mann and company appear to have mistaken Dawson City for Deadwood, the Canadian North for the American Wild West.<br /><br />Canadian viewers be prepared for a Reefer Madness type of enjoyable howl with this ludicrous plot, or, to shake your head in disgust.',\n",
              "       b'This is the kind of film for a snowy Sunday afternoon when the rest of the world can go ahead with its own business as you descend into a big arm-chair and mellow for a couple of hours. Wonderful performances from Cher and Nicolas Cage (as always) gently row the plot along. There are no rapids to cross, no dangerous waters, just a warm and witty paddle through New York life at its best. A family film in every sense and one that deserves the praise it received.',\n",
              "       b'As others have mentioned, all the women that go nude in this film are mostly absolutely gorgeous. The plot very ably shows the hypocrisy of the female libido. When men are around they want to be pursued, but when no \"men\" are around, they become the pursuers of a 14 year old boy. And the boy becomes a man really fast (we should all be so lucky at this age!). He then gets up the courage to pursue his true love.'],\n",
              "      dtype=object)"
            ]
          },
          "metadata": {
            "tags": []
          },
          "execution_count": 4
        }
      ]
    },
    {
      "cell_type": "code",
      "metadata": {
        "colab": {
          "base_uri": "https://localhost:8080/"
        },
        "id": "7XqjnADhWi5U",
        "outputId": "a78d0e0b-7f4b-4ae5-9106-40d7d85bc07e"
      },
      "source": [
        "# show first 5 labels corresponding to the reviews above\n",
        "train_labels[:5]"
      ],
      "execution_count": 5,
      "outputs": [
        {
          "output_type": "execute_result",
          "data": {
            "text/plain": [
              "array([0, 0, 0, 1, 1])"
            ]
          },
          "metadata": {
            "tags": []
          },
          "execution_count": 5
        }
      ]
    },
    {
      "cell_type": "code",
      "metadata": {
        "colab": {
          "base_uri": "https://localhost:8080/"
        },
        "id": "MHmeQ_eBW9OV",
        "outputId": "9d9b457b-92a9-451f-bca5-17ef536025db"
      },
      "source": [
        "# the reviews byte encoded, and not strings\n",
        "# the pretrained model that we'll use decodes the reviews\n",
        "# it also handles tokenization of each review and\n",
        "# it converts each review a 50D word vector/embedding\n",
        "model = \"https://tfhub.dev/google/nnlm-en-dim50/2\"\n",
        "hub_layer = hub.KerasLayer(model, input_shape=[], dtype=tf.string, trainable=True)\n",
        "\n",
        "# confirm that each review is mapped to 50D word embedding\n",
        "def confirm_dim(features=train_examples):\n",
        "  \"\"\"\n",
        "  Confirms the word embedding for each review is 50D\n",
        "  \n",
        "  Parameters:\n",
        "    all_examples_features: feature space showing all reviews\n",
        "  \n",
        "  Returns:\n",
        "    Whether or not the reviews are mapped to 50D word embeddings\n",
        "  \"\"\"\n",
        "  is_50d = [True for review in hub_layer(features) if review.shape[0] == 50]\n",
        "  if False in is_50d:\n",
        "    return f'At least one review is not mapped to a 50D word embedding'\n",
        "  return f'Each review is mapped to a 50D word embedding'\n",
        "\n",
        "print(f'{confirm_dim(train_examples)}')\n",
        "print(f'{confirm_dim(test_examples)}')"
      ],
      "execution_count": 6,
      "outputs": [
        {
          "output_type": "stream",
          "text": [
            "Each review is mapped to a 50D word embedding\n",
            "Each review is mapped to a 50D word embedding\n"
          ],
          "name": "stdout"
        }
      ]
    },
    {
      "cell_type": "code",
      "metadata": {
        "colab": {
          "base_uri": "https://localhost:8080/"
        },
        "id": "fbxIpCphXgNe",
        "outputId": "a9625f5f-e9fd-4df2-b23a-20c21fc7454b"
      },
      "source": [
        "# to create model architecture, stack layers using the keras Sequential class \n",
        "model = tf.keras.Sequential()\n",
        "model.add(hub_layer)\n",
        "model.add(tf.keras.layers.Dense(16, activation='relu'))\n",
        "model.add(tf.keras.layers.Dense(1))\n",
        "\n",
        "# show model architecture\n",
        "model.summary()"
      ],
      "execution_count": 36,
      "outputs": [
        {
          "output_type": "stream",
          "text": [
            "Model: \"sequential_2\"\n",
            "_________________________________________________________________\n",
            "Layer (type)                 Output Shape              Param #   \n",
            "=================================================================\n",
            "keras_layer (KerasLayer)     (None, 50)                48190600  \n",
            "_________________________________________________________________\n",
            "dense_4 (Dense)              (None, 16)                816       \n",
            "_________________________________________________________________\n",
            "dense_5 (Dense)              (None, 1)                 17        \n",
            "=================================================================\n",
            "Total params: 48,191,433\n",
            "Trainable params: 48,191,433\n",
            "Non-trainable params: 0\n",
            "_________________________________________________________________\n"
          ],
          "name": "stdout"
        }
      ]
    },
    {
      "cell_type": "code",
      "metadata": {
        "colab": {
          "base_uri": "https://localhost:8080/",
          "height": 369
        },
        "id": "_TRVXinn0kET",
        "outputId": "6470684d-d4a5-4420-e2d2-6f04345a4dc2"
      },
      "source": [
        "# model graph\n",
        "tf.keras.utils.plot_model(model, 'text_classifier_v1.png')"
      ],
      "execution_count": 37,
      "outputs": [
        {
          "output_type": "execute_result",
          "data": {
            "image/png": "[encoded data removed]",
            "text/plain": [
              "<IPython.core.display.Image object>"
            ]
          },
          "metadata": {
            "tags": []
          },
          "execution_count": 37
        }
      ]
    },
    {
      "cell_type": "code",
      "metadata": {
        "id": "JiaXdsl8LX6D"
      },
      "source": [
        "# stop training the model if the validation accuracy doesn't improve for 6 consecutive epochs\n",
        "callback = tf.keras.callbacks.EarlyStopping(monitor='accuracy', patience=6)"
      ],
      "execution_count": 38,
      "outputs": []
    },
    {
      "cell_type": "code",
      "metadata": {
        "id": "PtWR4rysYV_y"
      },
      "source": [
        "# define model loss and optimizer as well as metrics to monitor during training\n",
        "model.compile(optimizer='adam',\n",
        "               loss=tf.losses.BinaryCrossentropy(from_logits=True),\n",
        "               metrics=[tf.metrics.BinaryAccuracy(threshold=0.0, name='accuracy')])"
      ],
      "execution_count": 39,
      "outputs": []
    },
    {
      "cell_type": "code",
      "metadata": {
        "id": "CgEAQiAxZZkF"
      },
      "source": [
        "# slice data to create train and validation sets\n",
        "# we'll train the model on the train set, and use the validation set for validation\n",
        "# this helps us monitor the model for potential overfitting and\n",
        "# if the model generalizes to unseen data\n",
        "x_val = train_examples[:10000]\n",
        "partial_x_train = train_examples[10000:]\n",
        "\n",
        "y_val = train_labels[:10000]\n",
        "partial_y_train = train_labels[10000:]"
      ],
      "execution_count": 40,
      "outputs": []
    },
    {
      "cell_type": "code",
      "metadata": {
        "colab": {
          "base_uri": "https://localhost:8080/"
        },
        "id": "SkOXzetSZvv1",
        "outputId": "fc235752-21d8-40d9-9827-155334b79355"
      },
      "source": [
        "batch_size = 512\n",
        "epochs = 40\n",
        "\n",
        "# number of steps needed to go through the entire dataset in each epoch\n",
        "import math\n",
        "steps_per_epoch = math.ceil(len(partial_x_train) / batch_size)\n",
        "print(f'each epoch has {steps_per_epoch} steps')\n",
        "\n",
        "# train model\n",
        "# model metrics (i.e. loss, accuracy) will be stored in this variable\n",
        "history = model.fit(partial_x_train, partial_y_train,\n",
        "                    epochs=epochs, batch_size=batch_size,\n",
        "                    validation_data=(x_val, y_val),\n",
        "                    callbacks=[callback],\n",
        "                    verbose=1)"
      ],
      "execution_count": 41,
      "outputs": [
        {
          "output_type": "stream",
          "text": [
            "each epoch has 30 steps\n",
            "Epoch 1/40\n",
            "30/30 [==============================] - 2s 70ms/step - loss: 0.7138 - accuracy: 0.5672 - val_loss: 0.4723 - val_accuracy: 0.8385\n",
            "Epoch 2/40\n",
            "30/30 [==============================] - 2s 65ms/step - loss: 0.3470 - accuracy: 0.9684 - val_loss: 0.3678 - val_accuracy: 0.8667\n",
            "Epoch 3/40\n",
            "30/30 [==============================] - 2s 65ms/step - loss: 0.2016 - accuracy: 0.9944 - val_loss: 0.3223 - val_accuracy: 0.8741\n",
            "Epoch 4/40\n",
            "30/30 [==============================] - 2s 68ms/step - loss: 0.1222 - accuracy: 0.9991 - val_loss: 0.3050 - val_accuracy: 0.8756\n",
            "Epoch 5/40\n",
            "30/30 [==============================] - 2s 65ms/step - loss: 0.0794 - accuracy: 0.9994 - val_loss: 0.3025 - val_accuracy: 0.8753\n",
            "Epoch 6/40\n",
            "30/30 [==============================] - 2s 67ms/step - loss: 0.0532 - accuracy: 0.9998 - val_loss: 0.3072 - val_accuracy: 0.8743\n",
            "Epoch 7/40\n",
            "30/30 [==============================] - 2s 67ms/step - loss: 0.0369 - accuracy: 0.9998 - val_loss: 0.3159 - val_accuracy: 0.8741\n",
            "Epoch 8/40\n",
            "30/30 [==============================] - 2s 65ms/step - loss: 0.0267 - accuracy: 1.0000 - val_loss: 0.3259 - val_accuracy: 0.8740\n",
            "Epoch 9/40\n",
            "30/30 [==============================] - 2s 67ms/step - loss: 0.0192 - accuracy: 1.0000 - val_loss: 0.3365 - val_accuracy: 0.8722\n",
            "Epoch 10/40\n",
            "30/30 [==============================] - 2s 66ms/step - loss: 0.0150 - accuracy: 1.0000 - val_loss: 0.3471 - val_accuracy: 0.8716\n",
            "Epoch 11/40\n",
            "30/30 [==============================] - 2s 67ms/step - loss: 0.0118 - accuracy: 1.0000 - val_loss: 0.3579 - val_accuracy: 0.8716\n",
            "Epoch 12/40\n",
            "30/30 [==============================] - 2s 66ms/step - loss: 0.0095 - accuracy: 1.0000 - val_loss: 0.3675 - val_accuracy: 0.8708\n",
            "Epoch 13/40\n",
            "30/30 [==============================] - 2s 65ms/step - loss: 0.0078 - accuracy: 1.0000 - val_loss: 0.3771 - val_accuracy: 0.8698\n",
            "Epoch 14/40\n",
            "30/30 [==============================] - 2s 65ms/step - loss: 0.0066 - accuracy: 1.0000 - val_loss: 0.3860 - val_accuracy: 0.8697\n",
            "Epoch 15/40\n",
            "30/30 [==============================] - 2s 65ms/step - loss: 0.0054 - accuracy: 1.0000 - val_loss: 0.3945 - val_accuracy: 0.8697\n"
          ],
          "name": "stdout"
        }
      ]
    },
    {
      "cell_type": "code",
      "metadata": {
        "colab": {
          "base_uri": "https://localhost:8080/"
        },
        "id": "jNSsXRCiZ53a",
        "outputId": "a7434831-0faf-4d5c-d682-6014d7ab32dd"
      },
      "source": [
        "# evaluate model performance on test data\n",
        "test_loss, test_acc = model.evaluate(test_data, test_labels)\n",
        "print(f'test loss: {round(test_loss * 100, 2)}%')\n",
        "print(f'test acc: {round(test_acc * 100, 2)}%')"
      ],
      "execution_count": 42,
      "outputs": [
        {
          "output_type": "stream",
          "text": [
            "782/782 [==============================] - 3s 4ms/step - loss: 0.4422 - accuracy: 0.8496\n",
            "test loss: 44.22%\n",
            "test acc: 84.96%\n"
          ],
          "name": "stdout"
        }
      ]
    },
    {
      "cell_type": "code",
      "metadata": {
        "colab": {
          "base_uri": "https://localhost:8080/"
        },
        "id": "fSx-DPPSaJx-",
        "outputId": "3f9e2318-a520-4b1f-e061-313843e1e391"
      },
      "source": [
        "# get keys for the model's metrics\n",
        "# shows the trend of loss and accuracy (and generally, potential overfitting)\n",
        "history_dict = history.history\n",
        "history_dict.keys()"
      ],
      "execution_count": 43,
      "outputs": [
        {
          "output_type": "execute_result",
          "data": {
            "text/plain": [
              "dict_keys(['loss', 'accuracy', 'val_loss', 'val_accuracy'])"
            ]
          },
          "metadata": {
            "tags": []
          },
          "execution_count": 43
        }
      ]
    },
    {
      "cell_type": "code",
      "metadata": {
        "id": "CUdGarhoaK49"
      },
      "source": [
        "def plot_metrics(metric='accuracy'):\n",
        "  \"\"\"\n",
        "  Helper function to plot the metrics of the model\n",
        "    Parameter:\n",
        "      metric: the metric that we seek to plot ex. accuracy, acc, loss\n",
        "\n",
        "    Returns:\n",
        "      plot of the trend of the metrics over the epochs\n",
        "  \"\"\"\n",
        "  if metric in ['accuracy', 'acc', 'loss']:\n",
        "    metric_one = history_dict[f'{metric}']\n",
        "    metric_two = history_dict[f'val_{metric}']\n",
        "    epochs = range(1, len(metric_one) + 1)\n",
        "  \n",
        "    plt.clf()\n",
        "    # \"bo\" is for \"blue dot\"  \n",
        "    plt.plot(epochs, metric_one, 'bo', label=f'training {metric}')\n",
        "    # b is for \"solid blue line\"\n",
        "    plt.plot(epochs, metric_two, 'b', label=f'validation {metric}')\n",
        "    plt.title(f'training and talidation {metric}')\n",
        "    plt.xlabel('epochs')\n",
        "    plt.ylabel(f'{metric}')\n",
        "    plt.legend()\n",
        "    plt.show()"
      ],
      "execution_count": 44,
      "outputs": []
    },
    {
      "cell_type": "code",
      "metadata": {
        "colab": {
          "base_uri": "https://localhost:8080/",
          "height": 295
        },
        "id": "3EnUKCSDcsPc",
        "outputId": "216f191e-28b4-4ed2-a3dc-5ef1f8280c8d"
      },
      "source": [
        "# plot model accuracy over epochs\n",
        "plot_metrics(metric='accuracy')"
      ],
      "execution_count": 45,
      "outputs": [
        {
          "output_type": "display_data",
          "data": {
            "image/png": "[encoded data removed]",
            "text/plain": [
              "<Figure size 432x288 with 1 Axes>"
            ]
          },
          "metadata": {
            "tags": [],
            "needs_background": "light"
          }
        }
      ]
    },
    {
      "cell_type": "code",
      "metadata": {
        "colab": {
          "base_uri": "https://localhost:8080/",
          "height": 295
        },
        "id": "zFJoOKSscvhe",
        "outputId": "87645324-fa23-4229-d525-5e68d694ed15"
      },
      "source": [
        "# plot model loss over epochs\n",
        "plot_metrics(metric='loss')"
      ],
      "execution_count": 46,
      "outputs": [
        {
          "output_type": "display_data",
          "data": {
            "image/png": "[encoded data removed]",
            "text/plain": [
              "<Figure size 432x288 with 1 Axes>"
            ]
          },
          "metadata": {
            "tags": [],
            "needs_background": "light"
          }
        }
      ]
    },
    {
      "cell_type": "code",
      "metadata": {
        "colab": {
          "base_uri": "https://localhost:8080/"
        },
        "id": "2Xqy1COKcxmk",
        "outputId": "60d8b2fa-aa41-4f19-ffd0-56f18347bd2d"
      },
      "source": [
        "# saving the model version.\n",
        "model_name = 'text_classifier'\n",
        "version = '1'\n",
        "file_path = f'./{model_name}/{version}'\n",
        "tf.keras.models.save_model(\n",
        "    model,\n",
        "    file_path,\n",
        "    overwrite=True,\n",
        "    include_optimizer=True,\n",
        "    save_format='tf')\n"
      ],
      "execution_count": 47,
      "outputs": [
        {
          "output_type": "stream",
          "text": [
            "INFO:tensorflow:Assets written to: ./text_classifier/1/assets\n"
          ],
          "name": "stdout"
        },
        {
          "output_type": "stream",
          "text": [
            "INFO:tensorflow:Assets written to: ./text_classifier/1/assets\n"
          ],
          "name": "stderr"
        }
      ]
    },
    {
      "cell_type": "markdown",
      "metadata": {
        "id": "sciq40k1hLPm"
      },
      "source": [
        "Text Classifier - V2"
      ]
    },
    {
      "cell_type": "code",
      "metadata": {
        "colab": {
          "base_uri": "https://localhost:8080/"
        },
        "id": "XOY15-sCuo4y",
        "outputId": "a08d0235-c4a1-43e9-e28a-fb6241df6e88"
      },
      "source": [
        "# import dependencies\n",
        "import numpy as np\n",
        "import tensorflow as tf\n",
        "import tensorflow_hub as hub\n",
        "import tensorflow_datasets as tfds\n",
        "import matplotlib.pyplot as plt\n",
        "\n",
        "print(f'Version: {tf.__version__}')\n",
        "print(f'Eager mode: {tf.executing_eagerly()}')\n",
        "print(f'Hub version: {hub.__version__}')\n",
        "print(f'GPU is {\"available\" if tf.config.list_physical_devices(\"GPU\") else \"not available\"}')"
      ],
      "execution_count": null,
      "outputs": [
        {
          "output_type": "stream",
          "text": [
            "Version: 2.4.1\n",
            "Eager mode: True\n",
            "Hub version: 0.11.0\n",
            "GPU is available\n"
          ],
          "name": "stdout"
        }
      ]
    },
    {
      "cell_type": "code",
      "metadata": {
        "id": "IXcnWykYu7d7"
      },
      "source": [
        "# this example uses the imdb reviews dataset\n",
        "# load the dataset\n",
        "train_data, test_data = tfds.load(name=\"imdb_reviews\", split=[\"train\", \"test\"],\n",
        "                                  batch_size=-1, as_supervised=True)\n"
      ],
      "execution_count": null,
      "outputs": []
    },
    {
      "cell_type": "code",
      "metadata": {
        "colab": {
          "base_uri": "https://localhost:8080/"
        },
        "id": "7i8mU5BWu7bF",
        "outputId": "3fbb3809-81e0-4fef-a315-417f243d230e"
      },
      "source": [
        "# neural networks works with tensors\n",
        "# convert the dataset python generator yielding 1D tensors\n",
        "\n",
        "train_examples, train_labels = tfds.as_numpy(train_data)\n",
        "test_examples, test_labels = tfds.as_numpy(test_data)\n",
        "\n",
        "print(f'shape of train_examples {train_examples.shape}')\n",
        "print(f'shape of train_labels {train_labels.shape}')\n",
        "print(f'shape of test_examples {test_examples.shape}')\n",
        "print(f'shape of test_labels {test_labels.shape}')"
      ],
      "execution_count": null,
      "outputs": [
        {
          "output_type": "stream",
          "text": [
            "shape of train_examples (25000,)\n",
            "shape of train_labels (25000,)\n",
            "shape of test_examples (25000,)\n",
            "shape of test_labels (25000,)\n"
          ],
          "name": "stdout"
        }
      ]
    },
    {
      "cell_type": "code",
      "metadata": {
        "id": "SbFrD2G5wGd-"
      },
      "source": [
        "# concatenate train and test examples and labels\n",
        "def concatenate_data(train_features=train_examples, test_features=test_examples, train_labels=train_labels, test_labels=test_labels):\n",
        "  \"\"\"\n",
        "  Returns all train and test features in one array and all train and test labels in another array.\n",
        "\n",
        "  Parameters:\n",
        "    train_features: 1D tensor of train features\n",
        "    test_features: 1D tensor of test features\n",
        "    train_labels: 1D tensor of train labels\n",
        "    test_labels: 1D tensor of test labels\n",
        "  \n",
        "  Returns:\n",
        "    all_examples_features: 1D tensor of train and test features concatenated\n",
        "    all_examples_labels: 1D tensor of train and test labels concatenated\n",
        "  \"\"\"\n",
        "\n",
        "  try:\n",
        "    assert train_examples.shape == test_examples.shape, \\\n",
        "    f'Tensor shapes do not match. The shape of your first tensor is {train_examples.shape} and the shape of your second tensor is {test_examples.shape}.'\n",
        "\n",
        "    assert train_labels.shape == test_labels.shape, \\\n",
        "    f'Tensor shapes do not match. The shape of your first tensor is {train_labels.shape} and the shape of your second tensor is {test_labels.shape}.'\n",
        "\n",
        "    all_examples_features = np.concatenate((train_examples, test_examples), axis=0)\n",
        "    all_examples_labels = np.concatenate((train_labels, test_labels), axis=0)\n",
        "    return all_examples_features, all_examples_labels\n",
        "  except AssertionError as msg:\n",
        "    print(msg)\n",
        "\n",
        "all_examples_features, all_examples_labels = concatenate_data(train_features=train_examples, test_features=test_examples, train_labels=train_labels, test_labels=test_labels)"
      ],
      "execution_count": 48,
      "outputs": []
    },
    {
      "cell_type": "code",
      "metadata": {
        "colab": {
          "base_uri": "https://localhost:8080/"
        },
        "id": "poRNf83jypit",
        "outputId": "de685545-ec60-4871-f061-318af49e947a"
      },
      "source": [
        "print(f'shape of features after concatenation {all_examples_features.shape}')\n",
        "print(f'shape of labels after concatenation {all_examples_labels.shape}')"
      ],
      "execution_count": 49,
      "outputs": [
        {
          "output_type": "stream",
          "text": [
            "shape of features after concatenation (50000,)\n",
            "shape of labels after concatenation (50000,)\n"
          ],
          "name": "stdout"
        }
      ]
    },
    {
      "cell_type": "code",
      "metadata": {
        "colab": {
          "base_uri": "https://localhost:8080/",
          "height": 35
        },
        "id": "U3yoG_Wi0vDy",
        "outputId": "19ac8685-2626-4ba1-ed9e-414a536dd91c"
      },
      "source": [
        "# helper function to check that the original data was combined correctly\n",
        "# def (train_examples=train_examples, tes)\n",
        "def data_match(all_examples_features=all_examples_features, all_examples_labels=all_examples_labels, train_examples=train_examples, train_labels=train_labels, test_examples=test_examples, test_labels=test_labels):\n",
        "  len_all_example_features = len(all_examples_features)\n",
        "  len_all_examples_labels = len(all_examples_labels)\n",
        "  len_train_examples = len(train_examples)\n",
        "  len_train_labels = len(train_labels)\n",
        "  \n",
        "  features_match_train = [True for idx in range(0, len_all_example_features)[:len_train_examples] if train_examples[idx] == all_examples_features[idx]]\n",
        "  features_match_test = [True for idx in range(len_train_examples, len_all_example_features)[len_train_examples:] if test_examples[idx] == all_examples_features[idx]]\n",
        "  labels_match_train = [True for idx in range(0, len_all_examples_labels)[:len_train_labels] if train_labels[idx] == all_examples_labels[idx]]\n",
        "  labels_match_test = [True for idx in range(len_train_examples, len_all_examples_labels)[len_train_labels:] if test_labels[idx] == all_examples_labels[idx]]\n",
        "\n",
        "  if False in [features_match_train, features_match_test]:\n",
        "    return f'Mismatch detected in features'\n",
        "  \n",
        "  if False in [labels_match_train, labels_match_test]:\n",
        "    return f'Mismatch detected in labels'\n",
        "  \n",
        "  return f'All features and labels match'\n",
        "  \n",
        "data_match(all_examples_features=all_examples_features, train_examples=train_examples, test_examples=test_examples)"
      ],
      "execution_count": 50,
      "outputs": [
        {
          "output_type": "execute_result",
          "data": {
            "application/vnd.google.colaboratory.intrinsic+json": {
              "type": "string"
            },
            "text/plain": [
              "'All features and labels match'"
            ]
          },
          "metadata": {
            "tags": []
          },
          "execution_count": 50
        }
      ]
    },
    {
      "cell_type": "code",
      "metadata": {
        "colab": {
          "base_uri": "https://localhost:8080/",
          "height": 123
        },
        "id": "CfTRpEEhu7SM",
        "outputId": "8bca1e25-4d3d-4463-b01c-d475fccdf4c3"
      },
      "source": [
        "# the reviews are not actually strings. they are byte encoded\n",
        "# however, the pretrained model that we'll use handles the decoding\n",
        "# it also handles tokenization of each review and\n",
        "# it converts each timestep in the sequence of words to a 50D word vector/embedding\n",
        "model = \"https://tfhub.dev/google/nnlm-en-dim50/2\"\n",
        "hub_layer = hub.KerasLayer(model, input_shape=[], dtype=tf.string, trainable=True)\n",
        "\n",
        "def confirm_dim(features=all_examples_features):\n",
        "  \"\"\"\n",
        "  Confirms the word embedding for each review is 50D\n",
        "  \n",
        "  Parameters:\n",
        "    all_examples_features: feature space showing all reviews\n",
        "  \n",
        "  Returns:\n",
        "    Whether or not the reviews are mapped to 50D word embeddings\n",
        "  \"\"\"\n",
        "  is_50d = [True for review in hub_layer(all_examples_features) if review.shape[0] == 50]\n",
        "  if False in is_50d:\n",
        "    return f'At least one review is not mapped to a 50D word embedding'\n",
        "  return f'Each review is mapped to a 50D word embedding'\n",
        "\n",
        "confirm_dim(all_examples_features)"
      ],
      "execution_count": 51,
      "outputs": [
        {
          "output_type": "stream",
          "text": [
            "WARNING:tensorflow:5 out of the last 6 calls to <function recreate_function.<locals>.restored_function_body at 0x7fa34f8dbb00> triggered tf.function retracing. Tracing is expensive and the excessive number of tracings could be due to (1) creating @tf.function repeatedly in a loop, (2) passing tensors with different shapes, (3) passing Python objects instead of tensors. For (1), please define your @tf.function outside of the loop. For (2), @tf.function has experimental_relax_shapes=True option that relaxes argument shapes that can avoid unnecessary retracing. For (3), please refer to https://www.tensorflow.org/guide/function#controlling_retracing and https://www.tensorflow.org/api_docs/python/tf/function for  more details.\n"
          ],
          "name": "stdout"
        },
        {
          "output_type": "stream",
          "text": [
            "WARNING:tensorflow:5 out of the last 6 calls to <function recreate_function.<locals>.restored_function_body at 0x7fa34f8dbb00> triggered tf.function retracing. Tracing is expensive and the excessive number of tracings could be due to (1) creating @tf.function repeatedly in a loop, (2) passing tensors with different shapes, (3) passing Python objects instead of tensors. For (1), please define your @tf.function outside of the loop. For (2), @tf.function has experimental_relax_shapes=True option that relaxes argument shapes that can avoid unnecessary retracing. For (3), please refer to https://www.tensorflow.org/guide/function#controlling_retracing and https://www.tensorflow.org/api_docs/python/tf/function for  more details.\n"
          ],
          "name": "stderr"
        },
        {
          "output_type": "stream",
          "text": [
            "WARNING:tensorflow:6 out of the last 7 calls to <function recreate_function.<locals>.restored_function_body at 0x7fa352bf6d40> triggered tf.function retracing. Tracing is expensive and the excessive number of tracings could be due to (1) creating @tf.function repeatedly in a loop, (2) passing tensors with different shapes, (3) passing Python objects instead of tensors. For (1), please define your @tf.function outside of the loop. For (2), @tf.function has experimental_relax_shapes=True option that relaxes argument shapes that can avoid unnecessary retracing. For (3), please refer to https://www.tensorflow.org/guide/function#controlling_retracing and https://www.tensorflow.org/api_docs/python/tf/function for  more details.\n"
          ],
          "name": "stdout"
        },
        {
          "output_type": "stream",
          "text": [
            "WARNING:tensorflow:6 out of the last 7 calls to <function recreate_function.<locals>.restored_function_body at 0x7fa352bf6d40> triggered tf.function retracing. Tracing is expensive and the excessive number of tracings could be due to (1) creating @tf.function repeatedly in a loop, (2) passing tensors with different shapes, (3) passing Python objects instead of tensors. For (1), please define your @tf.function outside of the loop. For (2), @tf.function has experimental_relax_shapes=True option that relaxes argument shapes that can avoid unnecessary retracing. For (3), please refer to https://www.tensorflow.org/guide/function#controlling_retracing and https://www.tensorflow.org/api_docs/python/tf/function for  more details.\n"
          ],
          "name": "stderr"
        },
        {
          "output_type": "execute_result",
          "data": {
            "application/vnd.google.colaboratory.intrinsic+json": {
              "type": "string"
            },
            "text/plain": [
              "'Each review is mapped to a 50D word embedding'"
            ]
          },
          "metadata": {
            "tags": []
          },
          "execution_count": 51
        }
      ]
    },
    {
      "cell_type": "code",
      "metadata": {
        "colab": {
          "base_uri": "https://localhost:8080/"
        },
        "id": "qbNdZIXAu7Lg",
        "outputId": "df3d18bd-6945-4a2c-c684-501eb059315f"
      },
      "source": [
        "# stack layers using the keras Sequential class to create network architecture\n",
        "model = tf.keras.Sequential()\n",
        "model.add(hub_layer)\n",
        "model.add(tf.keras.layers.Dense(16, activation='relu'))\n",
        "model.add(tf.keras.layers.Dense(1))\n",
        "\n",
        "# show model architecture\n",
        "model.summary()"
      ],
      "execution_count": 62,
      "outputs": [
        {
          "output_type": "stream",
          "text": [
            "Model: \"sequential_5\"\n",
            "_________________________________________________________________\n",
            "Layer (type)                 Output Shape              Param #   \n",
            "=================================================================\n",
            "keras_layer_1 (KerasLayer)   (None, 50)                48190600  \n",
            "_________________________________________________________________\n",
            "dense_10 (Dense)             (None, 16)                816       \n",
            "_________________________________________________________________\n",
            "dense_11 (Dense)             (None, 1)                 17        \n",
            "=================================================================\n",
            "Total params: 48,191,433\n",
            "Trainable params: 48,191,433\n",
            "Non-trainable params: 0\n",
            "_________________________________________________________________\n"
          ],
          "name": "stdout"
        }
      ]
    },
    {
      "cell_type": "code",
      "metadata": {
        "colab": {
          "base_uri": "https://localhost:8080/",
          "height": 423
        },
        "id": "5RFpQ_T81AOg",
        "outputId": "07807dc8-e0db-4c3d-c1e9-79fb8f439337"
      },
      "source": [
        "# model graph\n",
        "tf.keras.utils.plot_model(model, 'text_classifier_v2.png')"
      ],
      "execution_count": 63,
      "outputs": [
        {
          "output_type": "stream",
          "text": [
            "WARNING:tensorflow:7 out of the last 8 calls to <function recreate_function.<locals>.restored_function_body at 0x7fa354b2bdd0> triggered tf.function retracing. Tracing is expensive and the excessive number of tracings could be due to (1) creating @tf.function repeatedly in a loop, (2) passing tensors with different shapes, (3) passing Python objects instead of tensors. For (1), please define your @tf.function outside of the loop. For (2), @tf.function has experimental_relax_shapes=True option that relaxes argument shapes that can avoid unnecessary retracing. For (3), please refer to https://www.tensorflow.org/guide/function#controlling_retracing and https://www.tensorflow.org/api_docs/python/tf/function for  more details.\n"
          ],
          "name": "stdout"
        },
        {
          "output_type": "stream",
          "text": [
            "WARNING:tensorflow:7 out of the last 8 calls to <function recreate_function.<locals>.restored_function_body at 0x7fa354b2bdd0> triggered tf.function retracing. Tracing is expensive and the excessive number of tracings could be due to (1) creating @tf.function repeatedly in a loop, (2) passing tensors with different shapes, (3) passing Python objects instead of tensors. For (1), please define your @tf.function outside of the loop. For (2), @tf.function has experimental_relax_shapes=True option that relaxes argument shapes that can avoid unnecessary retracing. For (3), please refer to https://www.tensorflow.org/guide/function#controlling_retracing and https://www.tensorflow.org/api_docs/python/tf/function for  more details.\n"
          ],
          "name": "stderr"
        },
        {
          "output_type": "execute_result",
          "data": {
            "image/png": "[encoded data removed]",
            "text/plain": [
              "<IPython.core.display.Image object>"
            ]
          },
          "metadata": {
            "tags": []
          },
          "execution_count": 63
        }
      ]
    },
    {
      "cell_type": "code",
      "metadata": {
        "id": "GlnjEjH2L8hO"
      },
      "source": [
        "# stop training the model if the validation accuracy doesn't improve for 6 consecutive epochs\n",
        "callback = tf.keras.callbacks.EarlyStopping(monitor='accuracy', patience=6)"
      ],
      "execution_count": 64,
      "outputs": []
    },
    {
      "cell_type": "code",
      "metadata": {
        "id": "G_RjZdVNu7BI"
      },
      "source": [
        "# define model loss and optimizer \n",
        "# as well as metrics to monitor during training\n",
        "model.compile(optimizer='adam',\n",
        "               loss=tf.losses.BinaryCrossentropy(from_logits=True),\n",
        "               metrics=[tf.metrics.BinaryAccuracy(threshold=0.0, name='accuracy')])"
      ],
      "execution_count": 65,
      "outputs": []
    },
    {
      "cell_type": "code",
      "metadata": {
        "colab": {
          "base_uri": "https://localhost:8080/"
        },
        "id": "_qwGUN8lu64Q",
        "outputId": "54f1bd6b-e390-467c-8320-d12c9ff6ad2b"
      },
      "source": [
        "# slice data to create train and validation sets\n",
        "# we'll train the model on the train set, and use the validation set for validation\n",
        "# this helps us monitor the model for potential overfitting and most importantly\n",
        "# if the model generalizes to unseen data\n",
        "def train_test_split(split_pct=0.3, features=all_examples_features, labels=all_examples_labels):\n",
        "  \"\"\"\n",
        "  Splits aggregate data into train and test sets based.\n",
        "\n",
        "  Parameters:\n",
        "    split_pct: percent of the aggregate data placed in the test set\n",
        "    features: 1D tensor of all features. Features here represent reviews\n",
        "    labels: 1D tensor of all labels. Labels here represent the sentiment of the review: 0 or 1\n",
        "  \n",
        "  Returns:\n",
        "    train_features: 1D tensor of features in the train set\n",
        "    train_labels: 1D tensor of labels in the train set\n",
        "    test_features: 1D tensor of features in the test set\n",
        "    test_labels: 1D tensor of labels in the test set\n",
        "  \"\"\"\n",
        "  data_dimension = all_examples_features.shape[0]\n",
        "  data_slice = int(round(data_dimension * split_pct))\n",
        "  train_features = all_examples_features[:data_dimension - data_slice]\n",
        "  train_labels = all_examples_labels[:data_dimension - data_slice]\n",
        "  test_features = all_examples_features[data_dimension - data_slice:]\n",
        "  test_labels = all_examples_labels[data_dimension - data_slice:]\n",
        "  return train_features, train_labels, test_features, test_labels\n",
        "\n",
        "train_features, train_labels, test_features, test_labels = train_test_split(split_pct=0.3, features=all_examples_features, labels=all_examples_labels)\n",
        "\n",
        "print(f'shape of train features {train_features.shape}')\n",
        "print(f'shape of train labels {train_labels.shape}')\n",
        "print(f'shape of test features {test_features.shape}')\n",
        "print(f'shape of test labels {test_labels.shape}')\n",
        "\n",
        "\n"
      ],
      "execution_count": 67,
      "outputs": [
        {
          "output_type": "stream",
          "text": [
            "shape of train features (35000,)\n",
            "shape of train labels (35000,)\n",
            "shape of test features (15000,)\n",
            "shape of test labels (15000,)\n"
          ],
          "name": "stdout"
        }
      ]
    },
    {
      "cell_type": "code",
      "metadata": {
        "colab": {
          "base_uri": "https://localhost:8080/"
        },
        "id": "3Hn0Jx7CvXV2",
        "outputId": "2fde06f4-f914-477a-d880-6f79139ca1f2"
      },
      "source": [
        "batch_size = 512\n",
        "validation_split = 0.3\n",
        "epochs = 40\n",
        "\n",
        "# number of steps needed to go through the entire dataset in each epoch\n",
        "import math\n",
        "steps_per_epoch = math.ceil((len(train_features) * (1 - validation_split)) / batch_size)\n",
        "print(f'each epoch has {steps_per_epoch} steps')\n",
        "\n",
        "# train model\n",
        "# model metrics (i.e. loss, accuracy) will be stored in this variable\n",
        "history = model.fit(train_features, train_labels,\n",
        "                    epochs=epochs, batch_size=batch_size,\n",
        "                    validation_split=validation_split,\n",
        "                    callbacks=[callback],\n",
        "                    verbose=1)"
      ],
      "execution_count": 68,
      "outputs": [
        {
          "output_type": "stream",
          "text": [
            "each epoch has 48 steps\n",
            "Epoch 1/40\n",
            "48/48 [==============================] - 3s 63ms/step - loss: 0.6087 - accuracy: 0.7597 - val_loss: 0.4811 - val_accuracy: 0.8309\n",
            "Epoch 2/40\n",
            "48/48 [==============================] - 3s 60ms/step - loss: 0.3448 - accuracy: 0.9538 - val_loss: 0.3489 - val_accuracy: 0.8616\n",
            "Epoch 3/40\n",
            "48/48 [==============================] - 3s 61ms/step - loss: 0.1833 - accuracy: 0.9794 - val_loss: 0.3111 - val_accuracy: 0.8666\n",
            "Epoch 4/40\n",
            "48/48 [==============================] - 3s 61ms/step - loss: 0.1070 - accuracy: 0.9901 - val_loss: 0.3101 - val_accuracy: 0.8665\n",
            "Epoch 5/40\n",
            "48/48 [==============================] - 3s 61ms/step - loss: 0.0667 - accuracy: 0.9957 - val_loss: 0.3246 - val_accuracy: 0.8640\n",
            "Epoch 6/40\n",
            "48/48 [==============================] - 3s 60ms/step - loss: 0.0428 - accuracy: 0.9981 - val_loss: 0.3469 - val_accuracy: 0.8623\n",
            "Epoch 7/40\n",
            "48/48 [==============================] - 3s 61ms/step - loss: 0.0279 - accuracy: 0.9992 - val_loss: 0.3735 - val_accuracy: 0.8588\n",
            "Epoch 8/40\n",
            "48/48 [==============================] - 3s 59ms/step - loss: 0.0178 - accuracy: 0.9998 - val_loss: 0.4005 - val_accuracy: 0.8589\n",
            "Epoch 9/40\n",
            "48/48 [==============================] - 3s 59ms/step - loss: 0.0121 - accuracy: 1.0000 - val_loss: 0.4323 - val_accuracy: 0.8544\n",
            "Epoch 10/40\n",
            "48/48 [==============================] - 3s 60ms/step - loss: 0.0084 - accuracy: 1.0000 - val_loss: 0.4542 - val_accuracy: 0.8557\n",
            "Epoch 11/40\n",
            "48/48 [==============================] - 3s 60ms/step - loss: 0.0062 - accuracy: 1.0000 - val_loss: 0.4765 - val_accuracy: 0.8550\n",
            "Epoch 12/40\n",
            "48/48 [==============================] - 3s 59ms/step - loss: 0.0046 - accuracy: 1.0000 - val_loss: 0.4991 - val_accuracy: 0.8545\n",
            "Epoch 13/40\n",
            "48/48 [==============================] - 3s 61ms/step - loss: 0.0036 - accuracy: 1.0000 - val_loss: 0.5203 - val_accuracy: 0.8533\n",
            "Epoch 14/40\n",
            "48/48 [==============================] - 3s 60ms/step - loss: 0.0028 - accuracy: 1.0000 - val_loss: 0.5369 - val_accuracy: 0.8532\n",
            "Epoch 15/40\n",
            "48/48 [==============================] - 3s 60ms/step - loss: 0.0023 - accuracy: 1.0000 - val_loss: 0.5538 - val_accuracy: 0.8526\n",
            "Epoch 16/40\n",
            "48/48 [==============================] - 3s 60ms/step - loss: 0.0019 - accuracy: 1.0000 - val_loss: 0.5700 - val_accuracy: 0.8520\n",
            "Epoch 17/40\n",
            "48/48 [==============================] - 3s 61ms/step - loss: 0.0015 - accuracy: 1.0000 - val_loss: 0.5831 - val_accuracy: 0.8521\n",
            "Epoch 18/40\n",
            "48/48 [==============================] - 3s 60ms/step - loss: 0.0013 - accuracy: 1.0000 - val_loss: 0.5974 - val_accuracy: 0.8516\n",
            "Epoch 19/40\n",
            "48/48 [==============================] - 3s 60ms/step - loss: 0.0011 - accuracy: 1.0000 - val_loss: 0.6100 - val_accuracy: 0.8515\n"
          ],
          "name": "stdout"
        }
      ]
    },
    {
      "cell_type": "code",
      "metadata": {
        "colab": {
          "base_uri": "https://localhost:8080/"
        },
        "id": "dQWzAccqvXQs",
        "outputId": "fd303357-8b87-4e45-aaf0-45fdf448c62f"
      },
      "source": [
        "# evaluate model performance on test data\n",
        "test_loss, test_acc = model.evaluate(test_features, test_labels)\n",
        "print(f'test_loss: {round(test_loss * 100, 2)}%')\n",
        "print(f'test_acc: {round(test_acc * 100, 2)}%')"
      ],
      "execution_count": 70,
      "outputs": [
        {
          "output_type": "stream",
          "text": [
            "469/469 [==============================] - 2s 4ms/step - loss: 0.6127 - accuracy: 0.8519\n",
            "test_loss: 61.27%\n",
            "test_acc: 85.19%\n"
          ],
          "name": "stdout"
        }
      ]
    },
    {
      "cell_type": "code",
      "metadata": {
        "colab": {
          "base_uri": "https://localhost:8080/"
        },
        "id": "uLn4LIcPE0dm",
        "outputId": "9066df7a-e401-4f3a-9138-4fba90d4aa03"
      },
      "source": [
        "print(model.predict([b\"This was an absolutely terrible movie. Don't be lured in by Christopher Walken or Michael Ironside. Both are great actors, but this must simply be their worst role in history. Even their great acting could not redeem this movie's ridiculous storyline. This movie is an early nineties US propaganda piece. The most pathetic scenes were those when the Columbian rebels were making their cases for revolutions. Maria Conchita Alonso appeared phony, and her pseudo-love affair with Walken was nothing but a pathetic emotional plug in a movie that was devoid of any real meaning. I am disappointed that there are movies like this, ruining actor's like Christopher Walken's good name. I could barely sit through it.\"]))\n",
        "print(model.predict([b'As others have mentioned, all the women that go nude in this film are mostly absolutely gorgeous. The plot very ably shows the hypocrisy of the female libido. When men are around they want to be pursued, but when no \"men\" are around, they become the pursuers of a 14 year old boy. And the boy becomes a man really fast (we should all be so lucky at this age!). He then gets up the courage to pursue his true love']))"
      ],
      "execution_count": 71,
      "outputs": [
        {
          "output_type": "stream",
          "text": [
            "[[-15.9503765]]\n",
            "[[6.058365]]\n"
          ],
          "name": "stdout"
        }
      ]
    },
    {
      "cell_type": "code",
      "metadata": {
        "colab": {
          "base_uri": "https://localhost:8080/"
        },
        "id": "tXi6Mj_S9iNi",
        "outputId": "9b054391-4ffe-40d1-eaee-d09c3944ebca"
      },
      "source": [
        "# get keys for the model's metrics\n",
        "# needed to eventually see the trend of loss and accuracy (and generally, potential overfitting)\n",
        "history_dict = history.history\n",
        "history_dict.keys()"
      ],
      "execution_count": 72,
      "outputs": [
        {
          "output_type": "execute_result",
          "data": {
            "text/plain": [
              "dict_keys(['loss', 'accuracy', 'val_loss', 'val_accuracy'])"
            ]
          },
          "metadata": {
            "tags": []
          },
          "execution_count": 72
        }
      ]
    },
    {
      "cell_type": "code",
      "metadata": {
        "id": "ngXLiwt1vXJK"
      },
      "source": [
        "def plot_metrics(metric='accuracy'):\n",
        "  \"\"\"\n",
        "  Helper function to plot the metrics of the model\n",
        "    Parameter:\n",
        "      metric: the metric that we seek to plot ex. accuracy, acc, loss\n",
        "\n",
        "    Returns:\n",
        "      plot of the trend of the metrics over the epochs\n",
        "  \"\"\"\n",
        "  if metric in ['accuracy', 'acc', 'loss']:\n",
        "    metric_one = history_dict[f'{metric}']\n",
        "    metric_two = history_dict[f'val_{metric}']\n",
        "    epochs = range(1, len(metric_one) + 1)\n",
        "  \n",
        "    plt.clf()\n",
        "    # \"bo\" is for \"blue dot\"  \n",
        "    plt.plot(epochs, metric_one, 'bo', label=f'training {metric}')\n",
        "    # b is for \"solid blue line\"\n",
        "    plt.plot(epochs, metric_two, 'b', label=f'validation {metric}')\n",
        "    plt.title(f'training and talidation {metric}')\n",
        "    plt.xlabel('epochs')\n",
        "    plt.ylabel(f'{metric}')\n",
        "    plt.legend()\n",
        "    plt.show()"
      ],
      "execution_count": 73,
      "outputs": []
    },
    {
      "cell_type": "code",
      "metadata": {
        "colab": {
          "base_uri": "https://localhost:8080/",
          "height": 295
        },
        "id": "hyvq7_YdvgK7",
        "outputId": "53d7d283-857c-4c7a-cd0d-32f9462a64c6"
      },
      "source": [
        "# plot model accuracy over epochs\n",
        "plot_metrics(metric='accuracy')"
      ],
      "execution_count": 74,
      "outputs": [
        {
          "output_type": "display_data",
          "data": {
            "image/png": "[encoded data removed]",
            "text/plain": [
              "<Figure size 432x288 with 1 Axes>"
            ]
          },
          "metadata": {
            "tags": [],
            "needs_background": "light"
          }
        }
      ]
    },
    {
      "cell_type": "code",
      "metadata": {
        "colab": {
          "base_uri": "https://localhost:8080/",
          "height": 295
        },
        "id": "wmr8V0pD9nS8",
        "outputId": "40e2f868-62cc-421e-feec-0fe67d1d14a8"
      },
      "source": [
        "# plot model loss over epochs\n",
        "plot_metrics(metric='loss')"
      ],
      "execution_count": 75,
      "outputs": [
        {
          "output_type": "display_data",
          "data": {
            "image/png": "[encoded data removed]",
            "text/plain": [
              "<Figure size 432x288 with 1 Axes>"
            ]
          },
          "metadata": {
            "tags": [],
            "needs_background": "light"
          }
        }
      ]
    },
    {
      "cell_type": "code",
      "metadata": {
        "colab": {
          "base_uri": "https://localhost:8080/"
        },
        "id": "xHiQetULvgGa",
        "outputId": "15fd57a0-c7c8-47d7-ea40-7a5289f388bf"
      },
      "source": [
        "# saving the model version.\n",
        "model_name = 'text_classifier'\n",
        "version = '2'\n",
        "file_path = f'./{model_name}/{version}'\n",
        "tf.keras.models.save_model(\n",
        "    model,\n",
        "    file_path,\n",
        "    overwrite=True,\n",
        "    include_optimizer=True,\n",
        "    save_format='tf')\n"
      ],
      "execution_count": 76,
      "outputs": [
        {
          "output_type": "stream",
          "text": [
            "INFO:tensorflow:Assets written to: ./text_classifier/2/assets\n"
          ],
          "name": "stdout"
        },
        {
          "output_type": "stream",
          "text": [
            "INFO:tensorflow:Assets written to: ./text_classifier/2/assets\n"
          ],
          "name": "stderr"
        }
      ]
    },
    {
      "cell_type": "code",
      "metadata": {
        "colab": {
          "base_uri": "https://localhost:8080/",
          "height": 292
        },
        "id": "icY56w4Ivf_S",
        "outputId": "7753813d-b707-4023-acbb-70a1a9e1ba16"
      },
      "source": [
        "# zip saved model and download to the downloads folder of your local machine\n",
        "!zip -r /content/text_classifier.zip /content/text_classifier\n",
        "\n",
        "# download files to the downloads folder of your local machine\n",
        "# after downloading, ensure you unzip the text_classifier file,\n",
        "# do not rename the unzipped file and leave it in the downloads folder\n",
        "from google.colab import files\n",
        "files.download('/content/text_classifier.zip')\n"
      ],
      "execution_count": 77,
      "outputs": [
        {
          "output_type": "stream",
          "text": [
            "  adding: content/text_classifier/ (stored 0%)\n",
            "  adding: content/text_classifier/2/ (stored 0%)\n",
            "  adding: content/text_classifier/2/assets/ (stored 0%)\n",
            "  adding: content/text_classifier/2/assets/tokens.txt (deflated 47%)\n",
            "  adding: content/text_classifier/2/saved_model.pb (deflated 86%)\n",
            "  adding: content/text_classifier/2/variables/ (stored 0%)\n",
            "  adding: content/text_classifier/2/variables/variables.index (deflated 60%)\n",
            "  adding: content/text_classifier/2/variables/variables.data-00000-of-00001 (deflated 64%)\n",
            "  adding: content/text_classifier/1/ (stored 0%)\n",
            "  adding: content/text_classifier/1/assets/ (stored 0%)\n",
            "  adding: content/text_classifier/1/assets/tokens.txt (deflated 47%)\n",
            "  adding: content/text_classifier/1/saved_model.pb (deflated 86%)\n",
            "  adding: content/text_classifier/1/variables/ (stored 0%)\n",
            "  adding: content/text_classifier/1/variables/variables.index (deflated 60%)\n",
            "  adding: content/text_classifier/1/variables/variables.data-00000-of-00001 (deflated 65%)\n"
          ],
          "name": "stdout"
        },
        {
          "output_type": "display_data",
          "data": {
            "application/javascript": [
              "\n",
              "    async function download(id, filename, size) {\n",
              "      if (!google.colab.kernel.accessAllowed) {\n",
              "        return;\n",
              "      }\n",
              "      const div = document.createElement('div');\n",
              "      const label = document.createElement('label');\n",
              "      label.textContent = `Downloading \"${filename}\": `;\n",
              "      div.appendChild(label);\n",
              "      const progress = document.createElement('progress');\n",
              "      progress.max = size;\n",
              "      div.appendChild(progress);\n",
              "      document.body.appendChild(div);\n",
              "\n",
              "      const buffers = [];\n",
              "      let downloaded = 0;\n",
              "\n",
              "      const channel = await google.colab.kernel.comms.open(id);\n",
              "      // Send a message to notify the kernel that we're ready.\n",
              "      channel.send({})\n",
              "\n",
              "      for await (const message of channel.messages) {\n",
              "        // Send a message to notify the kernel that we're ready.\n",
              "        channel.send({})\n",
              "        if (message.buffers) {\n",
              "          for (const buffer of message.buffers) {\n",
              "            buffers.push(buffer);\n",
              "            downloaded += buffer.byteLength;\n",
              "            progress.value = downloaded;\n",
              "          }\n",
              "        }\n",
              "      }\n",
              "      const blob = new Blob(buffers, {type: 'application/binary'});\n",
              "      const a = document.createElement('a');\n",
              "      a.href = window.URL.createObjectURL(blob);\n",
              "      a.download = filename;\n",
              "      div.appendChild(a);\n",
              "      a.click();\n",
              "      div.remove();\n",
              "    }\n",
              "  "
            ],
            "text/plain": [
              "<IPython.core.display.Javascript object>"
            ]
          },
          "metadata": {
            "tags": []
          }
        },
        {
          "output_type": "display_data",
          "data": {
            "application/javascript": [
              "download(\"download_d8f25ae2-2b18-423b-b152-7739e56e2ac1\", \"text_classifier.zip\", 418744897)"
            ],
            "text/plain": [
              "<IPython.core.display.Javascript object>"
            ]
          },
          "metadata": {
            "tags": []
          }
        }
      ]
    },
    {
      "cell_type": "code",
      "metadata": {
        "colab": {
          "base_uri": "https://localhost:8080/"
        },
        "id": "HYqAMI7PmY7b",
        "outputId": "03af1a3f-00e2-4800-c26c-8f10d002d600"
      },
      "source": [
        "def actual_vs_pred(idx=10000):\n",
        "  \"\"\"\n",
        "  Compares the model's prediction against the actual label in the original test data\n",
        "  \"\"\"\n",
        "  print(f'movie review: {test_examples[idx].decode(\"utf-8\")}')\n",
        "  print(f'sentiment from original label: {\"positive review\" if test_labels[idx] == 1 else \"negative review\"}')\n",
        "  print(f'sentiment from model prediction: {\"positive review\" if model.predict([test_examples[idx]])[0][0] > 0 else \"negative review\"}')\n",
        "\n",
        "actual_vs_pred(7000)"
      ],
      "execution_count": 91,
      "outputs": [
        {
          "output_type": "stream",
          "text": [
            "movie review: I watched the first show of each series just to see and what a waste of time. The girl from Emmerdale she was fat so yeah she should be in fat friend but no one every lost weigh.<br /><br />Like Itv made a big mistake with this.<br /><br />Bad Girls is 100times better.<br /><br />I feel that the whole show was just about large people trying to loose weight but never did then they tried to have love storyline oh my god what a a waste of time and also air time. This show has not been repeated on ITV2/3/4 yeah thats how good it is.<br /><br />I would say do not by th box sets just a waste of money.<br /><br />BEWARE\n",
            "sentiment from original label: negative review\n",
            "sentiment from model prediction: negative review\n"
          ],
          "name": "stdout"
        }
      ]
    },
    {
      "cell_type": "code",
      "metadata": {
        "id": "11F-oR8huUgH"
      },
      "source": [
        ""
      ],
      "execution_count": null,
      "outputs": []
    }
  ]
}