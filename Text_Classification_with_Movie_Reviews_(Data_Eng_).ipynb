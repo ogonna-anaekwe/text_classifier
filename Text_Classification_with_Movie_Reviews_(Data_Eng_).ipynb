{
  "nbformat": 4,
  "nbformat_minor": 0,
  "metadata": {
    "colab": {
      "name": "Text Classification with Movie Reviews (Data Eng.).ipynb",
      "provenance": [],
      "collapsed_sections": [],
      "authorship_tag": "ABX9TyMYcx/4HU/em14J1fvV4aHI",
      "include_colab_link": true
    },
    "kernelspec": {
      "name": "python3",
      "display_name": "Python 3"
    },
    "accelerator": "GPU",
    "widgets": {
      "application/vnd.jupyter.widget-state+json": {
        "b27ad4e0a7b740e8b666e73207731f71": {
          "model_module": "@jupyter-widgets/controls",
          "model_name": "HBoxModel",
          "state": {
            "_view_name": "HBoxView",
            "_dom_classes": [],
            "_model_name": "HBoxModel",
            "_view_module": "@jupyter-widgets/controls",
            "_model_module_version": "1.5.0",
            "_view_count": null,
            "_view_module_version": "1.5.0",
            "box_style": "",
            "layout": "IPY_MODEL_45cc86365df447f38142159fd6b669e2",
            "_model_module": "@jupyter-widgets/controls",
            "children": [
              "IPY_MODEL_5856d27a4c704a87a8bec4826c226bca",
              "IPY_MODEL_48b6e549628f429092701d716cde9c63"
            ]
          }
        },
        "45cc86365df447f38142159fd6b669e2": {
          "model_module": "@jupyter-widgets/base",
          "model_name": "LayoutModel",
          "state": {
            "_view_name": "LayoutView",
            "grid_template_rows": null,
            "right": null,
            "justify_content": null,
            "_view_module": "@jupyter-widgets/base",
            "overflow": null,
            "_model_module_version": "1.2.0",
            "_view_count": null,
            "flex_flow": null,
            "width": null,
            "min_width": null,
            "border": null,
            "align_items": null,
            "bottom": null,
            "_model_module": "@jupyter-widgets/base",
            "top": null,
            "grid_column": null,
            "overflow_y": null,
            "overflow_x": null,
            "grid_auto_flow": null,
            "grid_area": null,
            "grid_template_columns": null,
            "flex": null,
            "_model_name": "LayoutModel",
            "justify_items": null,
            "grid_row": null,
            "max_height": null,
            "align_content": null,
            "visibility": null,
            "align_self": null,
            "height": null,
            "min_height": null,
            "padding": null,
            "grid_auto_rows": null,
            "grid_gap": null,
            "max_width": null,
            "order": null,
            "_view_module_version": "1.2.0",
            "grid_template_areas": null,
            "object_position": null,
            "object_fit": null,
            "grid_auto_columns": null,
            "margin": null,
            "display": null,
            "left": null
          }
        },
        "5856d27a4c704a87a8bec4826c226bca": {
          "model_module": "@jupyter-widgets/controls",
          "model_name": "FloatProgressModel",
          "state": {
            "_view_name": "ProgressView",
            "style": "IPY_MODEL_9fb00e83a5e249b98ee80a654121bb1b",
            "_dom_classes": [],
            "description": "Dl Completed...: 100%",
            "_model_name": "FloatProgressModel",
            "bar_style": "success",
            "max": 1,
            "_view_module": "@jupyter-widgets/controls",
            "_model_module_version": "1.5.0",
            "value": 1,
            "_view_count": null,
            "_view_module_version": "1.5.0",
            "orientation": "horizontal",
            "min": 0,
            "description_tooltip": null,
            "_model_module": "@jupyter-widgets/controls",
            "layout": "IPY_MODEL_fa1b245494c34862be0c78d029ae6ad8"
          }
        },
        "48b6e549628f429092701d716cde9c63": {
          "model_module": "@jupyter-widgets/controls",
          "model_name": "HTMLModel",
          "state": {
            "_view_name": "HTMLView",
            "style": "IPY_MODEL_998da67c016648b28771e843c7ed4adc",
            "_dom_classes": [],
            "description": "",
            "_model_name": "HTMLModel",
            "placeholder": "​",
            "_view_module": "@jupyter-widgets/controls",
            "_model_module_version": "1.5.0",
            "value": " 1/1 [00:04&lt;00:00,  4.44s/ url]",
            "_view_count": null,
            "_view_module_version": "1.5.0",
            "description_tooltip": null,
            "_model_module": "@jupyter-widgets/controls",
            "layout": "IPY_MODEL_bbc1e549b9854038aea9a85465e682bc"
          }
        },
        "9fb00e83a5e249b98ee80a654121bb1b": {
          "model_module": "@jupyter-widgets/controls",
          "model_name": "ProgressStyleModel",
          "state": {
            "_view_name": "StyleView",
            "_model_name": "ProgressStyleModel",
            "description_width": "initial",
            "_view_module": "@jupyter-widgets/base",
            "_model_module_version": "1.5.0",
            "_view_count": null,
            "_view_module_version": "1.2.0",
            "bar_color": null,
            "_model_module": "@jupyter-widgets/controls"
          }
        },
        "fa1b245494c34862be0c78d029ae6ad8": {
          "model_module": "@jupyter-widgets/base",
          "model_name": "LayoutModel",
          "state": {
            "_view_name": "LayoutView",
            "grid_template_rows": null,
            "right": null,
            "justify_content": null,
            "_view_module": "@jupyter-widgets/base",
            "overflow": null,
            "_model_module_version": "1.2.0",
            "_view_count": null,
            "flex_flow": null,
            "width": null,
            "min_width": null,
            "border": null,
            "align_items": null,
            "bottom": null,
            "_model_module": "@jupyter-widgets/base",
            "top": null,
            "grid_column": null,
            "overflow_y": null,
            "overflow_x": null,
            "grid_auto_flow": null,
            "grid_area": null,
            "grid_template_columns": null,
            "flex": null,
            "_model_name": "LayoutModel",
            "justify_items": null,
            "grid_row": null,
            "max_height": null,
            "align_content": null,
            "visibility": null,
            "align_self": null,
            "height": null,
            "min_height": null,
            "padding": null,
            "grid_auto_rows": null,
            "grid_gap": null,
            "max_width": null,
            "order": null,
            "_view_module_version": "1.2.0",
            "grid_template_areas": null,
            "object_position": null,
            "object_fit": null,
            "grid_auto_columns": null,
            "margin": null,
            "display": null,
            "left": null
          }
        },
        "998da67c016648b28771e843c7ed4adc": {
          "model_module": "@jupyter-widgets/controls",
          "model_name": "DescriptionStyleModel",
          "state": {
            "_view_name": "StyleView",
            "_model_name": "DescriptionStyleModel",
            "description_width": "",
            "_view_module": "@jupyter-widgets/base",
            "_model_module_version": "1.5.0",
            "_view_count": null,
            "_view_module_version": "1.2.0",
            "_model_module": "@jupyter-widgets/controls"
          }
        },
        "bbc1e549b9854038aea9a85465e682bc": {
          "model_module": "@jupyter-widgets/base",
          "model_name": "LayoutModel",
          "state": {
            "_view_name": "LayoutView",
            "grid_template_rows": null,
            "right": null,
            "justify_content": null,
            "_view_module": "@jupyter-widgets/base",
            "overflow": null,
            "_model_module_version": "1.2.0",
            "_view_count": null,
            "flex_flow": null,
            "width": null,
            "min_width": null,
            "border": null,
            "align_items": null,
            "bottom": null,
            "_model_module": "@jupyter-widgets/base",
            "top": null,
            "grid_column": null,
            "overflow_y": null,
            "overflow_x": null,
            "grid_auto_flow": null,
            "grid_area": null,
            "grid_template_columns": null,
            "flex": null,
            "_model_name": "LayoutModel",
            "justify_items": null,
            "grid_row": null,
            "max_height": null,
            "align_content": null,
            "visibility": null,
            "align_self": null,
            "height": null,
            "min_height": null,
            "padding": null,
            "grid_auto_rows": null,
            "grid_gap": null,
            "max_width": null,
            "order": null,
            "_view_module_version": "1.2.0",
            "grid_template_areas": null,
            "object_position": null,
            "object_fit": null,
            "grid_auto_columns": null,
            "margin": null,
            "display": null,
            "left": null
          }
        },
        "a7be1e0ca5e1497ebaf37cbaf973a9cb": {
          "model_module": "@jupyter-widgets/controls",
          "model_name": "HBoxModel",
          "state": {
            "_view_name": "HBoxView",
            "_dom_classes": [],
            "_model_name": "HBoxModel",
            "_view_module": "@jupyter-widgets/controls",
            "_model_module_version": "1.5.0",
            "_view_count": null,
            "_view_module_version": "1.5.0",
            "box_style": "",
            "layout": "IPY_MODEL_c03007fcf6bb4ea0a3698f182f6d3893",
            "_model_module": "@jupyter-widgets/controls",
            "children": [
              "IPY_MODEL_3a550717f6254dee9a6906371d65ae70",
              "IPY_MODEL_5042eeee6d62403381b9a3716deb5012"
            ]
          }
        },
        "c03007fcf6bb4ea0a3698f182f6d3893": {
          "model_module": "@jupyter-widgets/base",
          "model_name": "LayoutModel",
          "state": {
            "_view_name": "LayoutView",
            "grid_template_rows": null,
            "right": null,
            "justify_content": null,
            "_view_module": "@jupyter-widgets/base",
            "overflow": null,
            "_model_module_version": "1.2.0",
            "_view_count": null,
            "flex_flow": null,
            "width": null,
            "min_width": null,
            "border": null,
            "align_items": null,
            "bottom": null,
            "_model_module": "@jupyter-widgets/base",
            "top": null,
            "grid_column": null,
            "overflow_y": null,
            "overflow_x": null,
            "grid_auto_flow": null,
            "grid_area": null,
            "grid_template_columns": null,
            "flex": null,
            "_model_name": "LayoutModel",
            "justify_items": null,
            "grid_row": null,
            "max_height": null,
            "align_content": null,
            "visibility": null,
            "align_self": null,
            "height": null,
            "min_height": null,
            "padding": null,
            "grid_auto_rows": null,
            "grid_gap": null,
            "max_width": null,
            "order": null,
            "_view_module_version": "1.2.0",
            "grid_template_areas": null,
            "object_position": null,
            "object_fit": null,
            "grid_auto_columns": null,
            "margin": null,
            "display": null,
            "left": null
          }
        },
        "3a550717f6254dee9a6906371d65ae70": {
          "model_module": "@jupyter-widgets/controls",
          "model_name": "FloatProgressModel",
          "state": {
            "_view_name": "ProgressView",
            "style": "IPY_MODEL_2bc01e03032c49d096eb16af9d64d641",
            "_dom_classes": [],
            "description": "Dl Size...: 100%",
            "_model_name": "FloatProgressModel",
            "bar_style": "success",
            "max": 1,
            "_view_module": "@jupyter-widgets/controls",
            "_model_module_version": "1.5.0",
            "value": 1,
            "_view_count": null,
            "_view_module_version": "1.5.0",
            "orientation": "horizontal",
            "min": 0,
            "description_tooltip": null,
            "_model_module": "@jupyter-widgets/controls",
            "layout": "IPY_MODEL_c08c6945e2424d299a1626caa68b8475"
          }
        },
        "5042eeee6d62403381b9a3716deb5012": {
          "model_module": "@jupyter-widgets/controls",
          "model_name": "HTMLModel",
          "state": {
            "_view_name": "HTMLView",
            "style": "IPY_MODEL_64f8dd6bea8f44e4aee5d88dc9c6ec9b",
            "_dom_classes": [],
            "description": "",
            "_model_name": "HTMLModel",
            "placeholder": "​",
            "_view_module": "@jupyter-widgets/controls",
            "_model_module_version": "1.5.0",
            "value": " 80/80 [00:04&lt;00:00, 18.14 MiB/s]",
            "_view_count": null,
            "_view_module_version": "1.5.0",
            "description_tooltip": null,
            "_model_module": "@jupyter-widgets/controls",
            "layout": "IPY_MODEL_f779a060b7b042ca9ded3f18ab8c9063"
          }
        },
        "2bc01e03032c49d096eb16af9d64d641": {
          "model_module": "@jupyter-widgets/controls",
          "model_name": "ProgressStyleModel",
          "state": {
            "_view_name": "StyleView",
            "_model_name": "ProgressStyleModel",
            "description_width": "initial",
            "_view_module": "@jupyter-widgets/base",
            "_model_module_version": "1.5.0",
            "_view_count": null,
            "_view_module_version": "1.2.0",
            "bar_color": null,
            "_model_module": "@jupyter-widgets/controls"
          }
        },
        "c08c6945e2424d299a1626caa68b8475": {
          "model_module": "@jupyter-widgets/base",
          "model_name": "LayoutModel",
          "state": {
            "_view_name": "LayoutView",
            "grid_template_rows": null,
            "right": null,
            "justify_content": null,
            "_view_module": "@jupyter-widgets/base",
            "overflow": null,
            "_model_module_version": "1.2.0",
            "_view_count": null,
            "flex_flow": null,
            "width": null,
            "min_width": null,
            "border": null,
            "align_items": null,
            "bottom": null,
            "_model_module": "@jupyter-widgets/base",
            "top": null,
            "grid_column": null,
            "overflow_y": null,
            "overflow_x": null,
            "grid_auto_flow": null,
            "grid_area": null,
            "grid_template_columns": null,
            "flex": null,
            "_model_name": "LayoutModel",
            "justify_items": null,
            "grid_row": null,
            "max_height": null,
            "align_content": null,
            "visibility": null,
            "align_self": null,
            "height": null,
            "min_height": null,
            "padding": null,
            "grid_auto_rows": null,
            "grid_gap": null,
            "max_width": null,
            "order": null,
            "_view_module_version": "1.2.0",
            "grid_template_areas": null,
            "object_position": null,
            "object_fit": null,
            "grid_auto_columns": null,
            "margin": null,
            "display": null,
            "left": null
          }
        },
        "64f8dd6bea8f44e4aee5d88dc9c6ec9b": {
          "model_module": "@jupyter-widgets/controls",
          "model_name": "DescriptionStyleModel",
          "state": {
            "_view_name": "StyleView",
            "_model_name": "DescriptionStyleModel",
            "description_width": "",
            "_view_module": "@jupyter-widgets/base",
            "_model_module_version": "1.5.0",
            "_view_count": null,
            "_view_module_version": "1.2.0",
            "_model_module": "@jupyter-widgets/controls"
          }
        },
        "f779a060b7b042ca9ded3f18ab8c9063": {
          "model_module": "@jupyter-widgets/base",
          "model_name": "LayoutModel",
          "state": {
            "_view_name": "LayoutView",
            "grid_template_rows": null,
            "right": null,
            "justify_content": null,
            "_view_module": "@jupyter-widgets/base",
            "overflow": null,
            "_model_module_version": "1.2.0",
            "_view_count": null,
            "flex_flow": null,
            "width": null,
            "min_width": null,
            "border": null,
            "align_items": null,
            "bottom": null,
            "_model_module": "@jupyter-widgets/base",
            "top": null,
            "grid_column": null,
            "overflow_y": null,
            "overflow_x": null,
            "grid_auto_flow": null,
            "grid_area": null,
            "grid_template_columns": null,
            "flex": null,
            "_model_name": "LayoutModel",
            "justify_items": null,
            "grid_row": null,
            "max_height": null,
            "align_content": null,
            "visibility": null,
            "align_self": null,
            "height": null,
            "min_height": null,
            "padding": null,
            "grid_auto_rows": null,
            "grid_gap": null,
            "max_width": null,
            "order": null,
            "_view_module_version": "1.2.0",
            "grid_template_areas": null,
            "object_position": null,
            "object_fit": null,
            "grid_auto_columns": null,
            "margin": null,
            "display": null,
            "left": null
          }
        },
        "e322868622374d2cb3e504383178a567": {
          "model_module": "@jupyter-widgets/controls",
          "model_name": "HBoxModel",
          "state": {
            "_view_name": "HBoxView",
            "_dom_classes": [],
            "_model_name": "HBoxModel",
            "_view_module": "@jupyter-widgets/controls",
            "_model_module_version": "1.5.0",
            "_view_count": null,
            "_view_module_version": "1.5.0",
            "box_style": "",
            "layout": "IPY_MODEL_ae27b7f008794bfeb9e4ebaa07e51853",
            "_model_module": "@jupyter-widgets/controls",
            "children": [
              "IPY_MODEL_ce02b53915254026bdd23a1d9be70926",
              "IPY_MODEL_b376fdca21e84426b8dfe3a539026537"
            ]
          }
        },
        "ae27b7f008794bfeb9e4ebaa07e51853": {
          "model_module": "@jupyter-widgets/base",
          "model_name": "LayoutModel",
          "state": {
            "_view_name": "LayoutView",
            "grid_template_rows": null,
            "right": null,
            "justify_content": null,
            "_view_module": "@jupyter-widgets/base",
            "overflow": null,
            "_model_module_version": "1.2.0",
            "_view_count": null,
            "flex_flow": null,
            "width": null,
            "min_width": null,
            "border": null,
            "align_items": null,
            "bottom": null,
            "_model_module": "@jupyter-widgets/base",
            "top": null,
            "grid_column": null,
            "overflow_y": null,
            "overflow_x": null,
            "grid_auto_flow": null,
            "grid_area": null,
            "grid_template_columns": null,
            "flex": null,
            "_model_name": "LayoutModel",
            "justify_items": null,
            "grid_row": null,
            "max_height": null,
            "align_content": null,
            "visibility": null,
            "align_self": null,
            "height": null,
            "min_height": null,
            "padding": null,
            "grid_auto_rows": null,
            "grid_gap": null,
            "max_width": null,
            "order": null,
            "_view_module_version": "1.2.0",
            "grid_template_areas": null,
            "object_position": null,
            "object_fit": null,
            "grid_auto_columns": null,
            "margin": null,
            "display": null,
            "left": null
          }
        },
        "ce02b53915254026bdd23a1d9be70926": {
          "model_module": "@jupyter-widgets/controls",
          "model_name": "FloatProgressModel",
          "state": {
            "_view_name": "ProgressView",
            "style": "IPY_MODEL_5dc7bdabc6ff458a804e7e7fb51eb484",
            "_dom_classes": [],
            "description": "",
            "_model_name": "FloatProgressModel",
            "bar_style": "info",
            "max": 1,
            "_view_module": "@jupyter-widgets/controls",
            "_model_module_version": "1.5.0",
            "value": 1,
            "_view_count": null,
            "_view_module_version": "1.5.0",
            "orientation": "horizontal",
            "min": 0,
            "description_tooltip": null,
            "_model_module": "@jupyter-widgets/controls",
            "layout": "IPY_MODEL_b182ccd17ec240a3b478f5aaee388b95"
          }
        },
        "b376fdca21e84426b8dfe3a539026537": {
          "model_module": "@jupyter-widgets/controls",
          "model_name": "HTMLModel",
          "state": {
            "_view_name": "HTMLView",
            "style": "IPY_MODEL_e5462ed5566f484b92adbd07d5306f1f",
            "_dom_classes": [],
            "description": "",
            "_model_name": "HTMLModel",
            "placeholder": "​",
            "_view_module": "@jupyter-widgets/controls",
            "_model_module_version": "1.5.0",
            "value": " 25000/0 [00:12&lt;00:00, 3497.34 examples/s]",
            "_view_count": null,
            "_view_module_version": "1.5.0",
            "description_tooltip": null,
            "_model_module": "@jupyter-widgets/controls",
            "layout": "IPY_MODEL_f1be24acb27c47e8ba6ad9c6a622eea6"
          }
        },
        "5dc7bdabc6ff458a804e7e7fb51eb484": {
          "model_module": "@jupyter-widgets/controls",
          "model_name": "ProgressStyleModel",
          "state": {
            "_view_name": "StyleView",
            "_model_name": "ProgressStyleModel",
            "description_width": "initial",
            "_view_module": "@jupyter-widgets/base",
            "_model_module_version": "1.5.0",
            "_view_count": null,
            "_view_module_version": "1.2.0",
            "bar_color": null,
            "_model_module": "@jupyter-widgets/controls"
          }
        },
        "b182ccd17ec240a3b478f5aaee388b95": {
          "model_module": "@jupyter-widgets/base",
          "model_name": "LayoutModel",
          "state": {
            "_view_name": "LayoutView",
            "grid_template_rows": null,
            "right": null,
            "justify_content": null,
            "_view_module": "@jupyter-widgets/base",
            "overflow": null,
            "_model_module_version": "1.2.0",
            "_view_count": null,
            "flex_flow": null,
            "width": null,
            "min_width": null,
            "border": null,
            "align_items": null,
            "bottom": null,
            "_model_module": "@jupyter-widgets/base",
            "top": null,
            "grid_column": null,
            "overflow_y": null,
            "overflow_x": null,
            "grid_auto_flow": null,
            "grid_area": null,
            "grid_template_columns": null,
            "flex": null,
            "_model_name": "LayoutModel",
            "justify_items": null,
            "grid_row": null,
            "max_height": null,
            "align_content": null,
            "visibility": null,
            "align_self": null,
            "height": null,
            "min_height": null,
            "padding": null,
            "grid_auto_rows": null,
            "grid_gap": null,
            "max_width": null,
            "order": null,
            "_view_module_version": "1.2.0",
            "grid_template_areas": null,
            "object_position": null,
            "object_fit": null,
            "grid_auto_columns": null,
            "margin": null,
            "display": null,
            "left": null
          }
        },
        "e5462ed5566f484b92adbd07d5306f1f": {
          "model_module": "@jupyter-widgets/controls",
          "model_name": "DescriptionStyleModel",
          "state": {
            "_view_name": "StyleView",
            "_model_name": "DescriptionStyleModel",
            "description_width": "",
            "_view_module": "@jupyter-widgets/base",
            "_model_module_version": "1.5.0",
            "_view_count": null,
            "_view_module_version": "1.2.0",
            "_model_module": "@jupyter-widgets/controls"
          }
        },
        "f1be24acb27c47e8ba6ad9c6a622eea6": {
          "model_module": "@jupyter-widgets/base",
          "model_name": "LayoutModel",
          "state": {
            "_view_name": "LayoutView",
            "grid_template_rows": null,
            "right": null,
            "justify_content": null,
            "_view_module": "@jupyter-widgets/base",
            "overflow": null,
            "_model_module_version": "1.2.0",
            "_view_count": null,
            "flex_flow": null,
            "width": null,
            "min_width": null,
            "border": null,
            "align_items": null,
            "bottom": null,
            "_model_module": "@jupyter-widgets/base",
            "top": null,
            "grid_column": null,
            "overflow_y": null,
            "overflow_x": null,
            "grid_auto_flow": null,
            "grid_area": null,
            "grid_template_columns": null,
            "flex": null,
            "_model_name": "LayoutModel",
            "justify_items": null,
            "grid_row": null,
            "max_height": null,
            "align_content": null,
            "visibility": null,
            "align_self": null,
            "height": null,
            "min_height": null,
            "padding": null,
            "grid_auto_rows": null,
            "grid_gap": null,
            "max_width": null,
            "order": null,
            "_view_module_version": "1.2.0",
            "grid_template_areas": null,
            "object_position": null,
            "object_fit": null,
            "grid_auto_columns": null,
            "margin": null,
            "display": null,
            "left": null
          }
        },
        "7233c12325ee4833ba795f0285444f72": {
          "model_module": "@jupyter-widgets/controls",
          "model_name": "HBoxModel",
          "state": {
            "_view_name": "HBoxView",
            "_dom_classes": [],
            "_model_name": "HBoxModel",
            "_view_module": "@jupyter-widgets/controls",
            "_model_module_version": "1.5.0",
            "_view_count": null,
            "_view_module_version": "1.5.0",
            "box_style": "",
            "layout": "IPY_MODEL_59249f063b48407cad1d90d6c6d2c7e0",
            "_model_module": "@jupyter-widgets/controls",
            "children": [
              "IPY_MODEL_a68577b6ce02421f9349ea7403fc618b",
              "IPY_MODEL_0d3bd2ab3c32448db55593c9273771fe"
            ]
          }
        },
        "59249f063b48407cad1d90d6c6d2c7e0": {
          "model_module": "@jupyter-widgets/base",
          "model_name": "LayoutModel",
          "state": {
            "_view_name": "LayoutView",
            "grid_template_rows": null,
            "right": null,
            "justify_content": null,
            "_view_module": "@jupyter-widgets/base",
            "overflow": null,
            "_model_module_version": "1.2.0",
            "_view_count": null,
            "flex_flow": null,
            "width": null,
            "min_width": null,
            "border": null,
            "align_items": null,
            "bottom": null,
            "_model_module": "@jupyter-widgets/base",
            "top": null,
            "grid_column": null,
            "overflow_y": null,
            "overflow_x": null,
            "grid_auto_flow": null,
            "grid_area": null,
            "grid_template_columns": null,
            "flex": null,
            "_model_name": "LayoutModel",
            "justify_items": null,
            "grid_row": null,
            "max_height": null,
            "align_content": null,
            "visibility": null,
            "align_self": null,
            "height": null,
            "min_height": null,
            "padding": null,
            "grid_auto_rows": null,
            "grid_gap": null,
            "max_width": null,
            "order": null,
            "_view_module_version": "1.2.0",
            "grid_template_areas": null,
            "object_position": null,
            "object_fit": null,
            "grid_auto_columns": null,
            "margin": null,
            "display": null,
            "left": null
          }
        },
        "a68577b6ce02421f9349ea7403fc618b": {
          "model_module": "@jupyter-widgets/controls",
          "model_name": "FloatProgressModel",
          "state": {
            "_view_name": "ProgressView",
            "style": "IPY_MODEL_b0c4c405abc944559a9b872a2ac6fda3",
            "_dom_classes": [],
            "description": " 49%",
            "_model_name": "FloatProgressModel",
            "bar_style": "danger",
            "max": 25000,
            "_view_module": "@jupyter-widgets/controls",
            "_model_module_version": "1.5.0",
            "value": 12301,
            "_view_count": null,
            "_view_module_version": "1.5.0",
            "orientation": "horizontal",
            "min": 0,
            "description_tooltip": null,
            "_model_module": "@jupyter-widgets/controls",
            "layout": "IPY_MODEL_b8e4ac0bdb844ba0938d7601b0572ed6"
          }
        },
        "0d3bd2ab3c32448db55593c9273771fe": {
          "model_module": "@jupyter-widgets/controls",
          "model_name": "HTMLModel",
          "state": {
            "_view_name": "HTMLView",
            "style": "IPY_MODEL_1bc2bc1a354648f18448bb8c24c34a1b",
            "_dom_classes": [],
            "description": "",
            "_model_name": "HTMLModel",
            "placeholder": "​",
            "_view_module": "@jupyter-widgets/controls",
            "_model_module_version": "1.5.0",
            "value": " 12301/25000 [00:00&lt;00:00, 122996.92 examples/s]",
            "_view_count": null,
            "_view_module_version": "1.5.0",
            "description_tooltip": null,
            "_model_module": "@jupyter-widgets/controls",
            "layout": "IPY_MODEL_17294854d6594fa7963fae298d3fb219"
          }
        },
        "b0c4c405abc944559a9b872a2ac6fda3": {
          "model_module": "@jupyter-widgets/controls",
          "model_name": "ProgressStyleModel",
          "state": {
            "_view_name": "StyleView",
            "_model_name": "ProgressStyleModel",
            "description_width": "initial",
            "_view_module": "@jupyter-widgets/base",
            "_model_module_version": "1.5.0",
            "_view_count": null,
            "_view_module_version": "1.2.0",
            "bar_color": null,
            "_model_module": "@jupyter-widgets/controls"
          }
        },
        "b8e4ac0bdb844ba0938d7601b0572ed6": {
          "model_module": "@jupyter-widgets/base",
          "model_name": "LayoutModel",
          "state": {
            "_view_name": "LayoutView",
            "grid_template_rows": null,
            "right": null,
            "justify_content": null,
            "_view_module": "@jupyter-widgets/base",
            "overflow": null,
            "_model_module_version": "1.2.0",
            "_view_count": null,
            "flex_flow": null,
            "width": null,
            "min_width": null,
            "border": null,
            "align_items": null,
            "bottom": null,
            "_model_module": "@jupyter-widgets/base",
            "top": null,
            "grid_column": null,
            "overflow_y": null,
            "overflow_x": null,
            "grid_auto_flow": null,
            "grid_area": null,
            "grid_template_columns": null,
            "flex": null,
            "_model_name": "LayoutModel",
            "justify_items": null,
            "grid_row": null,
            "max_height": null,
            "align_content": null,
            "visibility": null,
            "align_self": null,
            "height": null,
            "min_height": null,
            "padding": null,
            "grid_auto_rows": null,
            "grid_gap": null,
            "max_width": null,
            "order": null,
            "_view_module_version": "1.2.0",
            "grid_template_areas": null,
            "object_position": null,
            "object_fit": null,
            "grid_auto_columns": null,
            "margin": null,
            "display": null,
            "left": null
          }
        },
        "1bc2bc1a354648f18448bb8c24c34a1b": {
          "model_module": "@jupyter-widgets/controls",
          "model_name": "DescriptionStyleModel",
          "state": {
            "_view_name": "StyleView",
            "_model_name": "DescriptionStyleModel",
            "description_width": "",
            "_view_module": "@jupyter-widgets/base",
            "_model_module_version": "1.5.0",
            "_view_count": null,
            "_view_module_version": "1.2.0",
            "_model_module": "@jupyter-widgets/controls"
          }
        },
        "17294854d6594fa7963fae298d3fb219": {
          "model_module": "@jupyter-widgets/base",
          "model_name": "LayoutModel",
          "state": {
            "_view_name": "LayoutView",
            "grid_template_rows": null,
            "right": null,
            "justify_content": null,
            "_view_module": "@jupyter-widgets/base",
            "overflow": null,
            "_model_module_version": "1.2.0",
            "_view_count": null,
            "flex_flow": null,
            "width": null,
            "min_width": null,
            "border": null,
            "align_items": null,
            "bottom": null,
            "_model_module": "@jupyter-widgets/base",
            "top": null,
            "grid_column": null,
            "overflow_y": null,
            "overflow_x": null,
            "grid_auto_flow": null,
            "grid_area": null,
            "grid_template_columns": null,
            "flex": null,
            "_model_name": "LayoutModel",
            "justify_items": null,
            "grid_row": null,
            "max_height": null,
            "align_content": null,
            "visibility": null,
            "align_self": null,
            "height": null,
            "min_height": null,
            "padding": null,
            "grid_auto_rows": null,
            "grid_gap": null,
            "max_width": null,
            "order": null,
            "_view_module_version": "1.2.0",
            "grid_template_areas": null,
            "object_position": null,
            "object_fit": null,
            "grid_auto_columns": null,
            "margin": null,
            "display": null,
            "left": null
          }
        },
        "824209b9d4954bf38f25dab76c0184f6": {
          "model_module": "@jupyter-widgets/controls",
          "model_name": "HBoxModel",
          "state": {
            "_view_name": "HBoxView",
            "_dom_classes": [],
            "_model_name": "HBoxModel",
            "_view_module": "@jupyter-widgets/controls",
            "_model_module_version": "1.5.0",
            "_view_count": null,
            "_view_module_version": "1.5.0",
            "box_style": "",
            "layout": "IPY_MODEL_b882c353cf0c4ddcb8cf1fb3dd7a5512",
            "_model_module": "@jupyter-widgets/controls",
            "children": [
              "IPY_MODEL_e55a67c93bc1468da1a653a4ae90f8d7",
              "IPY_MODEL_17295c4548b04653bbe20a0f78e3b2d0"
            ]
          }
        },
        "b882c353cf0c4ddcb8cf1fb3dd7a5512": {
          "model_module": "@jupyter-widgets/base",
          "model_name": "LayoutModel",
          "state": {
            "_view_name": "LayoutView",
            "grid_template_rows": null,
            "right": null,
            "justify_content": null,
            "_view_module": "@jupyter-widgets/base",
            "overflow": null,
            "_model_module_version": "1.2.0",
            "_view_count": null,
            "flex_flow": null,
            "width": null,
            "min_width": null,
            "border": null,
            "align_items": null,
            "bottom": null,
            "_model_module": "@jupyter-widgets/base",
            "top": null,
            "grid_column": null,
            "overflow_y": null,
            "overflow_x": null,
            "grid_auto_flow": null,
            "grid_area": null,
            "grid_template_columns": null,
            "flex": null,
            "_model_name": "LayoutModel",
            "justify_items": null,
            "grid_row": null,
            "max_height": null,
            "align_content": null,
            "visibility": null,
            "align_self": null,
            "height": null,
            "min_height": null,
            "padding": null,
            "grid_auto_rows": null,
            "grid_gap": null,
            "max_width": null,
            "order": null,
            "_view_module_version": "1.2.0",
            "grid_template_areas": null,
            "object_position": null,
            "object_fit": null,
            "grid_auto_columns": null,
            "margin": null,
            "display": null,
            "left": null
          }
        },
        "e55a67c93bc1468da1a653a4ae90f8d7": {
          "model_module": "@jupyter-widgets/controls",
          "model_name": "FloatProgressModel",
          "state": {
            "_view_name": "ProgressView",
            "style": "IPY_MODEL_3531c4f15f0b4f72b1cb3879e50d8acf",
            "_dom_classes": [],
            "description": "",
            "_model_name": "FloatProgressModel",
            "bar_style": "info",
            "max": 1,
            "_view_module": "@jupyter-widgets/controls",
            "_model_module_version": "1.5.0",
            "value": 1,
            "_view_count": null,
            "_view_module_version": "1.5.0",
            "orientation": "horizontal",
            "min": 0,
            "description_tooltip": null,
            "_model_module": "@jupyter-widgets/controls",
            "layout": "IPY_MODEL_0c72352f0c11411e91a9036b1e2ad3fc"
          }
        },
        "17295c4548b04653bbe20a0f78e3b2d0": {
          "model_module": "@jupyter-widgets/controls",
          "model_name": "HTMLModel",
          "state": {
            "_view_name": "HTMLView",
            "style": "IPY_MODEL_07969e37bf0e4cabbd2a94986a1f7257",
            "_dom_classes": [],
            "description": "",
            "_model_name": "HTMLModel",
            "placeholder": "​",
            "_view_module": "@jupyter-widgets/controls",
            "_model_module_version": "1.5.0",
            "value": " 25000/0 [00:12&lt;00:00, 3542.11 examples/s]",
            "_view_count": null,
            "_view_module_version": "1.5.0",
            "description_tooltip": null,
            "_model_module": "@jupyter-widgets/controls",
            "layout": "IPY_MODEL_878d36a64b0a403aa99dc12d9bb744d2"
          }
        },
        "3531c4f15f0b4f72b1cb3879e50d8acf": {
          "model_module": "@jupyter-widgets/controls",
          "model_name": "ProgressStyleModel",
          "state": {
            "_view_name": "StyleView",
            "_model_name": "ProgressStyleModel",
            "description_width": "initial",
            "_view_module": "@jupyter-widgets/base",
            "_model_module_version": "1.5.0",
            "_view_count": null,
            "_view_module_version": "1.2.0",
            "bar_color": null,
            "_model_module": "@jupyter-widgets/controls"
          }
        },
        "0c72352f0c11411e91a9036b1e2ad3fc": {
          "model_module": "@jupyter-widgets/base",
          "model_name": "LayoutModel",
          "state": {
            "_view_name": "LayoutView",
            "grid_template_rows": null,
            "right": null,
            "justify_content": null,
            "_view_module": "@jupyter-widgets/base",
            "overflow": null,
            "_model_module_version": "1.2.0",
            "_view_count": null,
            "flex_flow": null,
            "width": null,
            "min_width": null,
            "border": null,
            "align_items": null,
            "bottom": null,
            "_model_module": "@jupyter-widgets/base",
            "top": null,
            "grid_column": null,
            "overflow_y": null,
            "overflow_x": null,
            "grid_auto_flow": null,
            "grid_area": null,
            "grid_template_columns": null,
            "flex": null,
            "_model_name": "LayoutModel",
            "justify_items": null,
            "grid_row": null,
            "max_height": null,
            "align_content": null,
            "visibility": null,
            "align_self": null,
            "height": null,
            "min_height": null,
            "padding": null,
            "grid_auto_rows": null,
            "grid_gap": null,
            "max_width": null,
            "order": null,
            "_view_module_version": "1.2.0",
            "grid_template_areas": null,
            "object_position": null,
            "object_fit": null,
            "grid_auto_columns": null,
            "margin": null,
            "display": null,
            "left": null
          }
        },
        "07969e37bf0e4cabbd2a94986a1f7257": {
          "model_module": "@jupyter-widgets/controls",
          "model_name": "DescriptionStyleModel",
          "state": {
            "_view_name": "StyleView",
            "_model_name": "DescriptionStyleModel",
            "description_width": "",
            "_view_module": "@jupyter-widgets/base",
            "_model_module_version": "1.5.0",
            "_view_count": null,
            "_view_module_version": "1.2.0",
            "_model_module": "@jupyter-widgets/controls"
          }
        },
        "878d36a64b0a403aa99dc12d9bb744d2": {
          "model_module": "@jupyter-widgets/base",
          "model_name": "LayoutModel",
          "state": {
            "_view_name": "LayoutView",
            "grid_template_rows": null,
            "right": null,
            "justify_content": null,
            "_view_module": "@jupyter-widgets/base",
            "overflow": null,
            "_model_module_version": "1.2.0",
            "_view_count": null,
            "flex_flow": null,
            "width": null,
            "min_width": null,
            "border": null,
            "align_items": null,
            "bottom": null,
            "_model_module": "@jupyter-widgets/base",
            "top": null,
            "grid_column": null,
            "overflow_y": null,
            "overflow_x": null,
            "grid_auto_flow": null,
            "grid_area": null,
            "grid_template_columns": null,
            "flex": null,
            "_model_name": "LayoutModel",
            "justify_items": null,
            "grid_row": null,
            "max_height": null,
            "align_content": null,
            "visibility": null,
            "align_self": null,
            "height": null,
            "min_height": null,
            "padding": null,
            "grid_auto_rows": null,
            "grid_gap": null,
            "max_width": null,
            "order": null,
            "_view_module_version": "1.2.0",
            "grid_template_areas": null,
            "object_position": null,
            "object_fit": null,
            "grid_auto_columns": null,
            "margin": null,
            "display": null,
            "left": null
          }
        },
        "3131b12485594028ad4d449b2d169987": {
          "model_module": "@jupyter-widgets/controls",
          "model_name": "HBoxModel",
          "state": {
            "_view_name": "HBoxView",
            "_dom_classes": [],
            "_model_name": "HBoxModel",
            "_view_module": "@jupyter-widgets/controls",
            "_model_module_version": "1.5.0",
            "_view_count": null,
            "_view_module_version": "1.5.0",
            "box_style": "",
            "layout": "IPY_MODEL_31184747dcde4737999b736e57efdcf9",
            "_model_module": "@jupyter-widgets/controls",
            "children": [
              "IPY_MODEL_883acc52a597439dbf7d04272d8f31a0",
              "IPY_MODEL_4a6e2e5bef6f4fe8829d67cd6447a2ec"
            ]
          }
        },
        "31184747dcde4737999b736e57efdcf9": {
          "model_module": "@jupyter-widgets/base",
          "model_name": "LayoutModel",
          "state": {
            "_view_name": "LayoutView",
            "grid_template_rows": null,
            "right": null,
            "justify_content": null,
            "_view_module": "@jupyter-widgets/base",
            "overflow": null,
            "_model_module_version": "1.2.0",
            "_view_count": null,
            "flex_flow": null,
            "width": null,
            "min_width": null,
            "border": null,
            "align_items": null,
            "bottom": null,
            "_model_module": "@jupyter-widgets/base",
            "top": null,
            "grid_column": null,
            "overflow_y": null,
            "overflow_x": null,
            "grid_auto_flow": null,
            "grid_area": null,
            "grid_template_columns": null,
            "flex": null,
            "_model_name": "LayoutModel",
            "justify_items": null,
            "grid_row": null,
            "max_height": null,
            "align_content": null,
            "visibility": null,
            "align_self": null,
            "height": null,
            "min_height": null,
            "padding": null,
            "grid_auto_rows": null,
            "grid_gap": null,
            "max_width": null,
            "order": null,
            "_view_module_version": "1.2.0",
            "grid_template_areas": null,
            "object_position": null,
            "object_fit": null,
            "grid_auto_columns": null,
            "margin": null,
            "display": null,
            "left": null
          }
        },
        "883acc52a597439dbf7d04272d8f31a0": {
          "model_module": "@jupyter-widgets/controls",
          "model_name": "FloatProgressModel",
          "state": {
            "_view_name": "ProgressView",
            "style": "IPY_MODEL_6e273e66485b4e468ec020796b8f04a8",
            "_dom_classes": [],
            "description": " 48%",
            "_model_name": "FloatProgressModel",
            "bar_style": "danger",
            "max": 25000,
            "_view_module": "@jupyter-widgets/controls",
            "_model_module_version": "1.5.0",
            "value": 11982,
            "_view_count": null,
            "_view_module_version": "1.5.0",
            "orientation": "horizontal",
            "min": 0,
            "description_tooltip": null,
            "_model_module": "@jupyter-widgets/controls",
            "layout": "IPY_MODEL_d05114d16e46409db7b436a1c1061d0c"
          }
        },
        "4a6e2e5bef6f4fe8829d67cd6447a2ec": {
          "model_module": "@jupyter-widgets/controls",
          "model_name": "HTMLModel",
          "state": {
            "_view_name": "HTMLView",
            "style": "IPY_MODEL_ccf92489fc8a4c70b267c8766835c63a",
            "_dom_classes": [],
            "description": "",
            "_model_name": "HTMLModel",
            "placeholder": "​",
            "_view_module": "@jupyter-widgets/controls",
            "_model_module_version": "1.5.0",
            "value": " 11982/25000 [00:00&lt;00:00, 119818.97 examples/s]",
            "_view_count": null,
            "_view_module_version": "1.5.0",
            "description_tooltip": null,
            "_model_module": "@jupyter-widgets/controls",
            "layout": "IPY_MODEL_c5ce34a944a94a7db9810ecf30ac392b"
          }
        },
        "6e273e66485b4e468ec020796b8f04a8": {
          "model_module": "@jupyter-widgets/controls",
          "model_name": "ProgressStyleModel",
          "state": {
            "_view_name": "StyleView",
            "_model_name": "ProgressStyleModel",
            "description_width": "initial",
            "_view_module": "@jupyter-widgets/base",
            "_model_module_version": "1.5.0",
            "_view_count": null,
            "_view_module_version": "1.2.0",
            "bar_color": null,
            "_model_module": "@jupyter-widgets/controls"
          }
        },
        "d05114d16e46409db7b436a1c1061d0c": {
          "model_module": "@jupyter-widgets/base",
          "model_name": "LayoutModel",
          "state": {
            "_view_name": "LayoutView",
            "grid_template_rows": null,
            "right": null,
            "justify_content": null,
            "_view_module": "@jupyter-widgets/base",
            "overflow": null,
            "_model_module_version": "1.2.0",
            "_view_count": null,
            "flex_flow": null,
            "width": null,
            "min_width": null,
            "border": null,
            "align_items": null,
            "bottom": null,
            "_model_module": "@jupyter-widgets/base",
            "top": null,
            "grid_column": null,
            "overflow_y": null,
            "overflow_x": null,
            "grid_auto_flow": null,
            "grid_area": null,
            "grid_template_columns": null,
            "flex": null,
            "_model_name": "LayoutModel",
            "justify_items": null,
            "grid_row": null,
            "max_height": null,
            "align_content": null,
            "visibility": null,
            "align_self": null,
            "height": null,
            "min_height": null,
            "padding": null,
            "grid_auto_rows": null,
            "grid_gap": null,
            "max_width": null,
            "order": null,
            "_view_module_version": "1.2.0",
            "grid_template_areas": null,
            "object_position": null,
            "object_fit": null,
            "grid_auto_columns": null,
            "margin": null,
            "display": null,
            "left": null
          }
        },
        "ccf92489fc8a4c70b267c8766835c63a": {
          "model_module": "@jupyter-widgets/controls",
          "model_name": "DescriptionStyleModel",
          "state": {
            "_view_name": "StyleView",
            "_model_name": "DescriptionStyleModel",
            "description_width": "",
            "_view_module": "@jupyter-widgets/base",
            "_model_module_version": "1.5.0",
            "_view_count": null,
            "_view_module_version": "1.2.0",
            "_model_module": "@jupyter-widgets/controls"
          }
        },
        "c5ce34a944a94a7db9810ecf30ac392b": {
          "model_module": "@jupyter-widgets/base",
          "model_name": "LayoutModel",
          "state": {
            "_view_name": "LayoutView",
            "grid_template_rows": null,
            "right": null,
            "justify_content": null,
            "_view_module": "@jupyter-widgets/base",
            "overflow": null,
            "_model_module_version": "1.2.0",
            "_view_count": null,
            "flex_flow": null,
            "width": null,
            "min_width": null,
            "border": null,
            "align_items": null,
            "bottom": null,
            "_model_module": "@jupyter-widgets/base",
            "top": null,
            "grid_column": null,
            "overflow_y": null,
            "overflow_x": null,
            "grid_auto_flow": null,
            "grid_area": null,
            "grid_template_columns": null,
            "flex": null,
            "_model_name": "LayoutModel",
            "justify_items": null,
            "grid_row": null,
            "max_height": null,
            "align_content": null,
            "visibility": null,
            "align_self": null,
            "height": null,
            "min_height": null,
            "padding": null,
            "grid_auto_rows": null,
            "grid_gap": null,
            "max_width": null,
            "order": null,
            "_view_module_version": "1.2.0",
            "grid_template_areas": null,
            "object_position": null,
            "object_fit": null,
            "grid_auto_columns": null,
            "margin": null,
            "display": null,
            "left": null
          }
        },
        "a672cd60c2784325921d34cf56b222e9": {
          "model_module": "@jupyter-widgets/controls",
          "model_name": "HBoxModel",
          "state": {
            "_view_name": "HBoxView",
            "_dom_classes": [],
            "_model_name": "HBoxModel",
            "_view_module": "@jupyter-widgets/controls",
            "_model_module_version": "1.5.0",
            "_view_count": null,
            "_view_module_version": "1.5.0",
            "box_style": "",
            "layout": "IPY_MODEL_8ab97dd20eff4dc194d0092e1ddbbbb8",
            "_model_module": "@jupyter-widgets/controls",
            "children": [
              "IPY_MODEL_38801211cf2741f883fe854f6863763b",
              "IPY_MODEL_4013962fb2044fddb880d54bfedb9a51"
            ]
          }
        },
        "8ab97dd20eff4dc194d0092e1ddbbbb8": {
          "model_module": "@jupyter-widgets/base",
          "model_name": "LayoutModel",
          "state": {
            "_view_name": "LayoutView",
            "grid_template_rows": null,
            "right": null,
            "justify_content": null,
            "_view_module": "@jupyter-widgets/base",
            "overflow": null,
            "_model_module_version": "1.2.0",
            "_view_count": null,
            "flex_flow": null,
            "width": null,
            "min_width": null,
            "border": null,
            "align_items": null,
            "bottom": null,
            "_model_module": "@jupyter-widgets/base",
            "top": null,
            "grid_column": null,
            "overflow_y": null,
            "overflow_x": null,
            "grid_auto_flow": null,
            "grid_area": null,
            "grid_template_columns": null,
            "flex": null,
            "_model_name": "LayoutModel",
            "justify_items": null,
            "grid_row": null,
            "max_height": null,
            "align_content": null,
            "visibility": null,
            "align_self": null,
            "height": null,
            "min_height": null,
            "padding": null,
            "grid_auto_rows": null,
            "grid_gap": null,
            "max_width": null,
            "order": null,
            "_view_module_version": "1.2.0",
            "grid_template_areas": null,
            "object_position": null,
            "object_fit": null,
            "grid_auto_columns": null,
            "margin": null,
            "display": null,
            "left": null
          }
        },
        "38801211cf2741f883fe854f6863763b": {
          "model_module": "@jupyter-widgets/controls",
          "model_name": "FloatProgressModel",
          "state": {
            "_view_name": "ProgressView",
            "style": "IPY_MODEL_7b3a1da963ce4443aa548facacc19e8c",
            "_dom_classes": [],
            "description": "",
            "_model_name": "FloatProgressModel",
            "bar_style": "info",
            "max": 1,
            "_view_module": "@jupyter-widgets/controls",
            "_model_module_version": "1.5.0",
            "value": 1,
            "_view_count": null,
            "_view_module_version": "1.5.0",
            "orientation": "horizontal",
            "min": 0,
            "description_tooltip": null,
            "_model_module": "@jupyter-widgets/controls",
            "layout": "IPY_MODEL_3905f7dcd5d742fc977d48c79c01cd25"
          }
        },
        "4013962fb2044fddb880d54bfedb9a51": {
          "model_module": "@jupyter-widgets/controls",
          "model_name": "HTMLModel",
          "state": {
            "_view_name": "HTMLView",
            "style": "IPY_MODEL_73ba5204792c4379ab2f55d2b9f68752",
            "_dom_classes": [],
            "description": "",
            "_model_name": "HTMLModel",
            "placeholder": "​",
            "_view_module": "@jupyter-widgets/controls",
            "_model_module_version": "1.5.0",
            "value": " 50000/0 [00:17&lt;00:00, 3734.26 examples/s]",
            "_view_count": null,
            "_view_module_version": "1.5.0",
            "description_tooltip": null,
            "_model_module": "@jupyter-widgets/controls",
            "layout": "IPY_MODEL_a0b6e5b394eb469f8ecef355ec57f727"
          }
        },
        "7b3a1da963ce4443aa548facacc19e8c": {
          "model_module": "@jupyter-widgets/controls",
          "model_name": "ProgressStyleModel",
          "state": {
            "_view_name": "StyleView",
            "_model_name": "ProgressStyleModel",
            "description_width": "initial",
            "_view_module": "@jupyter-widgets/base",
            "_model_module_version": "1.5.0",
            "_view_count": null,
            "_view_module_version": "1.2.0",
            "bar_color": null,
            "_model_module": "@jupyter-widgets/controls"
          }
        },
        "3905f7dcd5d742fc977d48c79c01cd25": {
          "model_module": "@jupyter-widgets/base",
          "model_name": "LayoutModel",
          "state": {
            "_view_name": "LayoutView",
            "grid_template_rows": null,
            "right": null,
            "justify_content": null,
            "_view_module": "@jupyter-widgets/base",
            "overflow": null,
            "_model_module_version": "1.2.0",
            "_view_count": null,
            "flex_flow": null,
            "width": null,
            "min_width": null,
            "border": null,
            "align_items": null,
            "bottom": null,
            "_model_module": "@jupyter-widgets/base",
            "top": null,
            "grid_column": null,
            "overflow_y": null,
            "overflow_x": null,
            "grid_auto_flow": null,
            "grid_area": null,
            "grid_template_columns": null,
            "flex": null,
            "_model_name": "LayoutModel",
            "justify_items": null,
            "grid_row": null,
            "max_height": null,
            "align_content": null,
            "visibility": null,
            "align_self": null,
            "height": null,
            "min_height": null,
            "padding": null,
            "grid_auto_rows": null,
            "grid_gap": null,
            "max_width": null,
            "order": null,
            "_view_module_version": "1.2.0",
            "grid_template_areas": null,
            "object_position": null,
            "object_fit": null,
            "grid_auto_columns": null,
            "margin": null,
            "display": null,
            "left": null
          }
        },
        "73ba5204792c4379ab2f55d2b9f68752": {
          "model_module": "@jupyter-widgets/controls",
          "model_name": "DescriptionStyleModel",
          "state": {
            "_view_name": "StyleView",
            "_model_name": "DescriptionStyleModel",
            "description_width": "",
            "_view_module": "@jupyter-widgets/base",
            "_model_module_version": "1.5.0",
            "_view_count": null,
            "_view_module_version": "1.2.0",
            "_model_module": "@jupyter-widgets/controls"
          }
        },
        "a0b6e5b394eb469f8ecef355ec57f727": {
          "model_module": "@jupyter-widgets/base",
          "model_name": "LayoutModel",
          "state": {
            "_view_name": "LayoutView",
            "grid_template_rows": null,
            "right": null,
            "justify_content": null,
            "_view_module": "@jupyter-widgets/base",
            "overflow": null,
            "_model_module_version": "1.2.0",
            "_view_count": null,
            "flex_flow": null,
            "width": null,
            "min_width": null,
            "border": null,
            "align_items": null,
            "bottom": null,
            "_model_module": "@jupyter-widgets/base",
            "top": null,
            "grid_column": null,
            "overflow_y": null,
            "overflow_x": null,
            "grid_auto_flow": null,
            "grid_area": null,
            "grid_template_columns": null,
            "flex": null,
            "_model_name": "LayoutModel",
            "justify_items": null,
            "grid_row": null,
            "max_height": null,
            "align_content": null,
            "visibility": null,
            "align_self": null,
            "height": null,
            "min_height": null,
            "padding": null,
            "grid_auto_rows": null,
            "grid_gap": null,
            "max_width": null,
            "order": null,
            "_view_module_version": "1.2.0",
            "grid_template_areas": null,
            "object_position": null,
            "object_fit": null,
            "grid_auto_columns": null,
            "margin": null,
            "display": null,
            "left": null
          }
        },
        "a5e767dd07134a9cb16df9614e892703": {
          "model_module": "@jupyter-widgets/controls",
          "model_name": "HBoxModel",
          "state": {
            "_view_name": "HBoxView",
            "_dom_classes": [],
            "_model_name": "HBoxModel",
            "_view_module": "@jupyter-widgets/controls",
            "_model_module_version": "1.5.0",
            "_view_count": null,
            "_view_module_version": "1.5.0",
            "box_style": "",
            "layout": "IPY_MODEL_5dfa45effa114768b5398c3c72497258",
            "_model_module": "@jupyter-widgets/controls",
            "children": [
              "IPY_MODEL_8b8f93e223364aeaa05b487bb16dfa82",
              "IPY_MODEL_830dfbac265d48f8ab9b28a96f22a8c7"
            ]
          }
        },
        "5dfa45effa114768b5398c3c72497258": {
          "model_module": "@jupyter-widgets/base",
          "model_name": "LayoutModel",
          "state": {
            "_view_name": "LayoutView",
            "grid_template_rows": null,
            "right": null,
            "justify_content": null,
            "_view_module": "@jupyter-widgets/base",
            "overflow": null,
            "_model_module_version": "1.2.0",
            "_view_count": null,
            "flex_flow": null,
            "width": null,
            "min_width": null,
            "border": null,
            "align_items": null,
            "bottom": null,
            "_model_module": "@jupyter-widgets/base",
            "top": null,
            "grid_column": null,
            "overflow_y": null,
            "overflow_x": null,
            "grid_auto_flow": null,
            "grid_area": null,
            "grid_template_columns": null,
            "flex": null,
            "_model_name": "LayoutModel",
            "justify_items": null,
            "grid_row": null,
            "max_height": null,
            "align_content": null,
            "visibility": null,
            "align_self": null,
            "height": null,
            "min_height": null,
            "padding": null,
            "grid_auto_rows": null,
            "grid_gap": null,
            "max_width": null,
            "order": null,
            "_view_module_version": "1.2.0",
            "grid_template_areas": null,
            "object_position": null,
            "object_fit": null,
            "grid_auto_columns": null,
            "margin": null,
            "display": null,
            "left": null
          }
        },
        "8b8f93e223364aeaa05b487bb16dfa82": {
          "model_module": "@jupyter-widgets/controls",
          "model_name": "FloatProgressModel",
          "state": {
            "_view_name": "ProgressView",
            "style": "IPY_MODEL_f723c28e1f5741649863fd365a41b5f1",
            "_dom_classes": [],
            "description": " 86%",
            "_model_name": "FloatProgressModel",
            "bar_style": "danger",
            "max": 50000,
            "_view_module": "@jupyter-widgets/controls",
            "_model_module_version": "1.5.0",
            "value": 43018,
            "_view_count": null,
            "_view_module_version": "1.5.0",
            "orientation": "horizontal",
            "min": 0,
            "description_tooltip": null,
            "_model_module": "@jupyter-widgets/controls",
            "layout": "IPY_MODEL_552c86f787fa4caab49db64862e394f7"
          }
        },
        "830dfbac265d48f8ab9b28a96f22a8c7": {
          "model_module": "@jupyter-widgets/controls",
          "model_name": "HTMLModel",
          "state": {
            "_view_name": "HTMLView",
            "style": "IPY_MODEL_8e2f66b825f34d99b05f4bed883052ea",
            "_dom_classes": [],
            "description": "",
            "_model_name": "HTMLModel",
            "placeholder": "​",
            "_view_module": "@jupyter-widgets/controls",
            "_model_module_version": "1.5.0",
            "value": " 43018/50000 [00:00&lt;00:00, 66931.24 examples/s]",
            "_view_count": null,
            "_view_module_version": "1.5.0",
            "description_tooltip": null,
            "_model_module": "@jupyter-widgets/controls",
            "layout": "IPY_MODEL_d4b7587fcb034adb99d15421f237840d"
          }
        },
        "f723c28e1f5741649863fd365a41b5f1": {
          "model_module": "@jupyter-widgets/controls",
          "model_name": "ProgressStyleModel",
          "state": {
            "_view_name": "StyleView",
            "_model_name": "ProgressStyleModel",
            "description_width": "initial",
            "_view_module": "@jupyter-widgets/base",
            "_model_module_version": "1.5.0",
            "_view_count": null,
            "_view_module_version": "1.2.0",
            "bar_color": null,
            "_model_module": "@jupyter-widgets/controls"
          }
        },
        "552c86f787fa4caab49db64862e394f7": {
          "model_module": "@jupyter-widgets/base",
          "model_name": "LayoutModel",
          "state": {
            "_view_name": "LayoutView",
            "grid_template_rows": null,
            "right": null,
            "justify_content": null,
            "_view_module": "@jupyter-widgets/base",
            "overflow": null,
            "_model_module_version": "1.2.0",
            "_view_count": null,
            "flex_flow": null,
            "width": null,
            "min_width": null,
            "border": null,
            "align_items": null,
            "bottom": null,
            "_model_module": "@jupyter-widgets/base",
            "top": null,
            "grid_column": null,
            "overflow_y": null,
            "overflow_x": null,
            "grid_auto_flow": null,
            "grid_area": null,
            "grid_template_columns": null,
            "flex": null,
            "_model_name": "LayoutModel",
            "justify_items": null,
            "grid_row": null,
            "max_height": null,
            "align_content": null,
            "visibility": null,
            "align_self": null,
            "height": null,
            "min_height": null,
            "padding": null,
            "grid_auto_rows": null,
            "grid_gap": null,
            "max_width": null,
            "order": null,
            "_view_module_version": "1.2.0",
            "grid_template_areas": null,
            "object_position": null,
            "object_fit": null,
            "grid_auto_columns": null,
            "margin": null,
            "display": null,
            "left": null
          }
        },
        "8e2f66b825f34d99b05f4bed883052ea": {
          "model_module": "@jupyter-widgets/controls",
          "model_name": "DescriptionStyleModel",
          "state": {
            "_view_name": "StyleView",
            "_model_name": "DescriptionStyleModel",
            "description_width": "",
            "_view_module": "@jupyter-widgets/base",
            "_model_module_version": "1.5.0",
            "_view_count": null,
            "_view_module_version": "1.2.0",
            "_model_module": "@jupyter-widgets/controls"
          }
        },
        "d4b7587fcb034adb99d15421f237840d": {
          "model_module": "@jupyter-widgets/base",
          "model_name": "LayoutModel",
          "state": {
            "_view_name": "LayoutView",
            "grid_template_rows": null,
            "right": null,
            "justify_content": null,
            "_view_module": "@jupyter-widgets/base",
            "overflow": null,
            "_model_module_version": "1.2.0",
            "_view_count": null,
            "flex_flow": null,
            "width": null,
            "min_width": null,
            "border": null,
            "align_items": null,
            "bottom": null,
            "_model_module": "@jupyter-widgets/base",
            "top": null,
            "grid_column": null,
            "overflow_y": null,
            "overflow_x": null,
            "grid_auto_flow": null,
            "grid_area": null,
            "grid_template_columns": null,
            "flex": null,
            "_model_name": "LayoutModel",
            "justify_items": null,
            "grid_row": null,
            "max_height": null,
            "align_content": null,
            "visibility": null,
            "align_self": null,
            "height": null,
            "min_height": null,
            "padding": null,
            "grid_auto_rows": null,
            "grid_gap": null,
            "max_width": null,
            "order": null,
            "_view_module_version": "1.2.0",
            "grid_template_areas": null,
            "object_position": null,
            "object_fit": null,
            "grid_auto_columns": null,
            "margin": null,
            "display": null,
            "left": null
          }
        }
      }
    }
  },
  "cells": [
    {
      "cell_type": "markdown",
      "metadata": {
        "id": "view-in-github",
        "colab_type": "text"
      },
      "source": [
        "<a href=\"https://colab.research.google.com/github/ogonna-anaekwe/text_classifier/blob/master/Text_Classification_with_Movie_Reviews_(Data_Eng_).ipynb\" target=\"_parent\"><img src=\"https://colab.research.google.com/assets/colab-badge.svg\" alt=\"Open In Colab\"/></a>"
      ]
    },
    {
      "cell_type": "markdown",
      "metadata": {
        "id": "udthG97mekOH"
      },
      "source": [
        "Text Classifier - V1"
      ]
    },
    {
      "cell_type": "code",
      "metadata": {
        "colab": {
          "base_uri": "https://localhost:8080/"
        },
        "id": "z63eYa9rUH2q",
        "outputId": "cd743a4f-a22b-49b3-da38-7a4b0811ac36"
      },
      "source": [
        "# import dependencies\n",
        "import numpy as np\n",
        "import tensorflow as tf\n",
        "import tensorflow_hub as hub\n",
        "import tensorflow_datasets as tfds\n",
        "import matplotlib.pyplot as plt\n",
        "\n",
        "print(f'Version: {tf.__version__}')\n",
        "print(f'Eager mode: {tf.executing_eagerly()}')\n",
        "print(f'Hub version: {hub.__version__}')\n",
        "print(f'GPU is {\"available\" if tf.config.list_physical_devices(\"GPU\") else \"not available\"}')"
      ],
      "execution_count": 1,
      "outputs": [
        {
          "output_type": "stream",
          "text": [
            "Version: 2.4.1\n",
            "Eager mode: True\n",
            "Hub version: 0.11.0\n",
            "GPU is available\n"
          ],
          "name": "stdout"
        }
      ]
    },
    {
      "cell_type": "code",
      "metadata": {
        "colab": {
          "base_uri": "https://localhost:8080/",
          "height": 367,
          "referenced_widgets": [
            "b27ad4e0a7b740e8b666e73207731f71",
            "45cc86365df447f38142159fd6b669e2",
            "5856d27a4c704a87a8bec4826c226bca",
            "48b6e549628f429092701d716cde9c63",
            "9fb00e83a5e249b98ee80a654121bb1b",
            "fa1b245494c34862be0c78d029ae6ad8",
            "998da67c016648b28771e843c7ed4adc",
            "bbc1e549b9854038aea9a85465e682bc",
            "a7be1e0ca5e1497ebaf37cbaf973a9cb",
            "c03007fcf6bb4ea0a3698f182f6d3893",
            "3a550717f6254dee9a6906371d65ae70",
            "5042eeee6d62403381b9a3716deb5012",
            "2bc01e03032c49d096eb16af9d64d641",
            "c08c6945e2424d299a1626caa68b8475",
            "64f8dd6bea8f44e4aee5d88dc9c6ec9b",
            "f779a060b7b042ca9ded3f18ab8c9063",
            "e322868622374d2cb3e504383178a567",
            "ae27b7f008794bfeb9e4ebaa07e51853",
            "ce02b53915254026bdd23a1d9be70926",
            "b376fdca21e84426b8dfe3a539026537",
            "5dc7bdabc6ff458a804e7e7fb51eb484",
            "b182ccd17ec240a3b478f5aaee388b95",
            "e5462ed5566f484b92adbd07d5306f1f",
            "f1be24acb27c47e8ba6ad9c6a622eea6",
            "7233c12325ee4833ba795f0285444f72",
            "59249f063b48407cad1d90d6c6d2c7e0",
            "a68577b6ce02421f9349ea7403fc618b",
            "0d3bd2ab3c32448db55593c9273771fe",
            "b0c4c405abc944559a9b872a2ac6fda3",
            "b8e4ac0bdb844ba0938d7601b0572ed6",
            "1bc2bc1a354648f18448bb8c24c34a1b",
            "17294854d6594fa7963fae298d3fb219",
            "824209b9d4954bf38f25dab76c0184f6",
            "b882c353cf0c4ddcb8cf1fb3dd7a5512",
            "e55a67c93bc1468da1a653a4ae90f8d7",
            "17295c4548b04653bbe20a0f78e3b2d0",
            "3531c4f15f0b4f72b1cb3879e50d8acf",
            "0c72352f0c11411e91a9036b1e2ad3fc",
            "07969e37bf0e4cabbd2a94986a1f7257",
            "878d36a64b0a403aa99dc12d9bb744d2",
            "3131b12485594028ad4d449b2d169987",
            "31184747dcde4737999b736e57efdcf9",
            "883acc52a597439dbf7d04272d8f31a0",
            "4a6e2e5bef6f4fe8829d67cd6447a2ec",
            "6e273e66485b4e468ec020796b8f04a8",
            "d05114d16e46409db7b436a1c1061d0c",
            "ccf92489fc8a4c70b267c8766835c63a",
            "c5ce34a944a94a7db9810ecf30ac392b",
            "a672cd60c2784325921d34cf56b222e9",
            "8ab97dd20eff4dc194d0092e1ddbbbb8",
            "38801211cf2741f883fe854f6863763b",
            "4013962fb2044fddb880d54bfedb9a51",
            "7b3a1da963ce4443aa548facacc19e8c",
            "3905f7dcd5d742fc977d48c79c01cd25",
            "73ba5204792c4379ab2f55d2b9f68752",
            "a0b6e5b394eb469f8ecef355ec57f727",
            "a5e767dd07134a9cb16df9614e892703",
            "5dfa45effa114768b5398c3c72497258",
            "8b8f93e223364aeaa05b487bb16dfa82",
            "830dfbac265d48f8ab9b28a96f22a8c7",
            "f723c28e1f5741649863fd365a41b5f1",
            "552c86f787fa4caab49db64862e394f7",
            "8e2f66b825f34d99b05f4bed883052ea",
            "d4b7587fcb034adb99d15421f237840d"
          ]
        },
        "id": "_H9ZKsf1Ucl9",
        "outputId": "ced16c01-9ce2-49ec-8834-e0619b88b3a7"
      },
      "source": [
        "# this example uses the imdb reviews dataset\n",
        "# load the dataset\n",
        "train_data, test_data = tfds.load(name=\"imdb_reviews\", \n",
        "                                  split=[\"train\", \"test\"],\n",
        "                                  batch_size=-1, \n",
        "                                  as_supervised=True)\n"
      ],
      "execution_count": 2,
      "outputs": [
        {
          "output_type": "stream",
          "text": [
            "\u001b[1mDownloading and preparing dataset imdb_reviews/plain_text/1.0.0 (download: 80.23 MiB, generated: Unknown size, total: 80.23 MiB) to /root/tensorflow_datasets/imdb_reviews/plain_text/1.0.0...\u001b[0m\n"
          ],
          "name": "stdout"
        },
        {
          "output_type": "display_data",
          "data": {
            "application/vnd.jupyter.widget-view+json": {
              "model_id": "b27ad4e0a7b740e8b666e73207731f71",
              "version_minor": 0,
              "version_major": 2
            },
            "text/plain": [
              "HBox(children=(FloatProgress(value=1.0, bar_style='info', description='Dl Completed...', max=1.0, style=Progre…"
            ]
          },
          "metadata": {
            "tags": []
          }
        },
        {
          "output_type": "display_data",
          "data": {
            "application/vnd.jupyter.widget-view+json": {
              "model_id": "a7be1e0ca5e1497ebaf37cbaf973a9cb",
              "version_minor": 0,
              "version_major": 2
            },
            "text/plain": [
              "HBox(children=(FloatProgress(value=1.0, bar_style='info', description='Dl Size...', max=1.0, style=ProgressSty…"
            ]
          },
          "metadata": {
            "tags": []
          }
        },
        {
          "output_type": "stream",
          "text": [
            "\n",
            "\n",
            "\n",
            "\n"
          ],
          "name": "stdout"
        },
        {
          "output_type": "display_data",
          "data": {
            "application/vnd.jupyter.widget-view+json": {
              "model_id": "e322868622374d2cb3e504383178a567",
              "version_minor": 0,
              "version_major": 2
            },
            "text/plain": [
              "HBox(children=(FloatProgress(value=1.0, bar_style='info', max=1.0), HTML(value='')))"
            ]
          },
          "metadata": {
            "tags": []
          }
        },
        {
          "output_type": "stream",
          "text": [
            "\rShuffling and writing examples to /root/tensorflow_datasets/imdb_reviews/plain_text/1.0.0.incompleteM1SG5K/imdb_reviews-train.tfrecord\n"
          ],
          "name": "stdout"
        },
        {
          "output_type": "display_data",
          "data": {
            "application/vnd.jupyter.widget-view+json": {
              "model_id": "7233c12325ee4833ba795f0285444f72",
              "version_minor": 0,
              "version_major": 2
            },
            "text/plain": [
              "HBox(children=(FloatProgress(value=0.0, max=25000.0), HTML(value='')))"
            ]
          },
          "metadata": {
            "tags": []
          }
        },
        {
          "output_type": "stream",
          "text": [
            "\r"
          ],
          "name": "stdout"
        },
        {
          "output_type": "display_data",
          "data": {
            "application/vnd.jupyter.widget-view+json": {
              "model_id": "824209b9d4954bf38f25dab76c0184f6",
              "version_minor": 0,
              "version_major": 2
            },
            "text/plain": [
              "HBox(children=(FloatProgress(value=1.0, bar_style='info', max=1.0), HTML(value='')))"
            ]
          },
          "metadata": {
            "tags": []
          }
        },
        {
          "output_type": "stream",
          "text": [
            "\rShuffling and writing examples to /root/tensorflow_datasets/imdb_reviews/plain_text/1.0.0.incompleteM1SG5K/imdb_reviews-test.tfrecord\n"
          ],
          "name": "stdout"
        },
        {
          "output_type": "display_data",
          "data": {
            "application/vnd.jupyter.widget-view+json": {
              "model_id": "3131b12485594028ad4d449b2d169987",
              "version_minor": 0,
              "version_major": 2
            },
            "text/plain": [
              "HBox(children=(FloatProgress(value=0.0, max=25000.0), HTML(value='')))"
            ]
          },
          "metadata": {
            "tags": []
          }
        },
        {
          "output_type": "stream",
          "text": [
            "\r"
          ],
          "name": "stdout"
        },
        {
          "output_type": "display_data",
          "data": {
            "application/vnd.jupyter.widget-view+json": {
              "model_id": "a672cd60c2784325921d34cf56b222e9",
              "version_minor": 0,
              "version_major": 2
            },
            "text/plain": [
              "HBox(children=(FloatProgress(value=1.0, bar_style='info', max=1.0), HTML(value='')))"
            ]
          },
          "metadata": {
            "tags": []
          }
        },
        {
          "output_type": "stream",
          "text": [
            "\rShuffling and writing examples to /root/tensorflow_datasets/imdb_reviews/plain_text/1.0.0.incompleteM1SG5K/imdb_reviews-unsupervised.tfrecord\n"
          ],
          "name": "stdout"
        },
        {
          "output_type": "display_data",
          "data": {
            "application/vnd.jupyter.widget-view+json": {
              "model_id": "a5e767dd07134a9cb16df9614e892703",
              "version_minor": 0,
              "version_major": 2
            },
            "text/plain": [
              "HBox(children=(FloatProgress(value=0.0, max=50000.0), HTML(value='')))"
            ]
          },
          "metadata": {
            "tags": []
          }
        },
        {
          "output_type": "stream",
          "text": [
            "WARNING:absl:Dataset is using deprecated text encoder API which will be removed soon. Please use the plain_text version of the dataset and migrate to `tensorflow_text`.\n"
          ],
          "name": "stderr"
        },
        {
          "output_type": "stream",
          "text": [
            "\u001b[1mDataset imdb_reviews downloaded and prepared to /root/tensorflow_datasets/imdb_reviews/plain_text/1.0.0. Subsequent calls will reuse this data.\u001b[0m\n",
            "\r"
          ],
          "name": "stdout"
        }
      ]
    },
    {
      "cell_type": "code",
      "metadata": {
        "colab": {
          "base_uri": "https://localhost:8080/"
        },
        "id": "20TdHfSQVGFr",
        "outputId": "b04bc6c4-c312-4cec-8fc0-09e3fecbd112"
      },
      "source": [
        "# neural networks works with tensors\n",
        "# convert the dataset python generator yielding 1D tensors\n",
        "\n",
        "train_examples, train_labels = tfds.as_numpy(train_data)\n",
        "test_examples, test_labels = tfds.as_numpy(test_data)\n",
        "\n",
        "print(f'shape of train_examples {train_examples.shape}')\n",
        "print(f'shape of train_labels {train_labels.shape}')\n",
        "print(f'shape of test_examples {test_examples.shape}')\n",
        "print(f'shape of test_labels {test_labels.shape}')"
      ],
      "execution_count": 3,
      "outputs": [
        {
          "output_type": "stream",
          "text": [
            "shape of train_examples (25000,)\n",
            "shape of train_labels (25000,)\n",
            "shape of test_examples (25000,)\n",
            "shape of test_labels (25000,)\n"
          ],
          "name": "stdout"
        }
      ]
    },
    {
      "cell_type": "code",
      "metadata": {
        "colab": {
          "base_uri": "https://localhost:8080/"
        },
        "id": "VsPy9gH6VgKb",
        "outputId": "2fcb2125-bf5c-4fa3-f5ab-9a4ba6ae0dff"
      },
      "source": [
        "# show first 5 reviews\n",
        "train_examples[:5]"
      ],
      "execution_count": 4,
      "outputs": [
        {
          "output_type": "execute_result",
          "data": {
            "text/plain": [
              "array([b\"This was an absolutely terrible movie. Don't be lured in by Christopher Walken or Michael Ironside. Both are great actors, but this must simply be their worst role in history. Even their great acting could not redeem this movie's ridiculous storyline. This movie is an early nineties US propaganda piece. The most pathetic scenes were those when the Columbian rebels were making their cases for revolutions. Maria Conchita Alonso appeared phony, and her pseudo-love affair with Walken was nothing but a pathetic emotional plug in a movie that was devoid of any real meaning. I am disappointed that there are movies like this, ruining actor's like Christopher Walken's good name. I could barely sit through it.\",\n",
              "       b'I have been known to fall asleep during films, but this is usually due to a combination of things including, really tired, being warm and comfortable on the sette and having just eaten a lot. However on this occasion I fell asleep because the film was rubbish. The plot development was constant. Constantly slow and boring. Things seemed to happen, but with no explanation of what was causing them or why. I admit, I may have missed part of the film, but i watched the majority of it and everything just seemed to happen of its own accord without any real concern for anything else. I cant recommend this film at all.',\n",
              "       b'Mann photographs the Alberta Rocky Mountains in a superb fashion, and Jimmy Stewart and Walter Brennan give enjoyable performances as they always seem to do. <br /><br />But come on Hollywood - a Mountie telling the people of Dawson City, Yukon to elect themselves a marshal (yes a marshal!) and to enforce the law themselves, then gunfighters battling it out on the streets for control of the town? <br /><br />Nothing even remotely resembling that happened on the Canadian side of the border during the Klondike gold rush. Mr. Mann and company appear to have mistaken Dawson City for Deadwood, the Canadian North for the American Wild West.<br /><br />Canadian viewers be prepared for a Reefer Madness type of enjoyable howl with this ludicrous plot, or, to shake your head in disgust.',\n",
              "       b'This is the kind of film for a snowy Sunday afternoon when the rest of the world can go ahead with its own business as you descend into a big arm-chair and mellow for a couple of hours. Wonderful performances from Cher and Nicolas Cage (as always) gently row the plot along. There are no rapids to cross, no dangerous waters, just a warm and witty paddle through New York life at its best. A family film in every sense and one that deserves the praise it received.',\n",
              "       b'As others have mentioned, all the women that go nude in this film are mostly absolutely gorgeous. The plot very ably shows the hypocrisy of the female libido. When men are around they want to be pursued, but when no \"men\" are around, they become the pursuers of a 14 year old boy. And the boy becomes a man really fast (we should all be so lucky at this age!). He then gets up the courage to pursue his true love.'],\n",
              "      dtype=object)"
            ]
          },
          "metadata": {
            "tags": []
          },
          "execution_count": 4
        }
      ]
    },
    {
      "cell_type": "code",
      "metadata": {
        "colab": {
          "base_uri": "https://localhost:8080/"
        },
        "id": "7XqjnADhWi5U",
        "outputId": "13a7bb8a-ebae-4e7e-d5fb-f4398730459b"
      },
      "source": [
        "# show first 5 labels corresponding to the reviews above\n",
        "train_labels[:5]"
      ],
      "execution_count": 5,
      "outputs": [
        {
          "output_type": "execute_result",
          "data": {
            "text/plain": [
              "array([0, 0, 0, 1, 1])"
            ]
          },
          "metadata": {
            "tags": []
          },
          "execution_count": 5
        }
      ]
    },
    {
      "cell_type": "code",
      "metadata": {
        "colab": {
          "base_uri": "https://localhost:8080/"
        },
        "id": "MHmeQ_eBW9OV",
        "outputId": "e1b90e62-f00a-4d61-f88f-2598dedc5f96"
      },
      "source": [
        "# the reviews byte encoded, and not strings\n",
        "# the pretrained model that we'll use decodes the reviews\n",
        "# it also handles tokenization of each review and\n",
        "# it converts each review a 50D word vector/embedding\n",
        "model = \"https://tfhub.dev/google/nnlm-en-dim50/2\"\n",
        "hub_layer = hub.KerasLayer(model, input_shape=[], dtype=tf.string, trainable=True)\n",
        "\n",
        "# confirm that each review is mapped to 50D word embedding\n",
        "def confirm_dim(features=train_examples):\n",
        "  \"\"\"\n",
        "  Confirms the word embedding for each review is 50D\n",
        "  \n",
        "  Parameters:\n",
        "    all_examples_features: feature space showing all reviews\n",
        "  \n",
        "  Returns:\n",
        "    Whether or not the reviews are mapped to 50D word embeddings\n",
        "  \"\"\"\n",
        "  is_50d = [True for review in hub_layer(features) if review.shape[0] == 50]\n",
        "  if False in is_50d:\n",
        "    return f'At least one review is not mapped to a 50D word embedding'\n",
        "  return f'Each review is mapped to a 50D word embedding'\n",
        "\n",
        "print(f'{confirm_dim(train_examples)}')\n",
        "print(f'{confirm_dim(test_examples)}')"
      ],
      "execution_count": 6,
      "outputs": [
        {
          "output_type": "stream",
          "text": [
            "Each review is mapped to a 50D word embedding\n",
            "Each review is mapped to a 50D word embedding\n"
          ],
          "name": "stdout"
        }
      ]
    },
    {
      "cell_type": "code",
      "metadata": {
        "colab": {
          "base_uri": "https://localhost:8080/"
        },
        "id": "fbxIpCphXgNe",
        "outputId": "8b244a70-498b-45a8-c72b-bf81f8cda79c"
      },
      "source": [
        "# to create model architecture, stack layers using the keras Sequential class \n",
        "model = tf.keras.Sequential()\n",
        "model.add(hub_layer)\n",
        "model.add(tf.keras.layers.Dense(16, activation='relu'))\n",
        "model.add(tf.keras.layers.Dense(1))\n",
        "\n",
        "# show model architecture\n",
        "model.summary()"
      ],
      "execution_count": 18,
      "outputs": [
        {
          "output_type": "stream",
          "text": [
            "Model: \"sequential_1\"\n",
            "_________________________________________________________________\n",
            "Layer (type)                 Output Shape              Param #   \n",
            "=================================================================\n",
            "keras_layer (KerasLayer)     (None, 50)                48190600  \n",
            "_________________________________________________________________\n",
            "dense_2 (Dense)              (None, 16)                816       \n",
            "_________________________________________________________________\n",
            "dense_3 (Dense)              (None, 1)                 17        \n",
            "=================================================================\n",
            "Total params: 48,191,433\n",
            "Trainable params: 48,191,433\n",
            "Non-trainable params: 0\n",
            "_________________________________________________________________\n"
          ],
          "name": "stdout"
        }
      ]
    },
    {
      "cell_type": "code",
      "metadata": {
        "colab": {
          "base_uri": "https://localhost:8080/",
          "height": 369
        },
        "id": "_TRVXinn0kET",
        "outputId": "04402b38-b26d-4451-fb4f-29aa61e0352f"
      },
      "source": [
        "# model graph\n",
        "tf.keras.utils.plot_model(model, 'text_classifier_v1.png')"
      ],
      "execution_count": 19,
      "outputs": [
        {
          "output_type": "execute_result",
          "data": {
            "image/png": "[encoded data removed]",
            "text/plain": [
              "<IPython.core.display.Image object>"
            ]
          },
          "metadata": {
            "tags": []
          },
          "execution_count": 19
        }
      ]
    },
    {
      "cell_type": "code",
      "metadata": {
        "id": "PtWR4rysYV_y"
      },
      "source": [
        "# define model loss and optimizer as well as metrics to monitor during training\n",
        "model.compile(optimizer='adam',\n",
        "               loss=tf.losses.BinaryCrossentropy(from_logits=True),\n",
        "               metrics=[tf.metrics.BinaryAccuracy(threshold=0.0, name='accuracy')])"
      ],
      "execution_count": 20,
      "outputs": []
    },
    {
      "cell_type": "code",
      "metadata": {
        "id": "CgEAQiAxZZkF"
      },
      "source": [
        "# slice data to create train and validation sets\n",
        "# we'll train the model on the train set, and use the validation set for validation\n",
        "# this helps us monitor the model for potential overfitting and\n",
        "# if the model generalizes to unseen data\n",
        "x_val = train_examples[:10000]\n",
        "partial_x_train = train_examples[10000:]\n",
        "\n",
        "y_val = train_labels[:10000]\n",
        "partial_y_train = train_labels[10000:]"
      ],
      "execution_count": 21,
      "outputs": []
    },
    {
      "cell_type": "code",
      "metadata": {
        "colab": {
          "base_uri": "https://localhost:8080/"
        },
        "id": "SkOXzetSZvv1",
        "outputId": "a48b4201-7761-4b41-b311-f07cf7f1160f"
      },
      "source": [
        "batch_size = 512\n",
        "epochs = 20\n",
        "\n",
        "# number of steps needed to go through the entire dataset in each epoch\n",
        "import math\n",
        "steps_per_epoch = math.ceil(len(partial_x_train) / batch_size)\n",
        "print(f'each epoch has {steps_per_epoch} steps')\n",
        "\n",
        "# train model\n",
        "# model metrics (i.e. loss, accuracy) will be stored in this variable\n",
        "history = model.fit(partial_x_train, partial_y_train,\n",
        "                    epochs=epochs, batch_size=batch_size,\n",
        "                    validation_data=(x_val, y_val),\n",
        "                    verbose=1)"
      ],
      "execution_count": 22,
      "outputs": [
        {
          "output_type": "stream",
          "text": [
            "each epoch has 30 steps\n",
            "Epoch 1/20\n",
            "30/30 [==============================] - 3s 73ms/step - loss: 0.7219 - accuracy: 0.4764 - val_loss: 0.5290 - val_accuracy: 0.8244\n",
            "Epoch 2/20\n",
            "30/30 [==============================] - 2s 63ms/step - loss: 0.3992 - accuracy: 0.9630 - val_loss: 0.3815 - val_accuracy: 0.8575\n",
            "Epoch 3/20\n",
            "30/30 [==============================] - 2s 63ms/step - loss: 0.2148 - accuracy: 0.9928 - val_loss: 0.3232 - val_accuracy: 0.8682\n",
            "Epoch 4/20\n",
            "30/30 [==============================] - 2s 63ms/step - loss: 0.1243 - accuracy: 0.9976 - val_loss: 0.3057 - val_accuracy: 0.8736\n",
            "Epoch 5/20\n",
            "30/30 [==============================] - 2s 64ms/step - loss: 0.0808 - accuracy: 0.9976 - val_loss: 0.3039 - val_accuracy: 0.8739\n",
            "Epoch 6/20\n",
            "30/30 [==============================] - 2s 62ms/step - loss: 0.0538 - accuracy: 0.9993 - val_loss: 0.3132 - val_accuracy: 0.8719\n",
            "Epoch 7/20\n",
            "30/30 [==============================] - 2s 63ms/step - loss: 0.0321 - accuracy: 0.9998 - val_loss: 0.3275 - val_accuracy: 0.8729\n",
            "Epoch 8/20\n",
            "30/30 [==============================] - 2s 63ms/step - loss: 0.0209 - accuracy: 1.0000 - val_loss: 0.3425 - val_accuracy: 0.8719\n",
            "Epoch 9/20\n",
            "30/30 [==============================] - 2s 64ms/step - loss: 0.0146 - accuracy: 1.0000 - val_loss: 0.3577 - val_accuracy: 0.8707\n",
            "Epoch 10/20\n",
            "30/30 [==============================] - 2s 63ms/step - loss: 0.0110 - accuracy: 1.0000 - val_loss: 0.3707 - val_accuracy: 0.8708\n",
            "Epoch 11/20\n",
            "30/30 [==============================] - 2s 63ms/step - loss: 0.0081 - accuracy: 1.0000 - val_loss: 0.3831 - val_accuracy: 0.8704\n",
            "Epoch 12/20\n",
            "30/30 [==============================] - 2s 64ms/step - loss: 0.0063 - accuracy: 1.0000 - val_loss: 0.3945 - val_accuracy: 0.8701\n",
            "Epoch 13/20\n",
            "30/30 [==============================] - 2s 65ms/step - loss: 0.0051 - accuracy: 1.0000 - val_loss: 0.4057 - val_accuracy: 0.8701\n",
            "Epoch 14/20\n",
            "30/30 [==============================] - 2s 65ms/step - loss: 0.0042 - accuracy: 1.0000 - val_loss: 0.4157 - val_accuracy: 0.8696\n",
            "Epoch 15/20\n",
            "30/30 [==============================] - 2s 64ms/step - loss: 0.0035 - accuracy: 1.0000 - val_loss: 0.4259 - val_accuracy: 0.8690\n",
            "Epoch 16/20\n",
            "30/30 [==============================] - 2s 65ms/step - loss: 0.0031 - accuracy: 1.0000 - val_loss: 0.4352 - val_accuracy: 0.8685\n",
            "Epoch 17/20\n",
            "30/30 [==============================] - 2s 65ms/step - loss: 0.0025 - accuracy: 1.0000 - val_loss: 0.4419 - val_accuracy: 0.8686\n",
            "Epoch 18/20\n",
            "30/30 [==============================] - 2s 65ms/step - loss: 0.0023 - accuracy: 1.0000 - val_loss: 0.4499 - val_accuracy: 0.8681\n",
            "Epoch 19/20\n",
            "30/30 [==============================] - 2s 64ms/step - loss: 0.0019 - accuracy: 1.0000 - val_loss: 0.4578 - val_accuracy: 0.8676\n",
            "Epoch 20/20\n",
            "30/30 [==============================] - 2s 63ms/step - loss: 0.0018 - accuracy: 1.0000 - val_loss: 0.4648 - val_accuracy: 0.8674\n"
          ],
          "name": "stdout"
        }
      ]
    },
    {
      "cell_type": "code",
      "metadata": {
        "colab": {
          "base_uri": "https://localhost:8080/"
        },
        "id": "jNSsXRCiZ53a",
        "outputId": "77f3313a-a8ed-4008-8c5e-22eb02a3f019"
      },
      "source": [
        "# evaluate model performance on test data\n",
        "test_loss, test_acc = model.evaluate(test_data, test_labels)\n",
        "print(f'test loss: {round(test_loss * 100, 2)}%')\n",
        "print(f'test acc: {round(test_acc * 100, 2)}%')"
      ],
      "execution_count": 23,
      "outputs": [
        {
          "output_type": "stream",
          "text": [
            "782/782 [==============================] - 3s 4ms/step - loss: 0.5179 - accuracy: 0.8494\n",
            "test loss: 51.79%\n",
            "test acc: 84.94%\n"
          ],
          "name": "stdout"
        }
      ]
    },
    {
      "cell_type": "code",
      "metadata": {
        "colab": {
          "base_uri": "https://localhost:8080/"
        },
        "id": "fSx-DPPSaJx-",
        "outputId": "c73ab96e-66b7-4c21-b183-5b1c5bcb2548"
      },
      "source": [
        "# get keys for the model's metrics\n",
        "# shows the trend of loss and accuracy (and generally, potential overfitting)\n",
        "history_dict = history.history\n",
        "history_dict.keys()"
      ],
      "execution_count": 24,
      "outputs": [
        {
          "output_type": "execute_result",
          "data": {
            "text/plain": [
              "dict_keys(['loss', 'accuracy', 'val_loss', 'val_accuracy'])"
            ]
          },
          "metadata": {
            "tags": []
          },
          "execution_count": 24
        }
      ]
    },
    {
      "cell_type": "code",
      "metadata": {
        "id": "CUdGarhoaK49"
      },
      "source": [
        "def plot_metrics(metric='accuracy'):\n",
        "  \"\"\"\n",
        "  Helper function to plot the metrics of the model\n",
        "    Parameter:\n",
        "      metric: the metric that we seek to plot ex. accuracy, acc, loss\n",
        "\n",
        "    Returns:\n",
        "      plot of the trend of the metrics over the epochs\n",
        "  \"\"\"\n",
        "  if metric in ['accuracy', 'acc', 'loss']:\n",
        "    metric_one = history_dict[f'{metric}']\n",
        "    metric_two = history_dict[f'val_{metric}']\n",
        "    epochs = range(1, len(metric_one) + 1)\n",
        "  \n",
        "    plt.clf()\n",
        "    # \"bo\" is for \"blue dot\"  \n",
        "    plt.plot(epochs, metric_one, 'bo', label=f'training {metric}')\n",
        "    # b is for \"solid blue line\"\n",
        "    plt.plot(epochs, metric_two, 'b', label=f'validation {metric}')\n",
        "    plt.title(f'training and talidation {metric}')\n",
        "    plt.xlabel('epochs')\n",
        "    plt.ylabel(f'{metric}')\n",
        "    plt.legend()\n",
        "    plt.show()"
      ],
      "execution_count": 25,
      "outputs": []
    },
    {
      "cell_type": "code",
      "metadata": {
        "colab": {
          "base_uri": "https://localhost:8080/",
          "height": 295
        },
        "id": "3EnUKCSDcsPc",
        "outputId": "371b7a07-57a2-411d-d2d9-9d4383c3cba4"
      },
      "source": [
        "# plot model accuracy over epochs\n",
        "plot_metrics(metric='accuracy')"
      ],
      "execution_count": 26,
      "outputs": [
        {
          "output_type": "display_data",
          "data": {
            "image/png": "[encoded data removed]",
            "text/plain": [
              "<Figure size 432x288 with 1 Axes>"
            ]
          },
          "metadata": {
            "tags": [],
            "needs_background": "light"
          }
        }
      ]
    },
    {
      "cell_type": "code",
      "metadata": {
        "colab": {
          "base_uri": "https://localhost:8080/",
          "height": 295
        },
        "id": "zFJoOKSscvhe",
        "outputId": "00302887-7bfb-4051-c4ad-64d92ad1dffd"
      },
      "source": [
        "# plot model loss over epochs\n",
        "plot_metrics(metric='loss')"
      ],
      "execution_count": 27,
      "outputs": [
        {
          "output_type": "display_data",
          "data": {
            "image/png": "[encoded data removed]",
            "text/plain": [
              "<Figure size 432x288 with 1 Axes>"
            ]
          },
          "metadata": {
            "tags": [],
            "needs_background": "light"
          }
        }
      ]
    },
    {
      "cell_type": "code",
      "metadata": {
        "colab": {
          "base_uri": "https://localhost:8080/"
        },
        "id": "2Xqy1COKcxmk",
        "outputId": "04d41bda-c39d-4bae-f95e-5f1bc498cfb2"
      },
      "source": [
        "# saving the model version.\n",
        "model_name = 'text_classifier'\n",
        "version = '1'\n",
        "file_path = f'./{model_name}/{version}'\n",
        "tf.keras.models.save_model(\n",
        "    model,\n",
        "    file_path,\n",
        "    overwrite=True,\n",
        "    include_optimizer=True,\n",
        "    save_format='tf')\n"
      ],
      "execution_count": 28,
      "outputs": [
        {
          "output_type": "stream",
          "text": [
            "INFO:tensorflow:Assets written to: ./text_classifier/1/assets\n"
          ],
          "name": "stdout"
        },
        {
          "output_type": "stream",
          "text": [
            "INFO:tensorflow:Assets written to: ./text_classifier/1/assets\n"
          ],
          "name": "stderr"
        }
      ]
    },
    {
      "cell_type": "markdown",
      "metadata": {
        "id": "sciq40k1hLPm"
      },
      "source": [
        "Text Classifier - V2"
      ]
    },
    {
      "cell_type": "code",
      "metadata": {
        "colab": {
          "base_uri": "https://localhost:8080/"
        },
        "id": "XOY15-sCuo4y",
        "outputId": "a08d0235-c4a1-43e9-e28a-fb6241df6e88"
      },
      "source": [
        "# import dependencies\n",
        "import numpy as np\n",
        "import tensorflow as tf\n",
        "import tensorflow_hub as hub\n",
        "import tensorflow_datasets as tfds\n",
        "import matplotlib.pyplot as plt\n",
        "\n",
        "print(f'Version: {tf.__version__}')\n",
        "print(f'Eager mode: {tf.executing_eagerly()}')\n",
        "print(f'Hub version: {hub.__version__}')\n",
        "print(f'GPU is {\"available\" if tf.config.list_physical_devices(\"GPU\") else \"not available\"}')"
      ],
      "execution_count": null,
      "outputs": [
        {
          "output_type": "stream",
          "text": [
            "Version: 2.4.1\n",
            "Eager mode: True\n",
            "Hub version: 0.11.0\n",
            "GPU is available\n"
          ],
          "name": "stdout"
        }
      ]
    },
    {
      "cell_type": "code",
      "metadata": {
        "id": "IXcnWykYu7d7"
      },
      "source": [
        "# this example uses the imdb reviews dataset\n",
        "# load the dataset\n",
        "train_data, test_data = tfds.load(name=\"imdb_reviews\", split=[\"train\", \"test\"],\n",
        "                                  batch_size=-1, as_supervised=True)\n"
      ],
      "execution_count": null,
      "outputs": []
    },
    {
      "cell_type": "code",
      "metadata": {
        "colab": {
          "base_uri": "https://localhost:8080/"
        },
        "id": "7i8mU5BWu7bF",
        "outputId": "3fbb3809-81e0-4fef-a315-417f243d230e"
      },
      "source": [
        "# neural networks works with tensors\n",
        "# convert the dataset python generator yielding 1D tensors\n",
        "\n",
        "train_examples, train_labels = tfds.as_numpy(train_data)\n",
        "test_examples, test_labels = tfds.as_numpy(test_data)\n",
        "\n",
        "print(f'shape of train_examples {train_examples.shape}')\n",
        "print(f'shape of train_labels {train_labels.shape}')\n",
        "print(f'shape of test_examples {test_examples.shape}')\n",
        "print(f'shape of test_labels {test_labels.shape}')"
      ],
      "execution_count": null,
      "outputs": [
        {
          "output_type": "stream",
          "text": [
            "shape of train_examples (25000,)\n",
            "shape of train_labels (25000,)\n",
            "shape of test_examples (25000,)\n",
            "shape of test_labels (25000,)\n"
          ],
          "name": "stdout"
        }
      ]
    },
    {
      "cell_type": "code",
      "metadata": {
        "id": "SbFrD2G5wGd-"
      },
      "source": [
        "# concatenate train and test examples and labels\n",
        "def concatenate_data(train_features=train_examples, test_features=test_examples, train_labels=train_labels, test_labels=test_labels):\n",
        "  \"\"\"\n",
        "  Returns all train and test features in one array and all train and test labels in another array.\n",
        "\n",
        "  Parameters:\n",
        "    train_features: 1D tensor of train features\n",
        "    test_features: 1D tensor of test features\n",
        "    train_labels: 1D tensor of train labels\n",
        "    test_labels: 1D tensor of test labels\n",
        "  \n",
        "  Returns:\n",
        "    all_examples_features: 1D tensor of train and test features concatenated\n",
        "    all_examples_labels: 1D tensor of train and test labels concatenated\n",
        "  \"\"\"\n",
        "\n",
        "  try:\n",
        "    assert train_examples.shape == test_examples.shape, \\\n",
        "    f'Tensor shapes do not match. The shape of your first tensor is {train_examples.shape} and the shape of your second tensor is {test_examples.shape}.'\n",
        "\n",
        "    assert train_labels.shape == test_labels.shape, \\\n",
        "    f'Tensor shapes do not match. The shape of your first tensor is {train_labels.shape} and the shape of your second tensor is {test_labels.shape}.'\n",
        "\n",
        "    all_examples_features = np.concatenate((train_examples, test_examples), axis=0)\n",
        "    all_examples_labels = np.concatenate((train_labels, test_labels), axis=0)\n",
        "    return all_examples_features, all_examples_labels\n",
        "  except AssertionError as msg:\n",
        "    print(msg)\n",
        "\n",
        "all_examples_features, all_examples_labels = concatenate_data(train_features=train_examples, test_features=test_examples, train_labels=train_labels, test_labels=test_labels)"
      ],
      "execution_count": 29,
      "outputs": []
    },
    {
      "cell_type": "code",
      "metadata": {
        "colab": {
          "base_uri": "https://localhost:8080/"
        },
        "id": "poRNf83jypit",
        "outputId": "f8602bf6-56b7-4fcd-c9cb-cdb3db8a58e3"
      },
      "source": [
        "print(f'shape of features after concatenation {all_examples_features.shape}')\n",
        "print(f'shape of labels after concatenation {all_examples_labels.shape}')"
      ],
      "execution_count": 30,
      "outputs": [
        {
          "output_type": "stream",
          "text": [
            "shape of features after concatenation (50000,)\n",
            "shape of labels after concatenation (50000,)\n"
          ],
          "name": "stdout"
        }
      ]
    },
    {
      "cell_type": "code",
      "metadata": {
        "colab": {
          "base_uri": "https://localhost:8080/",
          "height": 35
        },
        "id": "U3yoG_Wi0vDy",
        "outputId": "4f6e350b-1764-4722-c1bd-721f485175e9"
      },
      "source": [
        "# helper function to check that the original data was combined correctly\n",
        "# def (train_examples=train_examples, tes)\n",
        "def data_match(all_examples_features=all_examples_features, all_examples_labels=all_examples_labels, train_examples=train_examples, train_labels=train_labels, test_examples=test_examples, test_labels=test_labels):\n",
        "  len_all_example_features = len(all_examples_features)\n",
        "  len_all_examples_labels = len(all_examples_labels)\n",
        "  len_train_examples = len(train_examples)\n",
        "  len_train_labels = len(train_labels)\n",
        "  \n",
        "  features_match_train = [True for idx in range(0, len_all_example_features)[:len_train_examples] if train_examples[idx] == all_examples_features[idx]]\n",
        "  features_match_test = [True for idx in range(len_train_examples, len_all_example_features)[len_train_examples:] if test_examples[idx] == all_examples_features[idx]]\n",
        "  labels_match_train = [True for idx in range(0, len_all_examples_labels)[:len_train_labels] if train_labels[idx] == all_examples_labels[idx]]\n",
        "  labels_match_test = [True for idx in range(len_train_examples, len_all_examples_labels)[len_train_labels:] if test_labels[idx] == all_examples_labels[idx]]\n",
        "\n",
        "  if False in [features_match_train, features_match_test]:\n",
        "    return f'Mismatch detected in features'\n",
        "  \n",
        "  if False in [labels_match_train, labels_match_test]:\n",
        "    return f'Mismatch detected in labels'\n",
        "  \n",
        "  return f'All features and labels match'\n",
        "  \n",
        "data_match(all_examples_features=all_examples_features, train_examples=train_examples, test_examples=test_examples)"
      ],
      "execution_count": 32,
      "outputs": [
        {
          "output_type": "execute_result",
          "data": {
            "application/vnd.google.colaboratory.intrinsic+json": {
              "type": "string"
            },
            "text/plain": [
              "'All features and labels match'"
            ]
          },
          "metadata": {
            "tags": []
          },
          "execution_count": 32
        }
      ]
    },
    {
      "cell_type": "code",
      "metadata": {
        "colab": {
          "base_uri": "https://localhost:8080/",
          "height": 123
        },
        "id": "CfTRpEEhu7SM",
        "outputId": "f4d0269a-1adf-4839-fc2f-bede671f74ac"
      },
      "source": [
        "# the reviews are not actually strings. they are byte encoded\n",
        "# however, the pretrained model that we'll use handles the decoding\n",
        "# it also handles tokenization of each review and\n",
        "# it converts each timestep in the sequence of words to a 50D word vector/embedding\n",
        "model = \"https://tfhub.dev/google/nnlm-en-dim50/2\"\n",
        "hub_layer = hub.KerasLayer(model, input_shape=[], dtype=tf.string, trainable=True)\n",
        "\n",
        "def confirm_dim(features=all_examples_features):\n",
        "  \"\"\"\n",
        "  Confirms the word embedding for each review is 50D\n",
        "  \n",
        "  Parameters:\n",
        "    all_examples_features: feature space showing all reviews\n",
        "  \n",
        "  Returns:\n",
        "    Whether or not the reviews are mapped to 50D word embeddings\n",
        "  \"\"\"\n",
        "  is_50d = [True for review in hub_layer(all_examples_features) if review.shape[0] == 50]\n",
        "  if False in is_50d:\n",
        "    return f'At least one review is not mapped to a 50D word embedding'\n",
        "  return f'Each review is mapped to a 50D word embedding'\n",
        "\n",
        "confirm_dim(all_examples_features)"
      ],
      "execution_count": 33,
      "outputs": [
        {
          "output_type": "stream",
          "text": [
            "WARNING:tensorflow:5 out of the last 6 calls to <function recreate_function.<locals>.restored_function_body at 0x7fd3c60df710> triggered tf.function retracing. Tracing is expensive and the excessive number of tracings could be due to (1) creating @tf.function repeatedly in a loop, (2) passing tensors with different shapes, (3) passing Python objects instead of tensors. For (1), please define your @tf.function outside of the loop. For (2), @tf.function has experimental_relax_shapes=True option that relaxes argument shapes that can avoid unnecessary retracing. For (3), please refer to https://www.tensorflow.org/guide/function#controlling_retracing and https://www.tensorflow.org/api_docs/python/tf/function for  more details.\n"
          ],
          "name": "stdout"
        },
        {
          "output_type": "stream",
          "text": [
            "WARNING:tensorflow:5 out of the last 6 calls to <function recreate_function.<locals>.restored_function_body at 0x7fd3c60df710> triggered tf.function retracing. Tracing is expensive and the excessive number of tracings could be due to (1) creating @tf.function repeatedly in a loop, (2) passing tensors with different shapes, (3) passing Python objects instead of tensors. For (1), please define your @tf.function outside of the loop. For (2), @tf.function has experimental_relax_shapes=True option that relaxes argument shapes that can avoid unnecessary retracing. For (3), please refer to https://www.tensorflow.org/guide/function#controlling_retracing and https://www.tensorflow.org/api_docs/python/tf/function for  more details.\n"
          ],
          "name": "stderr"
        },
        {
          "output_type": "stream",
          "text": [
            "WARNING:tensorflow:6 out of the last 7 calls to <function recreate_function.<locals>.restored_function_body at 0x7fd3c6020050> triggered tf.function retracing. Tracing is expensive and the excessive number of tracings could be due to (1) creating @tf.function repeatedly in a loop, (2) passing tensors with different shapes, (3) passing Python objects instead of tensors. For (1), please define your @tf.function outside of the loop. For (2), @tf.function has experimental_relax_shapes=True option that relaxes argument shapes that can avoid unnecessary retracing. For (3), please refer to https://www.tensorflow.org/guide/function#controlling_retracing and https://www.tensorflow.org/api_docs/python/tf/function for  more details.\n"
          ],
          "name": "stdout"
        },
        {
          "output_type": "stream",
          "text": [
            "WARNING:tensorflow:6 out of the last 7 calls to <function recreate_function.<locals>.restored_function_body at 0x7fd3c6020050> triggered tf.function retracing. Tracing is expensive and the excessive number of tracings could be due to (1) creating @tf.function repeatedly in a loop, (2) passing tensors with different shapes, (3) passing Python objects instead of tensors. For (1), please define your @tf.function outside of the loop. For (2), @tf.function has experimental_relax_shapes=True option that relaxes argument shapes that can avoid unnecessary retracing. For (3), please refer to https://www.tensorflow.org/guide/function#controlling_retracing and https://www.tensorflow.org/api_docs/python/tf/function for  more details.\n"
          ],
          "name": "stderr"
        },
        {
          "output_type": "execute_result",
          "data": {
            "application/vnd.google.colaboratory.intrinsic+json": {
              "type": "string"
            },
            "text/plain": [
              "'Each review is mapped to a 50D word embedding'"
            ]
          },
          "metadata": {
            "tags": []
          },
          "execution_count": 33
        }
      ]
    },
    {
      "cell_type": "code",
      "metadata": {
        "colab": {
          "base_uri": "https://localhost:8080/"
        },
        "id": "qbNdZIXAu7Lg",
        "outputId": "507ff3d1-af6f-4838-ec7c-b261c9b467fa"
      },
      "source": [
        "# stack layers using the keras Sequential class to create network architecture\n",
        "model = tf.keras.Sequential()\n",
        "model.add(hub_layer)\n",
        "model.add(tf.keras.layers.Dense(16, activation='relu'))\n",
        "model.add(tf.keras.layers.Dense(1))\n",
        "\n",
        "# show model architecture\n",
        "model.summary()"
      ],
      "execution_count": 42,
      "outputs": [
        {
          "output_type": "stream",
          "text": [
            "Model: \"sequential_3\"\n",
            "_________________________________________________________________\n",
            "Layer (type)                 Output Shape              Param #   \n",
            "=================================================================\n",
            "keras_layer_1 (KerasLayer)   (None, 50)                48190600  \n",
            "_________________________________________________________________\n",
            "dense_6 (Dense)              (None, 16)                816       \n",
            "_________________________________________________________________\n",
            "dense_7 (Dense)              (None, 1)                 17        \n",
            "=================================================================\n",
            "Total params: 48,191,433\n",
            "Trainable params: 48,191,433\n",
            "Non-trainable params: 0\n",
            "_________________________________________________________________\n"
          ],
          "name": "stdout"
        }
      ]
    },
    {
      "cell_type": "code",
      "metadata": {
        "colab": {
          "base_uri": "https://localhost:8080/",
          "height": 369
        },
        "id": "5RFpQ_T81AOg",
        "outputId": "8976d038-8a11-4e38-a097-c693ab3b405e"
      },
      "source": [
        "# model graph\n",
        "tf.keras.utils.plot_model(model, 'text_classifier_v2.png')"
      ],
      "execution_count": 43,
      "outputs": [
        {
          "output_type": "execute_result",
          "data": {
            "image/png": "[encoded data removed]",
            "text/plain": [
              "<IPython.core.display.Image object>"
            ]
          },
          "metadata": {
            "tags": []
          },
          "execution_count": 43
        }
      ]
    },
    {
      "cell_type": "code",
      "metadata": {
        "id": "G_RjZdVNu7BI"
      },
      "source": [
        "# define model loss and optimizer \n",
        "# as well as metrics to monitor during training\n",
        "model.compile(optimizer='adam',\n",
        "               loss=tf.losses.BinaryCrossentropy(from_logits=True),\n",
        "               metrics=[tf.metrics.BinaryAccuracy(threshold=0.0, name='accuracy')])"
      ],
      "execution_count": 44,
      "outputs": []
    },
    {
      "cell_type": "code",
      "metadata": {
        "colab": {
          "base_uri": "https://localhost:8080/"
        },
        "id": "_qwGUN8lu64Q",
        "outputId": "8ebe3e83-3e0c-447d-f3c4-c4458f2f225a"
      },
      "source": [
        "# slice data to create train and validation sets\n",
        "# we'll train the model on the train set, and use the validation set for validation\n",
        "# this helps us monitor the model for potential overfitting and most importantly\n",
        "# if the model generalizes to unseen data\n",
        "def train_test_split(split_pct=0.3, features=all_examples_features, labels=all_examples_labels):\n",
        "  \"\"\"\n",
        "  Splits aggregate data into train and test sets based.\n",
        "\n",
        "  Parameters:\n",
        "    split_pct: percent of the aggregate data placed in the test set\n",
        "    features: 1D tensor of all features. Features here represent reviews\n",
        "    labels: 1D tensor of all labels. Labels here represent the sentiment of the review: 0 or 1\n",
        "  \n",
        "  Returns:\n",
        "    train_features: 1D tensor of features in the train set\n",
        "    train_labels: 1D tensor of labels in the train set\n",
        "    test_features: 1D tensor of features in the test set\n",
        "    test_labels: 1D tensor of labels in the test set\n",
        "  \"\"\"\n",
        "  data_dimension = all_examples_features.shape[0]\n",
        "  data_slice = int(round(data_dimension * split_pct))\n",
        "  train_features = all_examples_features[:data_dimension - data_slice]\n",
        "  train_labels = all_examples_labels[:data_dimension - data_slice]\n",
        "  test_features = all_examples_features[data_dimension - data_slice:]\n",
        "  test_labels = all_examples_labels[data_dimension - data_slice:]\n",
        "  return train_features, train_labels, test_features, test_labels\n",
        "\n",
        "train_features, train_labels, test_features, test_labels = train_test_split(split_pct=0.3, features=all_examples_features, labels=all_examples_labels)\n",
        "\n",
        "print(f'shape of train features {train_features.shape}')\n",
        "print(f'shape of train labels {train_labels.shape}')\n",
        "print(f'shape of test features {test_features.shape}')\n",
        "print(f'shape of test labels {test_labels.shape}')\n",
        "\n",
        "\n"
      ],
      "execution_count": 45,
      "outputs": [
        {
          "output_type": "stream",
          "text": [
            "shape of train features (35000,)\n",
            "shape of train labels (35000,)\n",
            "shape of test features (15000,)\n",
            "shape of test labels (15000,)\n"
          ],
          "name": "stdout"
        }
      ]
    },
    {
      "cell_type": "code",
      "metadata": {
        "colab": {
          "base_uri": "https://localhost:8080/"
        },
        "id": "3Hn0Jx7CvXV2",
        "outputId": "bc1e0046-f1fa-403a-ba2c-a04997c28eaf"
      },
      "source": [
        "batch_size = 512\n",
        "validation_split = 0.3\n",
        "epochs = 20\n",
        "\n",
        "# number of steps needed to go through the entire dataset in each epoch\n",
        "import math\n",
        "steps_per_epoch = math.ceil((len(train_features) * (1 - validation_split)) / batch_size)\n",
        "print(f'each epoch has {steps_per_epoch} steps')\n",
        "\n",
        "# train model\n",
        "# model metrics (i.e. loss, accuracy) will be stored in this variable\n",
        "history = model.fit(train_features, train_labels,\n",
        "                    epochs=epochs, batch_size=batch_size,\n",
        "                    validation_split=validation_split,\n",
        "                    verbose=1)"
      ],
      "execution_count": 46,
      "outputs": [
        {
          "output_type": "stream",
          "text": [
            "each epoch has 48 steps\n",
            "Epoch 1/20\n",
            "48/48 [==============================] - 3s 60ms/step - loss: 0.5245 - accuracy: 0.8538 - val_loss: 0.4181 - val_accuracy: 0.8556\n",
            "Epoch 2/20\n",
            "48/48 [==============================] - 3s 58ms/step - loss: 0.2731 - accuracy: 0.9653 - val_loss: 0.3220 - val_accuracy: 0.8695\n",
            "Epoch 3/20\n",
            "48/48 [==============================] - 3s 58ms/step - loss: 0.1558 - accuracy: 0.9740 - val_loss: 0.3022 - val_accuracy: 0.8710\n",
            "Epoch 4/20\n",
            "48/48 [==============================] - 3s 57ms/step - loss: 0.1042 - accuracy: 0.9822 - val_loss: 0.3052 - val_accuracy: 0.8701\n",
            "Epoch 5/20\n",
            "48/48 [==============================] - 3s 57ms/step - loss: 0.0710 - accuracy: 0.9892 - val_loss: 0.3191 - val_accuracy: 0.8688\n",
            "Epoch 6/20\n",
            "48/48 [==============================] - 3s 57ms/step - loss: 0.0482 - accuracy: 0.9940 - val_loss: 0.3420 - val_accuracy: 0.8674\n",
            "Epoch 7/20\n",
            "48/48 [==============================] - 3s 58ms/step - loss: 0.0340 - accuracy: 0.9964 - val_loss: 0.3656 - val_accuracy: 0.8638\n",
            "Epoch 8/20\n",
            "48/48 [==============================] - 3s 58ms/step - loss: 0.0237 - accuracy: 0.9985 - val_loss: 0.3879 - val_accuracy: 0.8628\n",
            "Epoch 9/20\n",
            "48/48 [==============================] - 3s 58ms/step - loss: 0.0171 - accuracy: 0.9993 - val_loss: 0.4109 - val_accuracy: 0.8600\n",
            "Epoch 10/20\n",
            "48/48 [==============================] - 3s 59ms/step - loss: 0.0131 - accuracy: 0.9995 - val_loss: 0.4339 - val_accuracy: 0.8587\n",
            "Epoch 11/20\n",
            "48/48 [==============================] - 3s 58ms/step - loss: 0.0101 - accuracy: 0.9999 - val_loss: 0.4549 - val_accuracy: 0.8579\n",
            "Epoch 12/20\n",
            "48/48 [==============================] - 3s 57ms/step - loss: 0.0074 - accuracy: 0.9998 - val_loss: 0.4751 - val_accuracy: 0.8565\n",
            "Epoch 13/20\n",
            "48/48 [==============================] - 3s 58ms/step - loss: 0.0057 - accuracy: 0.9999 - val_loss: 0.5116 - val_accuracy: 0.8562\n",
            "Epoch 14/20\n",
            "48/48 [==============================] - 3s 58ms/step - loss: 0.0040 - accuracy: 0.9999 - val_loss: 0.5416 - val_accuracy: 0.8558\n",
            "Epoch 15/20\n",
            "48/48 [==============================] - 3s 57ms/step - loss: 0.0028 - accuracy: 1.0000 - val_loss: 0.5707 - val_accuracy: 0.8540\n",
            "Epoch 16/20\n",
            "48/48 [==============================] - 3s 57ms/step - loss: 0.0019 - accuracy: 1.0000 - val_loss: 0.5950 - val_accuracy: 0.8536\n",
            "Epoch 17/20\n",
            "48/48 [==============================] - 3s 57ms/step - loss: 0.0015 - accuracy: 1.0000 - val_loss: 0.6170 - val_accuracy: 0.8532\n",
            "Epoch 18/20\n",
            "48/48 [==============================] - 3s 59ms/step - loss: 0.0012 - accuracy: 1.0000 - val_loss: 0.6384 - val_accuracy: 0.8528\n",
            "Epoch 19/20\n",
            "48/48 [==============================] - 3s 57ms/step - loss: 9.2155e-04 - accuracy: 1.0000 - val_loss: 0.6568 - val_accuracy: 0.8524\n",
            "Epoch 20/20\n",
            "48/48 [==============================] - 3s 58ms/step - loss: 7.6584e-04 - accuracy: 1.0000 - val_loss: 0.6720 - val_accuracy: 0.8532\n"
          ],
          "name": "stdout"
        }
      ]
    },
    {
      "cell_type": "code",
      "metadata": {
        "colab": {
          "base_uri": "https://localhost:8080/"
        },
        "id": "dQWzAccqvXQs",
        "outputId": "c6b5194a-46bc-473a-cb62-7a4b2c8f1ca0"
      },
      "source": [
        "# evaluate model performance on test data\n",
        "test_loss, test_acc = model.evaluate(test_features, test_labels)\n",
        "print(f'test_loss: {round(test_loss * 100, 2)}%')\n",
        "print(f'test_acc: {round(test_acc * 100, 2)}%')"
      ],
      "execution_count": 47,
      "outputs": [
        {
          "output_type": "stream",
          "text": [
            "469/469 [==============================] - 2s 4ms/step - loss: 0.6816 - accuracy: 0.8511\n",
            "test_loss: 68.16%\n",
            "test_acc: 85.11%\n"
          ],
          "name": "stdout"
        }
      ]
    },
    {
      "cell_type": "code",
      "metadata": {
        "colab": {
          "base_uri": "https://localhost:8080/"
        },
        "id": "uLn4LIcPE0dm",
        "outputId": "36f45e36-3db8-4d05-bc7e-abff7bea1332"
      },
      "source": [
        "print(model.predict([b\"This was an absolutely terrible movie. Don't be lured in by Christopher Walken or Michael Ironside. Both are great actors, but this must simply be their worst role in history. Even their great acting could not redeem this movie's ridiculous storyline. This movie is an early nineties US propaganda piece. The most pathetic scenes were those when the Columbian rebels were making their cases for revolutions. Maria Conchita Alonso appeared phony, and her pseudo-love affair with Walken was nothing but a pathetic emotional plug in a movie that was devoid of any real meaning. I am disappointed that there are movies like this, ruining actor's like Christopher Walken's good name. I could barely sit through it.\"]))\n",
        "print(model.predict([b'As others have mentioned, all the women that go nude in this film are mostly absolutely gorgeous. The plot very ably shows the hypocrisy of the female libido. When men are around they want to be pursued, but when no \"men\" are around, they become the pursuers of a 14 year old boy. And the boy becomes a man really fast (we should all be so lucky at this age!). He then gets up the courage to pursue his true love']))"
      ],
      "execution_count": 48,
      "outputs": [
        {
          "output_type": "stream",
          "text": [
            "[[-18.291258]]\n",
            "[[6.622221]]\n"
          ],
          "name": "stdout"
        }
      ]
    },
    {
      "cell_type": "code",
      "metadata": {
        "colab": {
          "base_uri": "https://localhost:8080/"
        },
        "id": "tXi6Mj_S9iNi",
        "outputId": "173d25ec-a960-413b-c347-2bded04b0e48"
      },
      "source": [
        "# get keys for the model's metrics\n",
        "# needed to eventually see the trend of loss and accuracy (and generally, potential overfitting)\n",
        "history_dict = history.history\n",
        "history_dict.keys()"
      ],
      "execution_count": 49,
      "outputs": [
        {
          "output_type": "execute_result",
          "data": {
            "text/plain": [
              "dict_keys(['loss', 'accuracy', 'val_loss', 'val_accuracy'])"
            ]
          },
          "metadata": {
            "tags": []
          },
          "execution_count": 49
        }
      ]
    },
    {
      "cell_type": "code",
      "metadata": {
        "id": "ngXLiwt1vXJK"
      },
      "source": [
        "def plot_metrics(metric='accuracy'):\n",
        "  \"\"\"\n",
        "  Helper function to plot the metrics of the model\n",
        "    Parameter:\n",
        "      metric: the metric that we seek to plot ex. accuracy, acc, loss\n",
        "\n",
        "    Returns:\n",
        "      plot of the trend of the metrics over the epochs\n",
        "  \"\"\"\n",
        "  if metric in ['accuracy', 'acc', 'loss']:\n",
        "    metric_one = history_dict[f'{metric}']\n",
        "    metric_two = history_dict[f'val_{metric}']\n",
        "    epochs = range(1, len(metric_one) + 1)\n",
        "  \n",
        "    plt.clf()\n",
        "    # \"bo\" is for \"blue dot\"  \n",
        "    plt.plot(epochs, metric_one, 'bo', label=f'training {metric}')\n",
        "    # b is for \"solid blue line\"\n",
        "    plt.plot(epochs, metric_two, 'b', label=f'validation {metric}')\n",
        "    plt.title(f'training and talidation {metric}')\n",
        "    plt.xlabel('epochs')\n",
        "    plt.ylabel(f'{metric}')\n",
        "    plt.legend()\n",
        "    plt.show()"
      ],
      "execution_count": 50,
      "outputs": []
    },
    {
      "cell_type": "code",
      "metadata": {
        "colab": {
          "base_uri": "https://localhost:8080/",
          "height": 295
        },
        "id": "hyvq7_YdvgK7",
        "outputId": "4062d36c-f1ce-4eef-a6a0-9725ee58c177"
      },
      "source": [
        "# plot model accuracy over epochs\n",
        "plot_metrics(metric='accuracy')"
      ],
      "execution_count": 51,
      "outputs": [
        {
          "output_type": "display_data",
          "data": {
            "image/png": "[encoded data removed]",
            "text/plain": [
              "<Figure size 432x288 with 1 Axes>"
            ]
          },
          "metadata": {
            "tags": [],
            "needs_background": "light"
          }
        }
      ]
    },
    {
      "cell_type": "code",
      "metadata": {
        "colab": {
          "base_uri": "https://localhost:8080/",
          "height": 295
        },
        "id": "wmr8V0pD9nS8",
        "outputId": "cb17970a-d4a1-44ef-ee38-bfaa223dd73e"
      },
      "source": [
        "# plot model loss over epochs\n",
        "plot_metrics(metric='loss')"
      ],
      "execution_count": 52,
      "outputs": [
        {
          "output_type": "display_data",
          "data": {
            "image/png": "[encoded data removed]",
            "text/plain": [
              "<Figure size 432x288 with 1 Axes>"
            ]
          },
          "metadata": {
            "tags": [],
            "needs_background": "light"
          }
        }
      ]
    },
    {
      "cell_type": "code",
      "metadata": {
        "colab": {
          "base_uri": "https://localhost:8080/"
        },
        "id": "xHiQetULvgGa",
        "outputId": "9c5588ce-81b5-4e24-ceea-367c96ee8bd8"
      },
      "source": [
        "# saving the model version.\n",
        "model_name = 'text_classifier'\n",
        "version = '2'\n",
        "file_path = f'./{model_name}/{version}'\n",
        "tf.keras.models.save_model(\n",
        "    model,\n",
        "    file_path,\n",
        "    overwrite=True,\n",
        "    include_optimizer=True,\n",
        "    save_format='tf')\n"
      ],
      "execution_count": 53,
      "outputs": [
        {
          "output_type": "stream",
          "text": [
            "INFO:tensorflow:Assets written to: ./text_classifier/2/assets\n"
          ],
          "name": "stdout"
        },
        {
          "output_type": "stream",
          "text": [
            "INFO:tensorflow:Assets written to: ./text_classifier/2/assets\n"
          ],
          "name": "stderr"
        }
      ]
    },
    {
      "cell_type": "code",
      "metadata": {
        "colab": {
          "base_uri": "https://localhost:8080/",
          "height": 292
        },
        "id": "icY56w4Ivf_S",
        "outputId": "6098bdbc-9e12-4e9f-f82c-5af162b3ad88"
      },
      "source": [
        "# zip saved model and download to the downloads folder of your local machine\n",
        "!zip -r /content/text_classifier.zip /content/text_classifier\n",
        "\n",
        "# download files to the downloads folder of your local machine\n",
        "# after downloading, ensure you unzip the text_classifier file,\n",
        "# do not rename the unzipped file and leave it in the downloads folder\n",
        "from google.colab import files\n",
        "files.download('/content/text_classifier.zip')\n"
      ],
      "execution_count": 54,
      "outputs": [
        {
          "output_type": "stream",
          "text": [
            "  adding: content/text_classifier/ (stored 0%)\n",
            "  adding: content/text_classifier/2/ (stored 0%)\n",
            "  adding: content/text_classifier/2/variables/ (stored 0%)\n",
            "  adding: content/text_classifier/2/variables/variables.data-00000-of-00001 (deflated 64%)\n",
            "  adding: content/text_classifier/2/variables/variables.index (deflated 60%)\n",
            "  adding: content/text_classifier/2/saved_model.pb (deflated 86%)\n",
            "  adding: content/text_classifier/2/assets/ (stored 0%)\n",
            "  adding: content/text_classifier/2/assets/tokens.txt (deflated 47%)\n",
            "  adding: content/text_classifier/1/ (stored 0%)\n",
            "  adding: content/text_classifier/1/variables/ (stored 0%)\n",
            "  adding: content/text_classifier/1/variables/variables.data-00000-of-00001 (deflated 65%)\n",
            "  adding: content/text_classifier/1/variables/variables.index (deflated 60%)\n",
            "  adding: content/text_classifier/1/saved_model.pb (deflated 86%)\n",
            "  adding: content/text_classifier/1/assets/ (stored 0%)\n",
            "  adding: content/text_classifier/1/assets/tokens.txt (deflated 47%)\n"
          ],
          "name": "stdout"
        },
        {
          "output_type": "display_data",
          "data": {
            "application/javascript": [
              "\n",
              "    async function download(id, filename, size) {\n",
              "      if (!google.colab.kernel.accessAllowed) {\n",
              "        return;\n",
              "      }\n",
              "      const div = document.createElement('div');\n",
              "      const label = document.createElement('label');\n",
              "      label.textContent = `Downloading \"${filename}\": `;\n",
              "      div.appendChild(label);\n",
              "      const progress = document.createElement('progress');\n",
              "      progress.max = size;\n",
              "      div.appendChild(progress);\n",
              "      document.body.appendChild(div);\n",
              "\n",
              "      const buffers = [];\n",
              "      let downloaded = 0;\n",
              "\n",
              "      const channel = await google.colab.kernel.comms.open(id);\n",
              "      // Send a message to notify the kernel that we're ready.\n",
              "      channel.send({})\n",
              "\n",
              "      for await (const message of channel.messages) {\n",
              "        // Send a message to notify the kernel that we're ready.\n",
              "        channel.send({})\n",
              "        if (message.buffers) {\n",
              "          for (const buffer of message.buffers) {\n",
              "            buffers.push(buffer);\n",
              "            downloaded += buffer.byteLength;\n",
              "            progress.value = downloaded;\n",
              "          }\n",
              "        }\n",
              "      }\n",
              "      const blob = new Blob(buffers, {type: 'application/binary'});\n",
              "      const a = document.createElement('a');\n",
              "      a.href = window.URL.createObjectURL(blob);\n",
              "      a.download = filename;\n",
              "      div.appendChild(a);\n",
              "      a.click();\n",
              "      div.remove();\n",
              "    }\n",
              "  "
            ],
            "text/plain": [
              "<IPython.core.display.Javascript object>"
            ]
          },
          "metadata": {
            "tags": []
          }
        },
        {
          "output_type": "display_data",
          "data": {
            "application/javascript": [
              "download(\"download_c81f38e8-c9fb-48e0-91d0-e2f7d8d238fa\", \"text_classifier.zip\", 418821624)"
            ],
            "text/plain": [
              "<IPython.core.display.Javascript object>"
            ]
          },
          "metadata": {
            "tags": []
          }
        }
      ]
    }
  ]
}